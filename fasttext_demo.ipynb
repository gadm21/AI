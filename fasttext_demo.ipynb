{
  "nbformat": 4,
  "nbformat_minor": 0,
  "metadata": {
    "colab": {
      "name": "fasttext_demo.ipynb",
      "provenance": [],
      "authorship_tag": "ABX9TyOy9MhdFzQ4LQ+GQ44WHGpn",
      "include_colab_link": true
    },
    "kernelspec": {
      "name": "python3",
      "display_name": "Python 3"
    }
  },
  "cells": [
    {
      "cell_type": "markdown",
      "metadata": {
        "id": "view-in-github",
        "colab_type": "text"
      },
      "source": [
        "<a href=\"https://colab.research.google.com/github/gadm21/AI/blob/master/fasttext_demo.ipynb\" target=\"_parent\"><img src=\"https://colab.research.google.com/assets/colab-badge.svg\" alt=\"Open In Colab\"/></a>"
      ]
    },
    {
      "cell_type": "markdown",
      "metadata": {
        "id": "Q7MKvgrpx7j6"
      },
      "source": [
        "#Fake and real news classifier\n"
      ]
    },
    {
      "cell_type": "code",
      "metadata": {
        "id": "0Aoc6Noykb1B"
      },
      "source": [
        "%%capture\n",
        "\n",
        "! wget https://github.com/facebookresearch/fastText/archive/v0.9.2.zip\n",
        "! unzip v0.9.2.zip\n",
        "\n",
        "%cd fastText-0.9.2\n",
        "! make \n",
        "! pip install .\n",
        "\n",
        "%cd .. \n"
      ],
      "execution_count": 1,
      "outputs": []
    },
    {
      "cell_type": "code",
      "metadata": {
        "id": "V11RZSaBn4AC"
      },
      "source": [
        "import pandas as pd \n",
        "import numpy as np\n",
        "\n",
        "def get_dataset():\n",
        "  !wget --load-cookies /tmp/cookies.txt\\\n",
        "   \"https://docs.google.com/uc?export=download&confirm=$(wget --quiet --save-cookies /tmp/cookies.txt\\\n",
        "    --keep-session-cookies --no-check-certificate 'https://docs.google.com/uc?export=download&id=1EzY1IfN_QGCVp9EUVxZ3dZhRF_EUtyJA' -O- \\\n",
        "    | sed -rn 's/.*confirm=([0-9A-Za-z_]+).*/\\1\\n/p')&id=1EzY1IfN_QGCVp9EUVxZ3dZhRF_EUtyJA\" -O kaggle.json && rm -rf /tmp/cookies.txt\n",
        "\n",
        "  !pip install kaggle\n",
        "\n",
        "  !mkdir ~/.kaggle\n",
        "  !cp kaggle.json ~/.kaggle/\n",
        "  !chmod 600 ~/.kaggle/kaggle.json\n",
        "  !kaggle datasets download -d clmentbisaillon/fake-and-real-news-dataset\n",
        "  !unzip 'fake-and-real-news-dataset.zip'\n",
        "\n",
        "def csv_to_txt(csv_path, split_ratio=0.2): \n",
        "\n",
        "  train_txt = csv_path.split('.')[0]+ '_train' + '.txt' \n",
        "  valid_txt = csv_path.split('.')[0]+ '_valid' + '.txt'\n",
        "  valid_len = int(pd.read_csv(csv_path).shape[0] * split_ratio)\n",
        "  with open(train_txt, 'w') as train_txt_file, open(valid_txt, 'w') as valid_txt_file, open(csv_path, 'r') as csv_file :\n",
        "      for i, row in enumerate(csv_file) :\n",
        "        if i > valid_len: train_txt_file.write(row)\n",
        "        else: valid_txt_file.write(row) \n",
        "\n",
        "def csv_splitAndMerge(csv_path1, csv_path2, split_ratio=0.2):\n",
        "  df = pd.read_csv(csv_path1)\n",
        "  df['label'] = 'true'\n",
        "  valid_len = int(df.shape[0]*split_ratio)\n",
        "  valid_df = df.iloc[:valid_len, :] \n",
        "  train_df = df.iloc[valid_len:, :] \n",
        "\n",
        "  df2 = pd.read_csv(csv_path2)\n",
        "  df2['label'] = 'fake'\n",
        "  valid_len2 = int(df2.shape[0]*split_ratio)\n",
        "  valid_df2 = df2.iloc[:valid_len2, :] \n",
        "  train_df2 = df2.iloc[valid_len2:, :] \n",
        "\n",
        "  train_data = pd.concat([train_df, train_df2])\n",
        "  valid_data = pd.concat([valid_df, valid_df2])\n",
        "\n",
        "  train_data = train_data.iloc[np.random.permutation(len(train_data))]\n",
        "  valid_data = valid_data.iloc[np.random.permutation(len(valid_data))]\n",
        "  return train_data, valid_data\n",
        "\n",
        "\n",
        "def to_trainable(df, txt_path):\n",
        "  txt_file = open(txt_path, 'w') \n",
        "\n",
        "  for i, row in df.iterrows():\n",
        "    txt_file.write('__label__'+row['label']+' '+row['text']+'\\n')\n"
      ],
      "execution_count": 2,
      "outputs": []
    },
    {
      "cell_type": "code",
      "metadata": {
        "id": "hvtQWPUNo5eo"
      },
      "source": [
        "%%capture\n",
        "\n",
        "get_dataset()\n",
        "train_data, valid_data  = csv_splitAndMerge('True.csv', 'Fake.csv')\n",
        "\n",
        "to_trainable(train_data, 'train.txt') \n",
        "to_trainable(valid_data, 'valid.txt')"
      ],
      "execution_count": 3,
      "outputs": []
    },
    {
      "cell_type": "code",
      "metadata": {
        "id": "ctGBxAUslSAD"
      },
      "source": [
        "import fasttext \n",
        "model = fasttext.train_supervised(input='train.txt') \n",
        "model.save_model('news_classifier.bin')"
      ],
      "execution_count": 4,
      "outputs": []
    },
    {
      "cell_type": "code",
      "metadata": {
        "id": "_9uqfntJlaVE",
        "outputId": "0953a365-10d4-4bf4-ef4c-5afd9aa45a05",
        "colab": {
          "base_uri": "https://localhost:8080/"
        }
      },
      "source": [
        "model.test(\"valid.txt\")"
      ],
      "execution_count": 6,
      "outputs": [
        {
          "output_type": "execute_result",
          "data": {
            "text/plain": [
              "(8979, 0.9988862902327653, 0.9988862902327653)"
            ]
          },
          "metadata": {
            "tags": []
          },
          "execution_count": 6
        }
      ]
    },
    {
      "cell_type": "code",
      "metadata": {
        "id": "ZUAB69zglhrv",
        "outputId": "23cac6f2-56d2-4814-9c77-879a5ad62c24",
        "colab": {
          "base_uri": "https://localhost:8080/"
        }
      },
      "source": [
        "model.predict(' Donald Trump Sends Out Embarrassing New Year’s Eve Message; This is Disturbing')"
      ],
      "execution_count": 16,
      "outputs": [
        {
          "output_type": "execute_result",
          "data": {
            "text/plain": [
              "(('__label__fake',), array([1.00001001]))"
            ]
          },
          "metadata": {
            "tags": []
          },
          "execution_count": 16
        }
      ]
    },
    {
      "cell_type": "code",
      "metadata": {
        "id": "gTaBkg4Szg5m"
      },
      "source": [
        ""
      ],
      "execution_count": null,
      "outputs": []
    }
  ]
}