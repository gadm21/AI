{
  "nbformat": 4,
  "nbformat_minor": 0,
  "metadata": {
    "colab": {
      "name": "greedy bigo initial.ipynb",
      "provenance": [],
      "mount_file_id": "1eNF8jvu2fNR_BNiQQQHGrRCgV9fhIpSB",
      "authorship_tag": "ABX9TyOTy2F36i6Sh+23zGJIfvqD",
      "include_colab_link": true
    },
    "kernelspec": {
      "name": "python3",
      "display_name": "Python 3"
    }
  },
  "cells": [
    {
      "cell_type": "markdown",
      "metadata": {
        "id": "view-in-github",
        "colab_type": "text"
      },
      "source": [
        "<a href=\"https://colab.research.google.com/github/gadm21/AI/blob/master/greedy_bigo/greedy_bigo_initial.ipynb\" target=\"_parent\"><img src=\"https://colab.research.google.com/assets/colab-badge.svg\" alt=\"Open In Colab\"/></a>"
      ]
    },
    {
      "cell_type": "markdown",
      "metadata": {
        "id": "WadS1cQrvHwo"
      },
      "source": [
        "# Import"
      ]
    },
    {
      "cell_type": "code",
      "metadata": {
        "id": "KnZ12Qv2vI_4"
      },
      "source": [
        "import pandas as pd\r\n",
        "import numpy as np \r\n",
        "import sqlite3"
      ],
      "execution_count": null,
      "outputs": []
    },
    {
      "cell_type": "markdown",
      "metadata": {
        "id": "VgTDd5FhvJo-"
      },
      "source": [
        "# Functions"
      ]
    },
    {
      "cell_type": "code",
      "metadata": {
        "id": "G8p4SgijvKvX"
      },
      "source": [
        "def download_data():\r\n",
        "  !wget --load-cookies /tmp/cookies.txt \"https://docs.google.com/uc?export=download&confirm=$(wget --quiet --save-cookies /tmp/cookies.txt --keep-session-cookies \\\r\n",
        "   --no-check-certificate 'https://docs.google.com/uc?export=download&id=1F3f2Q71U5Em3c0dV8nKmusmDeoS03lD4' \\\r\n",
        "   -O- | sed -rn 's/.*confirm=([0-9A-Za-z_]+).*/\\1\\n/p')&id=1F3f2Q71U5Em3c0dV8nKmusmDeoS03lD4\" -O bigo.txt && rm -rf /tmp/cookies.txt"
      ],
      "execution_count": null,
      "outputs": []
    },
    {
      "cell_type": "markdown",
      "metadata": {
        "id": "R6Jh5aazvUWq"
      },
      "source": [
        "# Play"
      ]
    },
    {
      "cell_type": "code",
      "metadata": {
        "colab": {
          "base_uri": "https://localhost:8080/"
        },
        "id": "nXn40lNKvTYu",
        "outputId": "b27c636e-27b3-4e2d-ba6d-d2f8d3965d97"
      },
      "source": [
        "download_data()"
      ],
      "execution_count": null,
      "outputs": [
        {
          "output_type": "stream",
          "text": [
            "--2021-01-15 16:59:16--  https://docs.google.com/uc?export=download&confirm=nM6X&id=1F3f2Q71U5Em3c0dV8nKmusmDeoS03lD4\n",
            "Resolving docs.google.com (docs.google.com)... 209.85.200.100, 209.85.200.139, 209.85.200.138, ...\n",
            "Connecting to docs.google.com (docs.google.com)|209.85.200.100|:443... connected.\n",
            "HTTP request sent, awaiting response... 302 Moved Temporarily\n",
            "Location: https://doc-00-7c-docs.googleusercontent.com/docs/securesc/ob0vnga949a17nog1i3n0k1707slcnb1/45jikrgecn16nspm8qpvaii93pupcogp/1610729925000/08653928172723524900/01026880919864981647Z/1F3f2Q71U5Em3c0dV8nKmusmDeoS03lD4?e=download [following]\n",
            "--2021-01-15 16:59:16--  https://doc-00-7c-docs.googleusercontent.com/docs/securesc/ob0vnga949a17nog1i3n0k1707slcnb1/45jikrgecn16nspm8qpvaii93pupcogp/1610729925000/08653928172723524900/01026880919864981647Z/1F3f2Q71U5Em3c0dV8nKmusmDeoS03lD4?e=download\n",
            "Resolving doc-00-7c-docs.googleusercontent.com (doc-00-7c-docs.googleusercontent.com)... 108.177.111.132, 2607:f8b0:4001:c07::84\n",
            "Connecting to doc-00-7c-docs.googleusercontent.com (doc-00-7c-docs.googleusercontent.com)|108.177.111.132|:443... connected.\n",
            "HTTP request sent, awaiting response... 302 Found\n",
            "Location: https://docs.google.com/nonceSigner?nonce=6k0c6226k91eq&continue=https://doc-00-7c-docs.googleusercontent.com/docs/securesc/ob0vnga949a17nog1i3n0k1707slcnb1/45jikrgecn16nspm8qpvaii93pupcogp/1610729925000/08653928172723524900/01026880919864981647Z/1F3f2Q71U5Em3c0dV8nKmusmDeoS03lD4?e%3Ddownload&hash=ok2ekanfotv0hp9lahjgrkjtmnnhtbcq [following]\n",
            "--2021-01-15 16:59:16--  https://docs.google.com/nonceSigner?nonce=6k0c6226k91eq&continue=https://doc-00-7c-docs.googleusercontent.com/docs/securesc/ob0vnga949a17nog1i3n0k1707slcnb1/45jikrgecn16nspm8qpvaii93pupcogp/1610729925000/08653928172723524900/01026880919864981647Z/1F3f2Q71U5Em3c0dV8nKmusmDeoS03lD4?e%3Ddownload&hash=ok2ekanfotv0hp9lahjgrkjtmnnhtbcq\n",
            "Connecting to docs.google.com (docs.google.com)|209.85.200.100|:443... connected.\n",
            "HTTP request sent, awaiting response... 302 Found\n",
            "Location: https://doc-00-7c-docs.googleusercontent.com/docs/securesc/ob0vnga949a17nog1i3n0k1707slcnb1/45jikrgecn16nspm8qpvaii93pupcogp/1610729925000/08653928172723524900/01026880919864981647Z/1F3f2Q71U5Em3c0dV8nKmusmDeoS03lD4?e=download&nonce=6k0c6226k91eq&user=01026880919864981647Z&hash=9guj7in38mnj105v68uksjfpff7des32 [following]\n",
            "--2021-01-15 16:59:16--  https://doc-00-7c-docs.googleusercontent.com/docs/securesc/ob0vnga949a17nog1i3n0k1707slcnb1/45jikrgecn16nspm8qpvaii93pupcogp/1610729925000/08653928172723524900/01026880919864981647Z/1F3f2Q71U5Em3c0dV8nKmusmDeoS03lD4?e=download&nonce=6k0c6226k91eq&user=01026880919864981647Z&hash=9guj7in38mnj105v68uksjfpff7des32\n",
            "Connecting to doc-00-7c-docs.googleusercontent.com (doc-00-7c-docs.googleusercontent.com)|108.177.111.132|:443... connected.\n",
            "HTTP request sent, awaiting response... 200 OK\n",
            "Length: unspecified [text/x-sql]\n",
            "Saving to: ‘bigo.txt’\n",
            "\n",
            "bigo.txt                [            <=>     ] 409.08M   171MB/s    in 2.4s    \n",
            "\n",
            "2021-01-15 16:59:19 (171 MB/s) - ‘bigo.txt’ saved [428950574]\n",
            "\n"
          ],
          "name": "stdout"
        }
      ]
    },
    {
      "cell_type": "code",
      "metadata": {
        "id": "E0ry4SGdvdZx"
      },
      "source": [
        "data = []\r\n",
        "with open('bigo.txt', 'r') as file:\r\n",
        "  for line in file : \r\n",
        "    data.append(line.split())"
      ],
      "execution_count": null,
      "outputs": []
    },
    {
      "cell_type": "code",
      "metadata": {
        "colab": {
          "base_uri": "https://localhost:8080/"
        },
        "id": "OfZsAvnwwOqf",
        "outputId": "e4981429-4312-470b-d7ca-c4232fbdc149"
      },
      "source": [
        "#693724\r\n",
        "#693724\r\n",
        "newdata = data[44:]\r\n",
        "for i, line in enumerate(newdata[700000:]):\r\n",
        "  print(i, ': ', len(line), \": \",line) "
      ],
      "execution_count": null,
      "outputs": [
        {
          "output_type": "stream",
          "text": [
            "0 :  14 :  ['(693684,', '596,', '6,', '20210111,', \"'2021-01-10\", \"23:26:51',\", '\\'[{\\\\\"uid\\\\\":494141641,\\\\\"head\\\\\":\\\\\"https://esx.bigolive.tv/eu_live/2u3/1YpNEX_4.jpg?type=20\\\\\",\\\\\"diamond\\\\\":50000,\\\\\"nick_name\\\\\":\\\\\"إيطآلي', '،', '🇮🇹\\\\\"},{\\\\\"uid\\\\\":1821075532,\\\\\"head\\\\\":\\\\\"https://esx.bigolive.tv/na_live/3a2/0BoDzK.jpg\\\\\",\\\\\"diamond\\\\\":33000,\\\\\"nick_name\\\\\":\\\\\"\\U0001f92d\\\\\"},{\\\\\"uid\\\\\":456050584,\\\\\"head\\\\\":\\\\\"https://esx.bigolive.tv/live/3s2/29rD80.jpg\\\\\",\\\\\"diamond\\\\\":30000,\\\\\"nick_name\\\\\":\\\\\"Là', 'Lá', 'La\\\\\"},{\\\\\"uid\\\\\":449863518,\\\\\"head\\\\\":\\\\\"https://esx.bigolive.tv/na_live/3a2/1WCtUK.jpg\\\\\",\\\\\"diamond\\\\\":26000,\\\\\"nick_name\\\\\":\\\\\".\\\\\"},{\\\\\"uid\\\\\":459850300,\\\\\"head\\\\\":\\\\\"https://esx.bigolive.tv/live/3s2/0B9gHs.png\\\\\",\\\\\"diamond\\\\\":25000,\\\\\"nick_name\\\\\":\\\\\"Bóp', 'Chim', '🐦', 'Đi\\\\\"}]\\'),']\n",
            "1 :  11 :  ['(693685,', '597,', '6,', '20210111,', \"'2021-01-10\", \"23:27:35',\", '\\'[{\\\\\"uid\\\\\":455381086,\\\\\"head\\\\\":\\\\\"https://esx.bigolive.tv/live/g1/M06/05/71/LXz8F1lKHcWICLUWAAAGUlf6IQ8AAIfnwMKs6sAAAZq235.jpg\\\\\",\\\\\"diamond\\\\\":85000,\\\\\"nick_name\\\\\":\\\\\"😞😞😞\\\\\"},{\\\\\"uid\\\\\":456050584,\\\\\"head\\\\\":\\\\\"https://esx.bigolive.tv/live/3s2/29rD80.jpg\\\\\",\\\\\"diamond\\\\\":65000,\\\\\"nick_name\\\\\":\\\\\"Là', 'Lá', 'La\\\\\"},{\\\\\"uid\\\\\":494141641,\\\\\"head\\\\\":\\\\\"https://esx.bigolive.tv/eu_live/2u3/1YpNEX_4.jpg?type=20\\\\\",\\\\\"diamond\\\\\":35000,\\\\\"nick_name\\\\\":\\\\\"إيطآلي', '،', '🇮🇹\\\\\"},{\\\\\"uid\\\\\":1821075532,\\\\\"head\\\\\":\\\\\"https://esx.bigolive.tv/na_live/3a2/0BoDzK.jpg\\\\\",\\\\\"diamond\\\\\":33500,\\\\\"nick_name\\\\\":\\\\\"\\U0001f92d\\\\\"},{\\\\\"uid\\\\\":449863518,\\\\\"head\\\\\":\\\\\"https://esx.bigolive.tv/na_live/3a2/1WCtUK.jpg\\\\\",\\\\\"diamond\\\\\":25000,\\\\\"nick_name\\\\\":\\\\\".\\\\\"}]\\'),']\n",
            "2 :  7 :  ['(693686,', '598,', '7,', '20210111,', \"'2021-01-10\", \"23:28:23',\", '\\'[{\\\\\"uid\\\\\":455381086,\\\\\"head\\\\\":\\\\\"https://esx.bigolive.tv/live/g1/M06/05/71/LXz8F1lKHcWICLUWAAAGUlf6IQ8AAIfnwMKs6sAAAZq235.jpg\\\\\",\\\\\"diamond\\\\\":75000,\\\\\"nick_name\\\\\":\\\\\"😞😞😞\\\\\"},{\\\\\"uid\\\\\":1821075532,\\\\\"head\\\\\":\\\\\"https://esx.bigolive.tv/na_live/3a2/0BoDzK.jpg\\\\\",\\\\\"diamond\\\\\":36500,\\\\\"nick_name\\\\\":\\\\\"\\U0001f92d\\\\\"},{\\\\\"uid\\\\\":448363945,\\\\\"head\\\\\":\\\\\"https://esx.bigolive.tv/eu_live/2u2/1ChTH8_4.jpg?type=20\\\\\",\\\\\"diamond\\\\\":25000,\\\\\"nick_name\\\\\":\\\\\"koja\\\\\"},{\\\\\"uid\\\\\":1511141622,\\\\\"head\\\\\":\\\\\"https://esx.bigolive.tv/live/7h2/M09/34/29/8vobAF4jPG6IToMzAAAQN-2AD6QAA4zmgN5gG8AABBP695.jpg\\\\\",\\\\\"diamond\\\\\":23000,\\\\\"nick_name\\\\\":\\\\\"OnlyT\\\\\"},{\\\\\"uid\\\\\":1711424064,\\\\\"head\\\\\":\\\\\"https://esx.bigolive.tv/na_live/3a2/1lPmhZ.jpg\\\\\",\\\\\"diamond\\\\\":21000,\\\\\"nick_name\\\\\":\\\\\"Tr@n\\\\\"}]\\'),']\n",
            "3 :  9 :  ['(693687,', '599,', '5,', '20210111,', \"'2021-01-10\", \"23:29:04',\", '\\'[{\\\\\"uid\\\\\":1821075532,\\\\\"head\\\\\":\\\\\"https://esx.bigolive.tv/na_live/3a2/0BoDzK.jpg\\\\\",\\\\\"diamond\\\\\":40500,\\\\\"nick_name\\\\\":\\\\\"\\U0001f92d\\\\\"},{\\\\\"uid\\\\\":455381086,\\\\\"head\\\\\":\\\\\"https://esx.bigolive.tv/live/g1/M06/05/71/LXz8F1lKHcWICLUWAAAGUlf6IQ8AAIfnwMKs6sAAAZq235.jpg\\\\\",\\\\\"diamond\\\\\":40000,\\\\\"nick_name\\\\\":\\\\\"😞😞😞\\\\\"},{\\\\\"uid\\\\\":494141641,\\\\\"head\\\\\":\\\\\"https://esx.bigolive.tv/eu_live/2u3/1YpNEX_4.jpg?type=20\\\\\",\\\\\"diamond\\\\\":35000,\\\\\"nick_name\\\\\":\\\\\"إيطآلي', '،', '🇮🇹\\\\\"},{\\\\\"uid\\\\\":1851611983,\\\\\"head\\\\\":\\\\\"https://esx.bigolive.tv/na_live/3a2/1cQMV2.png\\\\\",\\\\\"diamond\\\\\":30000,\\\\\"nick_name\\\\\":\\\\\"Timur\\\\\"},{\\\\\"uid\\\\\":448363945,\\\\\"head\\\\\":\\\\\"https://esx.bigolive.tv/eu_live/2u2/1ChTH8_4.jpg?type=20\\\\\",\\\\\"diamond\\\\\":26250,\\\\\"nick_name\\\\\":\\\\\"koja\\\\\"}]\\'),']\n",
            "4 :  9 :  ['(693688,', '600,', '5,', '20210111,', \"'2021-01-10\", \"23:29:53',\", '\\'[{\\\\\"uid\\\\\":1821075532,\\\\\"head\\\\\":\\\\\"https://esx.bigolive.tv/na_live/3a2/0BoDzK.jpg\\\\\",\\\\\"diamond\\\\\":42500,\\\\\"nick_name\\\\\":\\\\\"\\U0001f92d\\\\\"},{\\\\\"uid\\\\\":494141641,\\\\\"head\\\\\":\\\\\"https://esx.bigolive.tv/eu_live/2u3/1YpNEX_4.jpg?type=20\\\\\",\\\\\"diamond\\\\\":25000,\\\\\"nick_name\\\\\":\\\\\"إيطآلي', '،', '🇮🇹\\\\\"},{\\\\\"uid\\\\\":1511141622,\\\\\"head\\\\\":\\\\\"https://esx.bigolive.tv/live/7h2/M09/34/29/8vobAF4jPG6IToMzAAAQN-2AD6QAA4zmgN5gG8AABBP695.jpg\\\\\",\\\\\"diamond\\\\\":21500,\\\\\"nick_name\\\\\":\\\\\"OnlyT\\\\\"},{\\\\\"uid\\\\\":1826724394,\\\\\"head\\\\\":\\\\\"https://esx.bigolive.tv/live/7h2/M00/47/2E/8fobAF3FPy2IDxheAAANkLDgzcgAAoVpwIgfiMAAA2o738.jpg\\\\\",\\\\\"diamond\\\\\":21000,\\\\\"nick_name\\\\\":\\\\\"💳💘테리💘💳\\\\\"},{\\\\\"uid\\\\\":1851611983,\\\\\"head\\\\\":\\\\\"https://esx.bigolive.tv/na_live/3a2/1cQMV2.png\\\\\",\\\\\"diamond\\\\\":20000,\\\\\"nick_name\\\\\":\\\\\"Timur\\\\\"}]\\'),']\n",
            "5 :  11 :  ['(693689,', '601,', '8,', '20210111,', \"'2021-01-10\", \"23:30:35',\", '\\'[{\\\\\"uid\\\\\":456050584,\\\\\"head\\\\\":\\\\\"https://esx.bigolive.tv/live/3s2/29rD80.jpg\\\\\",\\\\\"diamond\\\\\":55000,\\\\\"nick_name\\\\\":\\\\\"Là', 'Lá', 'La\\\\\"},{\\\\\"uid\\\\\":494141641,\\\\\"head\\\\\":\\\\\"https://esx.bigolive.tv/eu_live/2u3/1YpNEX_4.jpg?type=20\\\\\",\\\\\"diamond\\\\\":40000,\\\\\"nick_name\\\\\":\\\\\"إيطآلي', '،', '🇮🇹\\\\\"},{\\\\\"uid\\\\\":448363945,\\\\\"head\\\\\":\\\\\"https://esx.bigolive.tv/eu_live/2u2/1ChTH8_4.jpg?type=20\\\\\",\\\\\"diamond\\\\\":22500,\\\\\"nick_name\\\\\":\\\\\"koja\\\\\"},{\\\\\"uid\\\\\":1511141622,\\\\\"head\\\\\":\\\\\"https://esx.bigolive.tv/live/7h2/M09/34/29/8vobAF4jPG6IToMzAAAQN-2AD6QAA4zmgN5gG8AABBP695.jpg\\\\\",\\\\\"diamond\\\\\":21500,\\\\\"nick_name\\\\\":\\\\\"OnlyT\\\\\"},{\\\\\"uid\\\\\":416303704,\\\\\"head\\\\\":\\\\\"https://esx.bigolive.tv/na_live/3a2/1kVfdZ.png\\\\\",\\\\\"diamond\\\\\":16000,\\\\\"nick_name\\\\\":\\\\\"🦅🦅🦅\\\\\"}]\\'),']\n",
            "6 :  10 :  ['(693690,', '602,', '2,', '20210111,', \"'2021-01-10\", \"23:31:20',\", '\\'[{\\\\\"uid\\\\\":455381086,\\\\\"head\\\\\":\\\\\"https://esx.bigolive.tv/live/g1/M06/05/71/LXz8F1lKHcWICLUWAAAGUlf6IQ8AAIfnwMKs6sAAAZq235.jpg\\\\\",\\\\\"diamond\\\\\":135000,\\\\\"nick_name\\\\\":\\\\\"😞😞😞\\\\\"},{\\\\\"uid\\\\\":494141641,\\\\\"head\\\\\":\\\\\"https://esx.bigolive.tv/eu_live/2u3/1YpNEX_4.jpg?type=20\\\\\",\\\\\"diamond\\\\\":30000,\\\\\"nick_name\\\\\":\\\\\"إيطآلي', '،', '🇮🇹\\\\\"},{\\\\\"uid\\\\\":448363945,\\\\\"head\\\\\":\\\\\"https://esx.bigolive.tv/eu_live/2u2/1ChTH8_4.jpg?type=20\\\\\",\\\\\"diamond\\\\\":30000,\\\\\"nick_name\\\\\":\\\\\"koja\\\\\"},{\\\\\"uid\\\\\":416303704,\\\\\"head\\\\\":\\\\\"https://esx.bigolive.tv/na_live/3a2/1kVfdZ.png\\\\\",\\\\\"diamond\\\\\":30000,\\\\\"nick_name\\\\\":\\\\\"🦅🦅🦅\\\\\"},{\\\\\"uid\\\\\":1663094180,\\\\\"head\\\\\":\\\\\"https://esx.bigolive.tv/eu_live/2u3/26rXf1_4.png?type=20\\\\\",\\\\\"diamond\\\\\":30000,\\\\\"nick_name\\\\\":\\\\\"🐅javed', 'Sandila❤\\\\\"}]\\'),']\n",
            "7 :  11 :  ['(693691,', '603,', '2,', '20210111,', \"'2021-01-10\", \"23:32:06',\", '\\'[{\\\\\"uid\\\\\":456050584,\\\\\"head\\\\\":\\\\\"https://esx.bigolive.tv/live/3s2/29rD80.jpg\\\\\",\\\\\"diamond\\\\\":90000,\\\\\"nick_name\\\\\":\\\\\"Là', 'Lá', 'La\\\\\"},{\\\\\"uid\\\\\":494141641,\\\\\"head\\\\\":\\\\\"https://esx.bigolive.tv/eu_live/2u3/1YpNEX_4.jpg?type=20\\\\\",\\\\\"diamond\\\\\":60450,\\\\\"nick_name\\\\\":\\\\\"إيطآلي', '،', '🇮🇹\\\\\"},{\\\\\"uid\\\\\":1851611983,\\\\\"head\\\\\":\\\\\"https://esx.bigolive.tv/na_live/3a2/1cQMV2.png\\\\\",\\\\\"diamond\\\\\":60000,\\\\\"nick_name\\\\\":\\\\\"Timur\\\\\"},{\\\\\"uid\\\\\":1741564897,\\\\\"head\\\\\":\\\\\"https://esx.bigolive.tv/eu_live/2u3/04RppD_4.jpg?type=20\\\\\",\\\\\"diamond\\\\\":46500,\\\\\"nick_name\\\\\":\\\\\"𝑺𝑨𝑹𝑯𝑨𝑵𝑰📿\\\\\"},{\\\\\"uid\\\\\":416303704,\\\\\"head\\\\\":\\\\\"https://esx.bigolive.tv/na_live/3a2/1kVfdZ.png\\\\\",\\\\\"diamond\\\\\":45000,\\\\\"nick_name\\\\\":\\\\\"🦅🦅🦅\\\\\"}]\\'),']\n",
            "8 :  11 :  ['(693692,', '604,', '6,', '20210111,', \"'2021-01-10\", \"23:32:50',\", '\\'[{\\\\\"uid\\\\\":455381086,\\\\\"head\\\\\":\\\\\"https://esx.bigolive.tv/live/g1/M06/05/71/LXz8F1lKHcWICLUWAAAGUlf6IQ8AAIfnwMKs6sAAAZq235.jpg\\\\\",\\\\\"diamond\\\\\":70000,\\\\\"nick_name\\\\\":\\\\\"😞😞😞\\\\\"},{\\\\\"uid\\\\\":456050584,\\\\\"head\\\\\":\\\\\"https://esx.bigolive.tv/live/3s2/29rD80.jpg\\\\\",\\\\\"diamond\\\\\":56000,\\\\\"nick_name\\\\\":\\\\\"Là', 'Lá', 'La\\\\\"},{\\\\\"uid\\\\\":1582370376,\\\\\"head\\\\\":\\\\\"https://esx.bigolive.tv/live/3s2/0qSz5n.png\\\\\",\\\\\"diamond\\\\\":30000,\\\\\"nick_name\\\\\":\\\\\"Lê🇱🇷Minh🎵🎵🎵\\\\\"},{\\\\\"uid\\\\\":494141641,\\\\\"head\\\\\":\\\\\"https://esx.bigolive.tv/eu_live/2u3/1YpNEX_4.jpg?type=20\\\\\",\\\\\"diamond\\\\\":25000,\\\\\"nick_name\\\\\":\\\\\"إيطآلي', '،', '🇮🇹\\\\\"},{\\\\\"uid\\\\\":416303704,\\\\\"head\\\\\":\\\\\"https://esx.bigolive.tv/na_live/3a2/1kVfdZ.png\\\\\",\\\\\"diamond\\\\\":25000,\\\\\"nick_name\\\\\":\\\\\"🦅🦅🦅\\\\\"}]\\'),']\n",
            "9 :  9 :  ['(693693,', '605,', '8,', '20210111,', \"'2021-01-10\", \"23:33:37',\", '\\'[{\\\\\"uid\\\\\":455381086,\\\\\"head\\\\\":\\\\\"https://esx.bigolive.tv/live/g1/M06/05/71/LXz8F1lKHcWICLUWAAAGUlf6IQ8AAIfnwMKs6sAAAZq235.jpg\\\\\",\\\\\"diamond\\\\\":80000,\\\\\"nick_name\\\\\":\\\\\"😞😞😞\\\\\"},{\\\\\"uid\\\\\":456050584,\\\\\"head\\\\\":\\\\\"https://esx.bigolive.tv/live/3s2/29rD80.jpg\\\\\",\\\\\"diamond\\\\\":50000,\\\\\"nick_name\\\\\":\\\\\"Là', 'Lá', 'La\\\\\"},{\\\\\"uid\\\\\":1851611983,\\\\\"head\\\\\":\\\\\"https://esx.bigolive.tv/na_live/3a2/1cQMV2.png\\\\\",\\\\\"diamond\\\\\":45000,\\\\\"nick_name\\\\\":\\\\\"Timur\\\\\"},{\\\\\"uid\\\\\":448363945,\\\\\"head\\\\\":\\\\\"https://esx.bigolive.tv/eu_live/2u2/1ChTH8_4.jpg?type=20\\\\\",\\\\\"diamond\\\\\":30500,\\\\\"nick_name\\\\\":\\\\\"koja\\\\\"},{\\\\\"uid\\\\\":416303704,\\\\\"head\\\\\":\\\\\"https://esx.bigolive.tv/na_live/3a2/1kVfdZ.png\\\\\",\\\\\"diamond\\\\\":30000,\\\\\"nick_name\\\\\":\\\\\"🦅🦅🦅\\\\\"}]\\'),']\n",
            "10 :  11 :  ['(693694,', '606,', '6,', '20210111,', \"'2021-01-10\", \"23:34:19',\", '\\'[{\\\\\"uid\\\\\":456050584,\\\\\"head\\\\\":\\\\\"https://esx.bigolive.tv/live/3s2/29rD80.jpg\\\\\",\\\\\"diamond\\\\\":45000,\\\\\"nick_name\\\\\":\\\\\"Là', 'Lá', 'La\\\\\"},{\\\\\"uid\\\\\":450179116,\\\\\"head\\\\\":\\\\\"https://esx.bigolive.tv/na_live/3a1/0YYkWu.png\\\\\",\\\\\"diamond\\\\\":35000,\\\\\"nick_name\\\\\":\\\\\"Top', '1', '🤣\\\\\"},{\\\\\"uid\\\\\":416303704,\\\\\"head\\\\\":\\\\\"https://esx.bigolive.tv/na_live/3a2/1kVfdZ.png\\\\\",\\\\\"diamond\\\\\":25000,\\\\\"nick_name\\\\\":\\\\\"🦅🦅🦅\\\\\"},{\\\\\"uid\\\\\":1851611983,\\\\\"head\\\\\":\\\\\"https://esx.bigolive.tv/na_live/3a2/1cQMV2.png\\\\\",\\\\\"diamond\\\\\":25000,\\\\\"nick_name\\\\\":\\\\\"Timur\\\\\"},{\\\\\"uid\\\\\":1511141622,\\\\\"head\\\\\":\\\\\"https://esx.bigolive.tv/live/7h2/M09/34/29/8vobAF4jPG6IToMzAAAQN-2AD6QAA4zmgN5gG8AABBP695.jpg\\\\\",\\\\\"diamond\\\\\":25000,\\\\\"nick_name\\\\\":\\\\\"OnlyT\\\\\"}]\\'),']\n",
            "11 :  9 :  ['(693695,', '607,', '8,', '20210111,', \"'2021-01-10\", \"23:35:08',\", '\\'[{\\\\\"uid\\\\\":455381086,\\\\\"head\\\\\":\\\\\"https://esx.bigolive.tv/live/g1/M06/05/71/LXz8F1lKHcWICLUWAAAGUlf6IQ8AAIfnwMKs6sAAAZq235.jpg\\\\\",\\\\\"diamond\\\\\":80000,\\\\\"nick_name\\\\\":\\\\\"😞😞😞\\\\\"},{\\\\\"uid\\\\\":456050584,\\\\\"head\\\\\":\\\\\"https://esx.bigolive.tv/live/3s2/29rD80.jpg\\\\\",\\\\\"diamond\\\\\":45000,\\\\\"nick_name\\\\\":\\\\\"Là', 'Lá', 'La\\\\\"},{\\\\\"uid\\\\\":1515040667,\\\\\"head\\\\\":\\\\\"https://esx.bigolive.tv/live/3s2/0xOJOI.jpg\\\\\",\\\\\"diamond\\\\\":45000,\\\\\"nick_name\\\\\":\\\\\"AIANG🍒\\\\\"},{\\\\\"uid\\\\\":448363945,\\\\\"head\\\\\":\\\\\"https://esx.bigolive.tv/eu_live/2u2/1ChTH8_4.jpg?type=20\\\\\",\\\\\"diamond\\\\\":30000,\\\\\"nick_name\\\\\":\\\\\"koja\\\\\"},{\\\\\"uid\\\\\":416303704,\\\\\"head\\\\\":\\\\\"https://esx.bigolive.tv/na_live/3a2/1kVfdZ.png\\\\\",\\\\\"diamond\\\\\":25000,\\\\\"nick_name\\\\\":\\\\\"🦅🦅🦅\\\\\"}]\\'),']\n",
            "12 :  9 :  ['(693696,', '608,', '5,', '20210111,', \"'2021-01-10\", \"23:35:50',\", '\\'[{\\\\\"uid\\\\\":436008128,\\\\\"head\\\\\":\\\\\"https://esx.bigolive.tv/na_live/3a1/2UlF3w.jpg\\\\\",\\\\\"diamond\\\\\":95000,\\\\\"nick_name\\\\\":\\\\\".\\\\\"},{\\\\\"uid\\\\\":416303704,\\\\\"head\\\\\":\\\\\"https://esx.bigolive.tv/na_live/3a2/1kVfdZ.png\\\\\",\\\\\"diamond\\\\\":35000,\\\\\"nick_name\\\\\":\\\\\"🦅🦅🦅\\\\\"},{\\\\\"uid\\\\\":448363945,\\\\\"head\\\\\":\\\\\"https://esx.bigolive.tv/eu_live/2u2/1ChTH8_4.jpg?type=20\\\\\",\\\\\"diamond\\\\\":33000,\\\\\"nick_name\\\\\":\\\\\"koja\\\\\"},{\\\\\"uid\\\\\":494141641,\\\\\"head\\\\\":\\\\\"https://esx.bigolive.tv/eu_live/2u3/1YpNEX_4.jpg?type=20\\\\\",\\\\\"diamond\\\\\":30000,\\\\\"nick_name\\\\\":\\\\\"إيطآلي', '،', '🇮🇹\\\\\"},{\\\\\"uid\\\\\":1851611983,\\\\\"head\\\\\":\\\\\"https://esx.bigolive.tv/na_live/3a2/1cQMV2.png\\\\\",\\\\\"diamond\\\\\":30000,\\\\\"nick_name\\\\\":\\\\\"Timur\\\\\"}]\\'),']\n",
            "13 :  11 :  ['(693697,', '609,', '5,', '20210111,', \"'2021-01-10\", \"23:36:34',\", '\\'[{\\\\\"uid\\\\\":416303704,\\\\\"head\\\\\":\\\\\"https://esx.bigolive.tv/na_live/3a2/1kVfdZ.png\\\\\",\\\\\"diamond\\\\\":35000,\\\\\"nick_name\\\\\":\\\\\"🦅🦅🦅\\\\\"},{\\\\\"uid\\\\\":448363945,\\\\\"head\\\\\":\\\\\"https://esx.bigolive.tv/eu_live/2u2/1ChTH8_4.jpg?type=20\\\\\",\\\\\"diamond\\\\\":32500,\\\\\"nick_name\\\\\":\\\\\"koja\\\\\"},{\\\\\"uid\\\\\":494141641,\\\\\"head\\\\\":\\\\\"https://esx.bigolive.tv/eu_live/2u3/1YpNEX_4.jpg?type=20\\\\\",\\\\\"diamond\\\\\":30000,\\\\\"nick_name\\\\\":\\\\\"إيطآلي', '،', '🇮🇹\\\\\"},{\\\\\"uid\\\\\":1795505390,\\\\\"head\\\\\":\\\\\"https://esx.bigolive.tv/live/7h1/M05/22/65/svobAF4s8o2IU7ouAAAP8wfLlRAABxWzgP_yLAAABAL629.jpg\\\\\",\\\\\"diamond\\\\\":30000,\\\\\"nick_name\\\\\":\\\\\"ᴹ', 'ᴿ.Եօթҽղց', '🎭\\\\\"},{\\\\\"uid\\\\\":1821075532,\\\\\"head\\\\\":\\\\\"https://esx.bigolive.tv/na_live/3a2/0BoDzK.jpg\\\\\",\\\\\"diamond\\\\\":26000,\\\\\"nick_name\\\\\":\\\\\"\\U0001f92d\\\\\"}]\\'),']\n",
            "14 :  9 :  ['(693698,', '610,', '8,', '20210111,', \"'2021-01-10\", \"23:37:21',\", '\\'[{\\\\\"uid\\\\\":1838644527,\\\\\"head\\\\\":\\\\\"https://esx.bigolive.tv/live/g1/M06/05/71/LXz8F1lKHcWICLUWAAAGUlf6IQ8AAIfnwMKs6sAAAZq235.jpg\\\\\",\\\\\"diamond\\\\\":70000,\\\\\"nick_name\\\\\":\\\\\"DCT\\\\\"},{\\\\\"uid\\\\\":456050584,\\\\\"head\\\\\":\\\\\"https://esx.bigolive.tv/live/3s2/29rD80.jpg\\\\\",\\\\\"diamond\\\\\":65000,\\\\\"nick_name\\\\\":\\\\\"Là', 'Lá', 'La\\\\\"},{\\\\\"uid\\\\\":455381086,\\\\\"head\\\\\":\\\\\"https://esx.bigolive.tv/live/g1/M06/05/71/LXz8F1lKHcWICLUWAAAGUlf6IQ8AAIfnwMKs6sAAAZq235.jpg\\\\\",\\\\\"diamond\\\\\":50000,\\\\\"nick_name\\\\\":\\\\\"😞😞😞\\\\\"},{\\\\\"uid\\\\\":1851611983,\\\\\"head\\\\\":\\\\\"https://esx.bigolive.tv/na_live/3a2/1cQMV2.png\\\\\",\\\\\"diamond\\\\\":45000,\\\\\"nick_name\\\\\":\\\\\"Timur\\\\\"},{\\\\\"uid\\\\\":448363945,\\\\\"head\\\\\":\\\\\"https://esx.bigolive.tv/eu_live/2u2/1ChTH8_4.jpg?type=20\\\\\",\\\\\"diamond\\\\\":38500,\\\\\"nick_name\\\\\":\\\\\"koja\\\\\"}]\\'),']\n",
            "15 :  9 :  ['(693699,', '611,', '7,', '20210111,', \"'2021-01-10\", \"23:38:04',\", '\\'[{\\\\\"uid\\\\\":455381086,\\\\\"head\\\\\":\\\\\"https://esx.bigolive.tv/live/g1/M06/05/71/LXz8F1lKHcWICLUWAAAGUlf6IQ8AAIfnwMKs6sAAAZq235.jpg\\\\\",\\\\\"diamond\\\\\":55250,\\\\\"nick_name\\\\\":\\\\\"😞😞😞\\\\\"},{\\\\\"uid\\\\\":1821075532,\\\\\"head\\\\\":\\\\\"https://esx.bigolive.tv/na_live/3a2/0BoDzK.jpg\\\\\",\\\\\"diamond\\\\\":36500,\\\\\"nick_name\\\\\":\\\\\"\\U0001f92d\\\\\"},{\\\\\"uid\\\\\":456050584,\\\\\"head\\\\\":\\\\\"https://esx.bigolive.tv/live/3s2/29rD80.jpg\\\\\",\\\\\"diamond\\\\\":26000,\\\\\"nick_name\\\\\":\\\\\"Là', 'Lá', 'La\\\\\"},{\\\\\"uid\\\\\":416303704,\\\\\"head\\\\\":\\\\\"https://esx.bigolive.tv/na_live/3a2/1kVfdZ.png\\\\\",\\\\\"diamond\\\\\":25000,\\\\\"nick_name\\\\\":\\\\\"🦅🦅🦅\\\\\"},{\\\\\"uid\\\\\":1521707570,\\\\\"head\\\\\":\\\\\"https://esx.bigolive.tv/eu_live/2u3/24buAa.jpg\\\\\",\\\\\"diamond\\\\\":25000,\\\\\"nick_name\\\\\":\\\\\"◥◣•༺[ReVo]༻•◢◤🍜\\\\\"}]\\'),']\n",
            "16 :  11 :  ['(693700,', '612,', '7,', '20210111,', \"'2021-01-10\", \"23:38:52',\", '\\'[{\\\\\"uid\\\\\":1821075532,\\\\\"head\\\\\":\\\\\"https://esx.bigolive.tv/na_live/3a2/0BoDzK.jpg\\\\\",\\\\\"diamond\\\\\":42500,\\\\\"nick_name\\\\\":\\\\\"\\U0001f92d\\\\\"},{\\\\\"uid\\\\\":1515040667,\\\\\"head\\\\\":\\\\\"https://esx.bigolive.tv/live/3s2/0xOJOI.jpg\\\\\",\\\\\"diamond\\\\\":35000,\\\\\"nick_name\\\\\":\\\\\"AIANG🍒\\\\\"},{\\\\\"uid\\\\\":456050584,\\\\\"head\\\\\":\\\\\"https://esx.bigolive.tv/live/3s2/29rD80.jpg\\\\\",\\\\\"diamond\\\\\":25500,\\\\\"nick_name\\\\\":\\\\\"Là', 'Lá', 'La\\\\\"},{\\\\\"uid\\\\\":1763300753,\\\\\"head\\\\\":\\\\\"https://esx.bigolive.tv/live/3s2/1icRIM.jpg\\\\\",\\\\\"diamond\\\\\":25000,\\\\\"nick_name\\\\\":\\\\\"kỹ', 'sư', 'hẻm\\\\\"},{\\\\\"uid\\\\\":1711424064,\\\\\"head\\\\\":\\\\\"https://esx.bigolive.tv/na_live/3a2/1lPmhZ.jpg\\\\\",\\\\\"diamond\\\\\":25000,\\\\\"nick_name\\\\\":\\\\\"Tr@n\\\\\"}]\\'),']\n",
            "17 :  8 :  ['(693701,', '613,', '5,', '20210111,', \"'2021-01-10\", \"23:39:34',\", '\\'[{\\\\\"uid\\\\\":455381086,\\\\\"head\\\\\":\\\\\"https://esx.bigolive.tv/live/g1/M06/05/71/LXz8F1lKHcWICLUWAAAGUlf6IQ8AAIfnwMKs6sAAAZq235.jpg\\\\\",\\\\\"diamond\\\\\":82000,\\\\\"nick_name\\\\\":\\\\\"😞😞😞\\\\\"},{\\\\\"uid\\\\\":1821075532,\\\\\"head\\\\\":\\\\\"https://esx.bigolive.tv/na_live/3a2/0BoDzK.jpg\\\\\",\\\\\"diamond\\\\\":40000,\\\\\"nick_name\\\\\":\\\\\"\\U0001f92d\\\\\"},{\\\\\"uid\\\\\":1515040667,\\\\\"head\\\\\":\\\\\"https://esx.bigolive.tv/live/3s2/0xOJOI.jpg\\\\\",\\\\\"diamond\\\\\":35000,\\\\\"nick_name\\\\\":\\\\\"AIANG🍒\\\\\"},{\\\\\"uid\\\\\":1638854220,\\\\\"head\\\\\":\\\\\"https://esx.bigolive.tv/eu_live/2u3/08iP2i_4.jpg?type=20\\\\\",\\\\\"diamond\\\\\":30000,\\\\\"nick_name\\\\\":\\\\\"💎🌜KHAN', '🌛💎🇧\\\\\"},{\\\\\"uid\\\\\":416303704,\\\\\"head\\\\\":\\\\\"https://esx.bigolive.tv/na_live/3a2/1kVfdZ.png\\\\\",\\\\\"diamond\\\\\":25000,\\\\\"nick_name\\\\\":\\\\\"🦅🦅🦅\\\\\"}]\\'),']\n",
            "18 :  7 :  ['(693702,', '614,', '1,', '20210111,', \"'2021-01-10\", \"23:40:23',\", '\\'[{\\\\\"uid\\\\\":455381086,\\\\\"head\\\\\":\\\\\"https://esx.bigolive.tv/live/g1/M06/05/71/LXz8F1lKHcWICLUWAAAGUlf6IQ8AAIfnwMKs6sAAAZq235.jpg\\\\\",\\\\\"diamond\\\\\":90000,\\\\\"nick_name\\\\\":\\\\\"😞😞😞\\\\\"},{\\\\\"uid\\\\\":416303704,\\\\\"head\\\\\":\\\\\"https://esx.bigolive.tv/na_live/3a2/1kVfdZ.png\\\\\",\\\\\"diamond\\\\\":40000,\\\\\"nick_name\\\\\":\\\\\"🦅🦅🦅\\\\\"},{\\\\\"uid\\\\\":1821075532,\\\\\"head\\\\\":\\\\\"https://esx.bigolive.tv/na_live/3a2/0BoDzK.jpg\\\\\",\\\\\"diamond\\\\\":34000,\\\\\"nick_name\\\\\":\\\\\"\\U0001f92d\\\\\"},{\\\\\"uid\\\\\":1741564897,\\\\\"head\\\\\":\\\\\"https://esx.bigolive.tv/eu_live/2u3/04RppD_4.jpg?type=20\\\\\",\\\\\"diamond\\\\\":29000,\\\\\"nick_name\\\\\":\\\\\"𝑺𝑨𝑹𝑯𝑨𝑵𝑰📿\\\\\"},{\\\\\"uid\\\\\":1511141622,\\\\\"head\\\\\":\\\\\"https://esx.bigolive.tv/live/7h2/M09/34/29/8vobAF4jPG6IToMzAAAQN-2AD6QAA4zmgN5gG8AABBP695.jpg\\\\\",\\\\\"diamond\\\\\":25000,\\\\\"nick_name\\\\\":\\\\\"OnlyT\\\\\"}]\\'),']\n",
            "19 :  11 :  ['(693703,', '615,', '1,', '20210111,', \"'2021-01-10\", \"23:41:06',\", '\\'[{\\\\\"uid\\\\\":416303704,\\\\\"head\\\\\":\\\\\"https://esx.bigolive.tv/na_live/3a2/1kVfdZ.png\\\\\",\\\\\"diamond\\\\\":60000,\\\\\"nick_name\\\\\":\\\\\"🦅🦅🦅\\\\\"},{\\\\\"uid\\\\\":1663094180,\\\\\"head\\\\\":\\\\\"https://esx.bigolive.tv/eu_live/2u3/26rXf1_4.png?type=20\\\\\",\\\\\"diamond\\\\\":50000,\\\\\"nick_name\\\\\":\\\\\"🐅javed', 'Sandila❤\\\\\"},{\\\\\"uid\\\\\":1821075532,\\\\\"head\\\\\":\\\\\"https://esx.bigolive.tv/na_live/3a2/0BoDzK.jpg\\\\\",\\\\\"diamond\\\\\":43000,\\\\\"nick_name\\\\\":\\\\\"\\U0001f92d\\\\\"},{\\\\\"uid\\\\\":1851611983,\\\\\"head\\\\\":\\\\\"https://esx.bigolive.tv/na_live/3a2/1cQMV2.png\\\\\",\\\\\"diamond\\\\\":40000,\\\\\"nick_name\\\\\":\\\\\"Timur\\\\\"},{\\\\\"uid\\\\\":459850300,\\\\\"head\\\\\":\\\\\"https://esx.bigolive.tv/live/3s2/0B9gHs.png\\\\\",\\\\\"diamond\\\\\":30000,\\\\\"nick_name\\\\\":\\\\\"Bóp', 'Chim', '🐦', 'Đi\\\\\"}]\\'),']\n",
            "20 :  7 :  ['(693704,', '616,', '5,', '20210111,', \"'2021-01-10\", \"23:41:49',\", '\\'[{\\\\\"uid\\\\\":1821075532,\\\\\"head\\\\\":\\\\\"https://esx.bigolive.tv/na_live/3a2/0BoDzK.jpg\\\\\",\\\\\"diamond\\\\\":80000,\\\\\"nick_name\\\\\":\\\\\"\\U0001f92d\\\\\"},{\\\\\"uid\\\\\":1851611983,\\\\\"head\\\\\":\\\\\"https://esx.bigolive.tv/na_live/3a2/1cQMV2.png\\\\\",\\\\\"diamond\\\\\":40000,\\\\\"nick_name\\\\\":\\\\\"Timur\\\\\"},{\\\\\"uid\\\\\":416303704,\\\\\"head\\\\\":\\\\\"https://esx.bigolive.tv/na_live/3a2/1kVfdZ.png\\\\\",\\\\\"diamond\\\\\":35000,\\\\\"nick_name\\\\\":\\\\\"🦅🦅🦅\\\\\"},{\\\\\"uid\\\\\":1521707570,\\\\\"head\\\\\":\\\\\"https://esx.bigolive.tv/eu_live/2u3/24buAa.jpg\\\\\",\\\\\"diamond\\\\\":25000,\\\\\"nick_name\\\\\":\\\\\"◥◣•༺[ReVo]༻•◢◤🍜\\\\\"},{\\\\\"uid\\\\\":1511141622,\\\\\"head\\\\\":\\\\\"https://esx.bigolive.tv/live/7h2/M09/34/29/8vobAF4jPG6IToMzAAAQN-2AD6QAA4zmgN5gG8AABBP695.jpg\\\\\",\\\\\"diamond\\\\\":21500,\\\\\"nick_name\\\\\":\\\\\"OnlyT\\\\\"}]\\'),']\n",
            "21 :  9 :  ['(693705,', '617,', '2,', '20210111,', \"'2021-01-10\", \"23:42:36',\", '\\'[{\\\\\"uid\\\\\":455381086,\\\\\"head\\\\\":\\\\\"https://esx.bigolive.tv/live/g1/M06/05/71/LXz8F1lKHcWICLUWAAAGUlf6IQ8AAIfnwMKs6sAAAZq235.jpg\\\\\",\\\\\"diamond\\\\\":105000,\\\\\"nick_name\\\\\":\\\\\"😞😞😞\\\\\"},{\\\\\"uid\\\\\":416303704,\\\\\"head\\\\\":\\\\\"https://esx.bigolive.tv/na_live/3a2/1kVfdZ.png\\\\\",\\\\\"diamond\\\\\":60000,\\\\\"nick_name\\\\\":\\\\\"🦅🦅🦅\\\\\"},{\\\\\"uid\\\\\":1821075532,\\\\\"head\\\\\":\\\\\"https://esx.bigolive.tv/na_live/3a2/0BoDzK.jpg\\\\\",\\\\\"diamond\\\\\":60000,\\\\\"nick_name\\\\\":\\\\\"\\U0001f92d\\\\\"},{\\\\\"uid\\\\\":1515040667,\\\\\"head\\\\\":\\\\\"https://esx.bigolive.tv/live/3s2/0xOJOI.jpg\\\\\",\\\\\"diamond\\\\\":33000,\\\\\"nick_name\\\\\":\\\\\"AIANG🍒\\\\\"},{\\\\\"uid\\\\\":494141641,\\\\\"head\\\\\":\\\\\"https://esx.bigolive.tv/eu_live/2u3/1YpNEX_4.jpg?type=20\\\\\",\\\\\"diamond\\\\\":30000,\\\\\"nick_name\\\\\":\\\\\"إيطآلي', '،', '🇮🇹\\\\\"}]\\'),']\n",
            "22 :  10 :  ['(693706,', '618,', '2,', '20210111,', \"'2021-01-10\", \"23:43:19',\", '\\'[{\\\\\"uid\\\\\":1851611983,\\\\\"head\\\\\":\\\\\"https://esx.bigolive.tv/na_live/3a2/1cQMV2.png\\\\\",\\\\\"diamond\\\\\":105000,\\\\\"nick_name\\\\\":\\\\\"Timur\\\\\"},{\\\\\"uid\\\\\":455381086,\\\\\"head\\\\\":\\\\\"https://esx.bigolive.tv/live/g1/M06/05/71/LXz8F1lKHcWICLUWAAAGUlf6IQ8AAIfnwMKs6sAAAZq235.jpg\\\\\",\\\\\"diamond\\\\\":75750,\\\\\"nick_name\\\\\":\\\\\"😞😞😞\\\\\"},{\\\\\"uid\\\\\":416303704,\\\\\"head\\\\\":\\\\\"https://esx.bigolive.tv/na_live/3a2/1kVfdZ.png\\\\\",\\\\\"diamond\\\\\":75000,\\\\\"nick_name\\\\\":\\\\\"🦅🦅🦅\\\\\"},{\\\\\"uid\\\\\":1663094180,\\\\\"head\\\\\":\\\\\"https://esx.bigolive.tv/eu_live/2u3/26rXf1_4.png?type=20\\\\\",\\\\\"diamond\\\\\":75000,\\\\\"nick_name\\\\\":\\\\\"🐅javed', 'Sandila❤\\\\\"},{\\\\\"uid\\\\\":494141641,\\\\\"head\\\\\":\\\\\"https://esx.bigolive.tv/eu_live/2u3/1YpNEX_4.jpg?type=20\\\\\",\\\\\"diamond\\\\\":45000,\\\\\"nick_name\\\\\":\\\\\"إيطآلي', '،', '🇮🇹\\\\\"}]\\'),']\n",
            "23 :  9 :  ['(693707,', '619,', '1,', '20210111,', \"'2021-01-10\", \"23:44:07',\", '\\'[{\\\\\"uid\\\\\":416303704,\\\\\"head\\\\\":\\\\\"https://esx.bigolive.tv/na_live/3a2/1kVfdZ.png\\\\\",\\\\\"diamond\\\\\":100000,\\\\\"nick_name\\\\\":\\\\\"🦅🦅🦅\\\\\"},{\\\\\"uid\\\\\":1821075532,\\\\\"head\\\\\":\\\\\"https://esx.bigolive.tv/na_live/3a2/0BoDzK.jpg\\\\\",\\\\\"diamond\\\\\":40000,\\\\\"nick_name\\\\\":\\\\\"\\U0001f92d\\\\\"},{\\\\\"uid\\\\\":494141641,\\\\\"head\\\\\":\\\\\"https://esx.bigolive.tv/eu_live/2u3/1YpNEX_4.jpg?type=20\\\\\",\\\\\"diamond\\\\\":30000,\\\\\"nick_name\\\\\":\\\\\"إيطآلي', '،', '🇮🇹\\\\\"},{\\\\\"uid\\\\\":1511141622,\\\\\"head\\\\\":\\\\\"https://esx.bigolive.tv/live/7h2/M09/34/29/8vobAF4jPG6IToMzAAAQN-2AD6QAA4zmgN5gG8AABBP695.jpg\\\\\",\\\\\"diamond\\\\\":25000,\\\\\"nick_name\\\\\":\\\\\"OnlyT\\\\\"},{\\\\\"uid\\\\\":1853747182,\\\\\"head\\\\\":\\\\\"https://esx.bigolive.tv/eu_live/2u3/1bA2Zr.png\\\\\",\\\\\"diamond\\\\\":15000,\\\\\"nick_name\\\\\":\\\\\"🇹🇯FIRDAVS🇹🇯\\\\\"}]\\'),']\n",
            "24 :  9 :  ['(693708,', '620,', '1,', '20210111,', \"'2021-01-10\", \"23:44:49',\", '\\'[{\\\\\"uid\\\\\":494141641,\\\\\"head\\\\\":\\\\\"https://esx.bigolive.tv/eu_live/2u3/1YpNEX_4.jpg?type=20\\\\\",\\\\\"diamond\\\\\":90000,\\\\\"nick_name\\\\\":\\\\\"إيطآلي', '،', '🇮🇹\\\\\"},{\\\\\"uid\\\\\":1515040667,\\\\\"head\\\\\":\\\\\"https://esx.bigolive.tv/live/3s2/0xOJOI.jpg\\\\\",\\\\\"diamond\\\\\":60000,\\\\\"nick_name\\\\\":\\\\\"AIANG🍒\\\\\"},{\\\\\"uid\\\\\":1851611983,\\\\\"head\\\\\":\\\\\"https://esx.bigolive.tv/na_live/3a2/1cQMV2.png\\\\\",\\\\\"diamond\\\\\":50000,\\\\\"nick_name\\\\\":\\\\\"Timur\\\\\"},{\\\\\"uid\\\\\":448363945,\\\\\"head\\\\\":\\\\\"https://esx.bigolive.tv/eu_live/2u2/1ChTH8_4.jpg?type=20\\\\\",\\\\\"diamond\\\\\":30000,\\\\\"nick_name\\\\\":\\\\\"koja\\\\\"},{\\\\\"uid\\\\\":1853747182,\\\\\"head\\\\\":\\\\\"https://esx.bigolive.tv/eu_live/2u3/1bA2Zr.png\\\\\",\\\\\"diamond\\\\\":30000,\\\\\"nick_name\\\\\":\\\\\"🇹🇯FIRDAVS🇹🇯\\\\\"}]\\'),']\n",
            "25 :  9 :  ['(693709,', '621,', '2,', '20210111,', \"'2021-01-10\", \"23:45:38',\", '\\'[{\\\\\"uid\\\\\":494141641,\\\\\"head\\\\\":\\\\\"https://esx.bigolive.tv/eu_live/2u3/1YpNEX_4.jpg?type=20\\\\\",\\\\\"diamond\\\\\":60000,\\\\\"nick_name\\\\\":\\\\\"إيطآلي', '،', '🇮🇹\\\\\"},{\\\\\"uid\\\\\":1515040667,\\\\\"head\\\\\":\\\\\"https://esx.bigolive.tv/live/3s2/0xOJOI.jpg\\\\\",\\\\\"diamond\\\\\":33000,\\\\\"nick_name\\\\\":\\\\\"AIANG🍒\\\\\"},{\\\\\"uid\\\\\":448363945,\\\\\"head\\\\\":\\\\\"https://esx.bigolive.tv/eu_live/2u2/1ChTH8_4.jpg?type=20\\\\\",\\\\\"diamond\\\\\":30000,\\\\\"nick_name\\\\\":\\\\\"koja\\\\\"},{\\\\\"uid\\\\\":419152749,\\\\\"head\\\\\":\\\\\"https://esx.bigolive.tv/na_live/3a1/2rmjof.jpg\\\\\",\\\\\"diamond\\\\\":30000,\\\\\"nick_name\\\\\":\\\\\"❤️BIGO❤️\\\\\"},{\\\\\"uid\\\\\":1511141622,\\\\\"head\\\\\":\\\\\"https://esx.bigolive.tv/live/7h2/M09/34/29/8vobAF4jPG6IToMzAAAQN-2AD6QAA4zmgN5gG8AABBP695.jpg\\\\\",\\\\\"diamond\\\\\":30000,\\\\\"nick_name\\\\\":\\\\\"OnlyT\\\\\"}]\\'),']\n",
            "26 :  7 :  ['(693710,', '622,', '5,', '20210111,', \"'2021-01-10\", \"23:46:20',\", '\\'[{\\\\\"uid\\\\\":455381086,\\\\\"head\\\\\":\\\\\"https://esx.bigolive.tv/live/g1/M06/05/71/LXz8F1lKHcWICLUWAAAGUlf6IQ8AAIfnwMKs6sAAAZq235.jpg\\\\\",\\\\\"diamond\\\\\":105250,\\\\\"nick_name\\\\\":\\\\\"😞😞😞\\\\\"},{\\\\\"uid\\\\\":416303704,\\\\\"head\\\\\":\\\\\"https://esx.bigolive.tv/na_live/3a2/1kVfdZ.png\\\\\",\\\\\"diamond\\\\\":60000,\\\\\"nick_name\\\\\":\\\\\"🦅🦅🦅\\\\\"},{\\\\\"uid\\\\\":1851611983,\\\\\"head\\\\\":\\\\\"https://esx.bigolive.tv/na_live/3a2/1cQMV2.png\\\\\",\\\\\"diamond\\\\\":30000,\\\\\"nick_name\\\\\":\\\\\"Timur\\\\\"},{\\\\\"uid\\\\\":1691200962,\\\\\"head\\\\\":\\\\\"https://esx.bigolive.tv/live/3s2/2s5rmO.png\\\\\",\\\\\"diamond\\\\\":30000,\\\\\"nick_name\\\\\":\\\\\"🌈☔MysteryBoy🎡\\\\\"},{\\\\\"uid\\\\\":469294982,\\\\\"head\\\\\":\\\\\"https://esx.bigolive.tv/eu_live/2u3/0CUdB3_4.png?type=20\\\\\",\\\\\"diamond\\\\\":26000,\\\\\"nick_name\\\\\":\\\\\"3z_\\\\\"}]\\'),']\n",
            "27 :  11 :  ['(693711,', '623,', '1,', '20210111,', \"'2021-01-10\", \"23:47:09',\", '\\'[{\\\\\"uid\\\\\":455381086,\\\\\"head\\\\\":\\\\\"https://esx.bigolive.tv/live/g1/M06/05/71/LXz8F1lKHcWICLUWAAAGUlf6IQ8AAIfnwMKs6sAAAZq235.jpg\\\\\",\\\\\"diamond\\\\\":70500,\\\\\"nick_name\\\\\":\\\\\"😞😞😞\\\\\"},{\\\\\"uid\\\\\":494141641,\\\\\"head\\\\\":\\\\\"https://esx.bigolive.tv/eu_live/2u3/1YpNEX_4.jpg?type=20\\\\\",\\\\\"diamond\\\\\":70000,\\\\\"nick_name\\\\\":\\\\\"إيطآلي', '،', '🇮🇹\\\\\"},{\\\\\"uid\\\\\":1851611983,\\\\\"head\\\\\":\\\\\"https://esx.bigolive.tv/na_live/3a2/1cQMV2.png\\\\\",\\\\\"diamond\\\\\":30000,\\\\\"nick_name\\\\\":\\\\\"Timur\\\\\"},{\\\\\"uid\\\\\":1511141622,\\\\\"head\\\\\":\\\\\"https://esx.bigolive.tv/live/7h2/M09/34/29/8vobAF4jPG6IToMzAAAQN-2AD6QAA4zmgN5gG8AABBP695.jpg\\\\\",\\\\\"diamond\\\\\":25000,\\\\\"nick_name\\\\\":\\\\\"OnlyT\\\\\"},{\\\\\"uid\\\\\":1546101233,\\\\\"head\\\\\":\\\\\"https://esx.bigolive.tv/eu_live/2u3/0wL4Ls_4.png?type=20\\\\\",\\\\\"diamond\\\\\":23000,\\\\\"nick_name\\\\\":\\\\\"♦️❦𒀽', 'جنون', '𒀽❥♦️\\\\\"}]\\'),']\n",
            "28 :  12 :  ['(693712,', '624,', '8,', '20210111,', \"'2021-01-10\", \"23:47:51',\", '\\'[{\\\\\"uid\\\\\":1821075532,\\\\\"head\\\\\":\\\\\"https://esx.bigolive.tv/na_live/3a2/0BoDzK.jpg\\\\\",\\\\\"diamond\\\\\":60000,\\\\\"nick_name\\\\\":\\\\\"\\U0001f92d\\\\\"},{\\\\\"uid\\\\\":416303704,\\\\\"head\\\\\":\\\\\"https://esx.bigolive.tv/na_live/3a2/1kVfdZ.png\\\\\",\\\\\"diamond\\\\\":40000,\\\\\"nick_name\\\\\":\\\\\"🦅🦅🦅\\\\\"},{\\\\\"uid\\\\\":459850300,\\\\\"head\\\\\":\\\\\"https://esx.bigolive.tv/live/3s2/0B9gHs.png\\\\\",\\\\\"diamond\\\\\":30000,\\\\\"nick_name\\\\\":\\\\\"Bóp', 'Chim', '🐦', 'Đi\\\\\"},{\\\\\"uid\\\\\":494141641,\\\\\"head\\\\\":\\\\\"https://esx.bigolive.tv/eu_live/2u3/1YpNEX_4.jpg?type=20\\\\\",\\\\\"diamond\\\\\":25000,\\\\\"nick_name\\\\\":\\\\\"إيطآلي', '،', '🇮🇹\\\\\"},{\\\\\"uid\\\\\":1511141622,\\\\\"head\\\\\":\\\\\"https://esx.bigolive.tv/live/7h2/M09/34/29/8vobAF4jPG6IToMzAAAQN-2AD6QAA4zmgN5gG8AABBP695.jpg\\\\\",\\\\\"diamond\\\\\":21500,\\\\\"nick_name\\\\\":\\\\\"OnlyT\\\\\"}]\\'),']\n",
            "29 :  10 :  ['(693713,', '625,', '7,', '20210111,', \"'2021-01-10\", \"23:48:37',\", '\\'[{\\\\\"uid\\\\\":1821075532,\\\\\"head\\\\\":\\\\\"https://esx.bigolive.tv/na_live/3a2/0BoDzK.jpg\\\\\",\\\\\"diamond\\\\\":80000,\\\\\"nick_name\\\\\":\\\\\"\\U0001f92d\\\\\"},{\\\\\"uid\\\\\":1851611983,\\\\\"head\\\\\":\\\\\"https://esx.bigolive.tv/na_live/3a2/1cQMV2.png\\\\\",\\\\\"diamond\\\\\":40000,\\\\\"nick_name\\\\\":\\\\\"Timur\\\\\"},{\\\\\"uid\\\\\":416303704,\\\\\"head\\\\\":\\\\\"https://esx.bigolive.tv/na_live/3a2/1kVfdZ.png\\\\\",\\\\\"diamond\\\\\":35000,\\\\\"nick_name\\\\\":\\\\\"🦅🦅🦅\\\\\"},{\\\\\"uid\\\\\":459850300,\\\\\"head\\\\\":\\\\\"https://esx.bigolive.tv/live/3s2/0B9gHs.png\\\\\",\\\\\"diamond\\\\\":20000,\\\\\"nick_name\\\\\":\\\\\"Bóp', 'Chim', '🐦', 'Đi\\\\\"},{\\\\\"uid\\\\\":1853747182,\\\\\"head\\\\\":\\\\\"https://esx.bigolive.tv/eu_live/2u3/1bA2Zr.png\\\\\",\\\\\"diamond\\\\\":20000,\\\\\"nick_name\\\\\":\\\\\"🇹🇯FIRDAVS🇹🇯\\\\\"}]\\'),']\n",
            "30 :  10 :  ['(693714,', '626,', '8,', '20210111,', \"'2021-01-10\", \"23:49:22',\", '\\'[{\\\\\"uid\\\\\":455381086,\\\\\"head\\\\\":\\\\\"https://esx.bigolive.tv/live/g1/M06/05/71/LXz8F1lKHcWICLUWAAAGUlf6IQ8AAIfnwMKs6sAAAZq235.jpg\\\\\",\\\\\"diamond\\\\\":70000,\\\\\"nick_name\\\\\":\\\\\"😞😞😞\\\\\"},{\\\\\"uid\\\\\":459850300,\\\\\"head\\\\\":\\\\\"https://esx.bigolive.tv/live/3s2/0B9gHs.png\\\\\",\\\\\"diamond\\\\\":40000,\\\\\"nick_name\\\\\":\\\\\"Bóp', 'Chim', '🐦', 'Đi\\\\\"},{\\\\\"uid\\\\\":1582370376,\\\\\"head\\\\\":\\\\\"https://esx.bigolive.tv/live/3s2/0qSz5n.png\\\\\",\\\\\"diamond\\\\\":25000,\\\\\"nick_name\\\\\":\\\\\"Lê🇱🇷Minh🎵🎵🎵\\\\\"},{\\\\\"uid\\\\\":1515040667,\\\\\"head\\\\\":\\\\\"https://esx.bigolive.tv/live/3s2/0xOJOI.jpg\\\\\",\\\\\"diamond\\\\\":25000,\\\\\"nick_name\\\\\":\\\\\"AIANG🍒\\\\\"},{\\\\\"uid\\\\\":1511141622,\\\\\"head\\\\\":\\\\\"https://esx.bigolive.tv/live/7h2/M09/34/29/8vobAF4jPG6IToMzAAAQN-2AD6QAA4zmgN5gG8AABBP695.jpg\\\\\",\\\\\"diamond\\\\\":23000,\\\\\"nick_name\\\\\":\\\\\"OnlyT\\\\\"}]\\'),']\n",
            "31 :  9 :  ['(693715,', '627,', '8,', '20210111,', \"'2021-01-10\", \"23:50:04',\", '\\'[{\\\\\"uid\\\\\":494141641,\\\\\"head\\\\\":\\\\\"https://esx.bigolive.tv/eu_live/2u3/1YpNEX_4.jpg?type=20\\\\\",\\\\\"diamond\\\\\":25000,\\\\\"nick_name\\\\\":\\\\\"إيطآلي', '،', '🇮🇹\\\\\"},{\\\\\"uid\\\\\":416303704,\\\\\"head\\\\\":\\\\\"https://esx.bigolive.tv/na_live/3a2/1kVfdZ.png\\\\\",\\\\\"diamond\\\\\":25000,\\\\\"nick_name\\\\\":\\\\\"🦅🦅🦅\\\\\"},{\\\\\"uid\\\\\":1851611983,\\\\\"head\\\\\":\\\\\"https://esx.bigolive.tv/na_live/3a2/1cQMV2.png\\\\\",\\\\\"diamond\\\\\":25000,\\\\\"nick_name\\\\\":\\\\\"Timur\\\\\"},{\\\\\"uid\\\\\":1511141622,\\\\\"head\\\\\":\\\\\"https://esx.bigolive.tv/live/7h2/M09/34/29/8vobAF4jPG6IToMzAAAQN-2AD6QAA4zmgN5gG8AABBP695.jpg\\\\\",\\\\\"diamond\\\\\":21500,\\\\\"nick_name\\\\\":\\\\\"OnlyT\\\\\"},{\\\\\"uid\\\\\":1515040667,\\\\\"head\\\\\":\\\\\"https://esx.bigolive.tv/live/3s2/0xOJOI.jpg\\\\\",\\\\\"diamond\\\\\":20000,\\\\\"nick_name\\\\\":\\\\\"AIANG🍒\\\\\"}]\\'),']\n",
            "32 :  12 :  ['(693716,', '628,', '6,', '20210111,', \"'2021-01-10\", \"23:50:53',\", '\\'[{\\\\\"uid\\\\\":455381086,\\\\\"head\\\\\":\\\\\"https://esx.bigolive.tv/live/g1/M06/05/71/LXz8F1lKHcWICLUWAAAGUlf6IQ8AAIfnwMKs6sAAAZq235.jpg\\\\\",\\\\\"diamond\\\\\":85000,\\\\\"nick_name\\\\\":\\\\\"😞😞😞\\\\\"},{\\\\\"uid\\\\\":1851611983,\\\\\"head\\\\\":\\\\\"https://esx.bigolive.tv/na_live/3a2/1cQMV2.png\\\\\",\\\\\"diamond\\\\\":45000,\\\\\"nick_name\\\\\":\\\\\"Timur\\\\\"},{\\\\\"uid\\\\\":1651847456,\\\\\"head\\\\\":\\\\\"https://esx.bigolive.tv/live/3s2/01xBwQ.png\\\\\",\\\\\"diamond\\\\\":40000,\\\\\"nick_name\\\\\":\\\\\"🌪', 'Bodyguard', '🍓\\\\\"},{\\\\\"uid\\\\\":494141641,\\\\\"head\\\\\":\\\\\"https://esx.bigolive.tv/eu_live/2u3/1YpNEX_4.jpg?type=20\\\\\",\\\\\"diamond\\\\\":35000,\\\\\"nick_name\\\\\":\\\\\"إيطآلي', '،', '🇮🇹\\\\\"},{\\\\\"uid\\\\\":1638854220,\\\\\"head\\\\\":\\\\\"https://esx.bigolive.tv/eu_live/2u3/08iP2i_4.jpg?type=20\\\\\",\\\\\"diamond\\\\\":25000,\\\\\"nick_name\\\\\":\\\\\"💎🌜KHAN', '🌛💎🇧\\\\\"}]\\'),']\n",
            "33 :  12 :  ['(693717,', '629,', '6,', '20210111,', \"'2021-01-10\", \"23:51:35',\", '\\'[{\\\\\"uid\\\\\":455381086,\\\\\"head\\\\\":\\\\\"https://esx.bigolive.tv/live/g1/M06/05/71/LXz8F1lKHcWICLUWAAAGUlf6IQ8AAIfnwMKs6sAAAZq235.jpg\\\\\",\\\\\"diamond\\\\\":95000,\\\\\"nick_name\\\\\":\\\\\"😞😞😞\\\\\"},{\\\\\"uid\\\\\":1851611983,\\\\\"head\\\\\":\\\\\"https://esx.bigolive.tv/na_live/3a2/1cQMV2.png\\\\\",\\\\\"diamond\\\\\":50000,\\\\\"nick_name\\\\\":\\\\\"Timur\\\\\"},{\\\\\"uid\\\\\":459850300,\\\\\"head\\\\\":\\\\\"https://esx.bigolive.tv/live/3s2/0B9gHs.png\\\\\",\\\\\"diamond\\\\\":30000,\\\\\"nick_name\\\\\":\\\\\"Bóp', 'Chim', '🐦', 'Đi\\\\\"},{\\\\\"uid\\\\\":494141641,\\\\\"head\\\\\":\\\\\"https://esx.bigolive.tv/eu_live/2u3/1YpNEX_4.jpg?type=20\\\\\",\\\\\"diamond\\\\\":25000,\\\\\"nick_name\\\\\":\\\\\"إيطآلي', '،', '🇮🇹\\\\\"},{\\\\\"uid\\\\\":1515040667,\\\\\"head\\\\\":\\\\\"https://esx.bigolive.tv/live/3s2/0xOJOI.jpg\\\\\",\\\\\"diamond\\\\\":25000,\\\\\"nick_name\\\\\":\\\\\"AIANG🍒\\\\\"}]\\'),']\n",
            "34 :  11 :  ['(693718,', '630,', '7,', '20210111,', \"'2021-01-10\", \"23:52:19',\", '\\'[{\\\\\"uid\\\\\":455381086,\\\\\"head\\\\\":\\\\\"https://esx.bigolive.tv/live/g1/M06/05/71/LXz8F1lKHcWICLUWAAAGUlf6IQ8AAIfnwMKs6sAAAZq235.jpg\\\\\",\\\\\"diamond\\\\\":75000,\\\\\"nick_name\\\\\":\\\\\"😞😞😞\\\\\"},{\\\\\"uid\\\\\":1638854220,\\\\\"head\\\\\":\\\\\"https://esx.bigolive.tv/eu_live/2u3/08iP2i_4.jpg?type=20\\\\\",\\\\\"diamond\\\\\":40000,\\\\\"nick_name\\\\\":\\\\\"💎🌜KHAN', '🌛💎🇧\\\\\"},{\\\\\"uid\\\\\":459850300,\\\\\"head\\\\\":\\\\\"https://esx.bigolive.tv/live/3s2/0B9gHs.png\\\\\",\\\\\"diamond\\\\\":35000,\\\\\"nick_name\\\\\":\\\\\"Bóp', 'Chim', '🐦', 'Đi\\\\\"},{\\\\\"uid\\\\\":416303704,\\\\\"head\\\\\":\\\\\"https://esx.bigolive.tv/na_live/3a2/1kVfdZ.png\\\\\",\\\\\"diamond\\\\\":30000,\\\\\"nick_name\\\\\":\\\\\"🦅🦅🦅\\\\\"},{\\\\\"uid\\\\\":1511141622,\\\\\"head\\\\\":\\\\\"https://esx.bigolive.tv/live/7h2/M09/34/29/8vobAF4jPG6IToMzAAAQN-2AD6QAA4zmgN5gG8AABBP695.jpg\\\\\",\\\\\"diamond\\\\\":26000,\\\\\"nick_name\\\\\":\\\\\"OnlyT\\\\\"}]\\'),']\n",
            "35 :  7 :  ['(693719,', '631,', '5,', '20210111,', \"'2021-01-10\", \"23:53:06',\", '\\'[{\\\\\"uid\\\\\":1851611983,\\\\\"head\\\\\":\\\\\"https://esx.bigolive.tv/na_live/3a2/1cQMV2.png\\\\\",\\\\\"diamond\\\\\":40000,\\\\\"nick_name\\\\\":\\\\\"Timur\\\\\"},{\\\\\"uid\\\\\":416303704,\\\\\"head\\\\\":\\\\\"https://esx.bigolive.tv/na_live/3a2/1kVfdZ.png\\\\\",\\\\\"diamond\\\\\":35000,\\\\\"nick_name\\\\\":\\\\\"🦅🦅🦅\\\\\"},{\\\\\"uid\\\\\":1853747182,\\\\\"head\\\\\":\\\\\"https://esx.bigolive.tv/eu_live/2u3/1bA2Zr.png\\\\\",\\\\\"diamond\\\\\":25000,\\\\\"nick_name\\\\\":\\\\\"🇹🇯FIRDAVS🇹🇯\\\\\"},{\\\\\"uid\\\\\":448363945,\\\\\"head\\\\\":\\\\\"https://esx.bigolive.tv/eu_live/2u2/1ChTH8_4.jpg?type=20\\\\\",\\\\\"diamond\\\\\":16000,\\\\\"nick_name\\\\\":\\\\\"koja\\\\\"},{\\\\\"uid\\\\\":1582370376,\\\\\"head\\\\\":\\\\\"https://esx.bigolive.tv/live/3s2/0qSz5n.png\\\\\",\\\\\"diamond\\\\\":15500,\\\\\"nick_name\\\\\":\\\\\"Lê🇱🇷Minh🎵🎵🎵\\\\\"}]\\'),']\n",
            "36 :  9 :  ['(693720,', '632,', '7,', '20210111,', \"'2021-01-10\", \"23:53:50',\", '\\'[{\\\\\"uid\\\\\":455381086,\\\\\"head\\\\\":\\\\\"https://esx.bigolive.tv/live/g1/M06/05/71/LXz8F1lKHcWICLUWAAAGUlf6IQ8AAIfnwMKs6sAAAZq235.jpg\\\\\",\\\\\"diamond\\\\\":70000,\\\\\"nick_name\\\\\":\\\\\"😞😞😞\\\\\"},{\\\\\"uid\\\\\":1851611983,\\\\\"head\\\\\":\\\\\"https://esx.bigolive.tv/na_live/3a2/1cQMV2.png\\\\\",\\\\\"diamond\\\\\":65000,\\\\\"nick_name\\\\\":\\\\\"Timur\\\\\"},{\\\\\"uid\\\\\":416303704,\\\\\"head\\\\\":\\\\\"https://esx.bigolive.tv/na_live/3a2/1kVfdZ.png\\\\\",\\\\\"diamond\\\\\":40000,\\\\\"nick_name\\\\\":\\\\\"🦅🦅🦅\\\\\"},{\\\\\"uid\\\\\":494141641,\\\\\"head\\\\\":\\\\\"https://esx.bigolive.tv/eu_live/2u3/1YpNEX_4.jpg?type=20\\\\\",\\\\\"diamond\\\\\":30000,\\\\\"nick_name\\\\\":\\\\\"إيطآلي', '،', '🇮🇹\\\\\"},{\\\\\"uid\\\\\":1515040667,\\\\\"head\\\\\":\\\\\"https://esx.bigolive.tv/live/3s2/0xOJOI.jpg\\\\\",\\\\\"diamond\\\\\":25000,\\\\\"nick_name\\\\\":\\\\\"AIANG🍒\\\\\"}]\\'),']\n",
            "37 :  12 :  ['(693721,', '633,', '1,', '20210111,', \"'2021-01-10\", \"23:54:37',\", '\\'[{\\\\\"uid\\\\\":1851611983,\\\\\"head\\\\\":\\\\\"https://esx.bigolive.tv/na_live/3a2/1cQMV2.png\\\\\",\\\\\"diamond\\\\\":100000,\\\\\"nick_name\\\\\":\\\\\"Timur\\\\\"},{\\\\\"uid\\\\\":455381086,\\\\\"head\\\\\":\\\\\"https://esx.bigolive.tv/live/g1/M06/05/71/LXz8F1lKHcWICLUWAAAGUlf6IQ8AAIfnwMKs6sAAAZq235.jpg\\\\\",\\\\\"diamond\\\\\":70500,\\\\\"nick_name\\\\\":\\\\\"😞😞😞\\\\\"},{\\\\\"uid\\\\\":416303704,\\\\\"head\\\\\":\\\\\"https://esx.bigolive.tv/na_live/3a2/1kVfdZ.png\\\\\",\\\\\"diamond\\\\\":70000,\\\\\"nick_name\\\\\":\\\\\"🦅🦅🦅\\\\\"},{\\\\\"uid\\\\\":459850300,\\\\\"head\\\\\":\\\\\"https://esx.bigolive.tv/live/3s2/0B9gHs.png\\\\\",\\\\\"diamond\\\\\":50000,\\\\\"nick_name\\\\\":\\\\\"Bóp', 'Chim', '🐦', 'Đi\\\\\"},{\\\\\"uid\\\\\":494141641,\\\\\"head\\\\\":\\\\\"https://esx.bigolive.tv/eu_live/2u3/1YpNEX_4.jpg?type=20\\\\\",\\\\\"diamond\\\\\":30000,\\\\\"nick_name\\\\\":\\\\\"إيطآلي', '،', '🇮🇹\\\\\"}]\\'),']\n",
            "38 :  12 :  ['(693722,', '634,', '4,', '20210111,', \"'2021-01-10\", \"23:55:19',\", '\\'[{\\\\\"uid\\\\\":494141641,\\\\\"head\\\\\":\\\\\"https://esx.bigolive.tv/eu_live/2u3/1YpNEX_4.jpg?type=20\\\\\",\\\\\"diamond\\\\\":90000,\\\\\"nick_name\\\\\":\\\\\"إيطآلي', '،', '🇮🇹\\\\\"},{\\\\\"uid\\\\\":1515040667,\\\\\"head\\\\\":\\\\\"https://esx.bigolive.tv/live/3s2/0xOJOI.jpg\\\\\",\\\\\"diamond\\\\\":90000,\\\\\"nick_name\\\\\":\\\\\"AIANG🍒\\\\\"},{\\\\\"uid\\\\\":1511141622,\\\\\"head\\\\\":\\\\\"https://esx.bigolive.tv/live/7h2/M09/34/29/8vobAF4jPG6IToMzAAAQN-2AD6QAA4zmgN5gG8AABBP695.jpg\\\\\",\\\\\"diamond\\\\\":67500,\\\\\"nick_name\\\\\":\\\\\"OnlyT\\\\\"},{\\\\\"uid\\\\\":466962211,\\\\\"head\\\\\":\\\\\"https://esx.bigolive.tv/eu_live/2u3/1WsweH_4.jpg?type=20\\\\\",\\\\\"diamond\\\\\":45000,\\\\\"nick_name\\\\\":\\\\\"f---3\\\\\"},{\\\\\"uid\\\\\":459850300,\\\\\"head\\\\\":\\\\\"https://esx.bigolive.tv/live/3s2/0B9gHs.png\\\\\",\\\\\"diamond\\\\\":45000,\\\\\"nick_name\\\\\":\\\\\"Bóp', 'Chim', '🐦', 'Đi\\\\\"}]\\'),']\n",
            "39 :  10 :  ['(693723,', '635,', '7,', '20210111,', \"'2021-01-10\", \"23:56:08',\", '\\'[{\\\\\"uid\\\\\":416303704,\\\\\"head\\\\\":\\\\\"https://esx.bigolive.tv/na_live/3a2/1kVfdZ.png\\\\\",\\\\\"diamond\\\\\":35000,\\\\\"nick_name\\\\\":\\\\\"🦅🦅🦅\\\\\"},{\\\\\"uid\\\\\":1515040667,\\\\\"head\\\\\":\\\\\"https://esx.bigolive.tv/live/3s2/0xOJOI.jpg\\\\\",\\\\\"diamond\\\\\":25000,\\\\\"nick_name\\\\\":\\\\\"AIANG🍒\\\\\"},{\\\\\"uid\\\\\":1511141622,\\\\\"head\\\\\":\\\\\"https://esx.bigolive.tv/live/7h2/M09/34/29/8vobAF4jPG6IToMzAAAQN-2AD6QAA4zmgN5gG8AABBP695.jpg\\\\\",\\\\\"diamond\\\\\":21500,\\\\\"nick_name\\\\\":\\\\\"OnlyT\\\\\"},{\\\\\"uid\\\\\":1710925426,\\\\\"head\\\\\":\\\\\"https://esx.bigolive.tv/live/3s1/0oEVnj.png\\\\\",\\\\\"diamond\\\\\":10000,\\\\\"nick_name\\\\\":\\\\\"Thành', 'Đỏ\\\\\"},{\\\\\"uid\\\\\":469335173,\\\\\"head\\\\\":\\\\\"https://esx.bigolive.tv/eu_live/2u3/05RhK7.png\\\\\",\\\\\"diamond\\\\\":8500,\\\\\"nick_name\\\\\":\\\\\"🌪', 'جوكر', '🌪?\\\\\"}]\\'),']\n",
            "40 :  9 :  ['(693724,', '636,', '2,', '20210111,', \"'2021-01-10\", \"23:56:50',\", '\\'[{\\\\\"uid\\\\\":416303704,\\\\\"head\\\\\":\\\\\"https://esx.bigolive.tv/na_live/3a2/1kVfdZ.png\\\\\",\\\\\"diamond\\\\\":75000,\\\\\"nick_name\\\\\":\\\\\"🦅🦅🦅\\\\\"},{\\\\\"uid\\\\\":455381086,\\\\\"head\\\\\":\\\\\"https://esx.bigolive.tv/live/g1/M06/05/71/LXz8F1lKHcWICLUWAAAGUlf6IQ8AAIfnwMKs6sAAAZq235.jpg\\\\\",\\\\\"diamond\\\\\":60750,\\\\\"nick_name\\\\\":\\\\\"😞😞😞\\\\\"},{\\\\\"uid\\\\\":494141641,\\\\\"head\\\\\":\\\\\"https://esx.bigolive.tv/eu_live/2u3/1YpNEX_4.jpg?type=20\\\\\",\\\\\"diamond\\\\\":60000,\\\\\"nick_name\\\\\":\\\\\"إيطآلي', '،', '🇮🇹\\\\\"},{\\\\\"uid\\\\\":1851611983,\\\\\"head\\\\\":\\\\\"https://esx.bigolive.tv/na_live/3a2/1cQMV2.png\\\\\",\\\\\"diamond\\\\\":60000,\\\\\"nick_name\\\\\":\\\\\"Timur\\\\\"},{\\\\\"uid\\\\\":1515040667,\\\\\"head\\\\\":\\\\\"https://esx.bigolive.tv/live/3s2/0xOJOI.jpg\\\\\",\\\\\"diamond\\\\\":45000,\\\\\"nick_name\\\\\":\\\\\"AIANG🍒\\\\\"}]\\');']\n",
            "41 :  0 :  []\n",
            "42 :  1 :  ['--']\n",
            "43 :  5 :  ['--', 'Indexes', 'for', 'dumped', 'tables']\n",
            "44 :  1 :  ['--']\n",
            "45 :  0 :  []\n",
            "46 :  1 :  ['--']\n",
            "47 :  5 :  ['--', 'Indexes', 'for', 'table', '`result_his`']\n",
            "48 :  1 :  ['--']\n",
            "49 :  3 :  ['ALTER', 'TABLE', '`result_his`']\n",
            "50 :  4 :  ['ADD', 'PRIMARY', 'KEY', '(`id`);']\n",
            "51 :  0 :  []\n",
            "52 :  1 :  ['--']\n",
            "53 :  5 :  ['--', 'AUTO_INCREMENT', 'for', 'dumped', 'tables']\n",
            "54 :  1 :  ['--']\n",
            "55 :  0 :  []\n",
            "56 :  1 :  ['--']\n",
            "57 :  5 :  ['--', 'AUTO_INCREMENT', 'for', 'table', '`result_his`']\n",
            "58 :  1 :  ['--']\n",
            "59 :  3 :  ['ALTER', 'TABLE', '`result_his`']\n",
            "60 :  7 :  ['MODIFY', '`id`', 'int(11)', 'NOT', 'NULL', 'AUTO_INCREMENT,', 'AUTO_INCREMENT=693725;']\n",
            "61 :  1 :  ['COMMIT;']\n",
            "62 :  0 :  []\n",
            "63 :  4 :  ['/*!40101', 'SET', 'CHARACTER_SET_CLIENT=@OLD_CHARACTER_SET_CLIENT', '*/;']\n",
            "64 :  4 :  ['/*!40101', 'SET', 'CHARACTER_SET_RESULTS=@OLD_CHARACTER_SET_RESULTS', '*/;']\n",
            "65 :  4 :  ['/*!40101', 'SET', 'COLLATION_CONNECTION=@OLD_COLLATION_CONNECTION', '*/;']\n"
          ],
          "name": "stdout"
        }
      ]
    },
    {
      "cell_type": "code",
      "metadata": {
        "colab": {
          "base_uri": "https://localhost:8080/"
        },
        "id": "lylTTy0AAv3N",
        "outputId": "66e70834-3439-4019-ae15-a358d0071faa"
      },
      "source": [
        "sample1 = data[43] \r\n",
        "for field in sample1 : \r\n",
        "  print(field)"
      ],
      "execution_count": null,
      "outputs": [
        {
          "output_type": "stream",
          "text": [
            "INSERT\n",
            "INTO\n",
            "`result_his`\n",
            "(`id`,\n",
            "`round_id`,\n",
            "`prezi_id`,\n",
            "`xdate`,\n",
            "`created_at`,\n",
            "`top`)\n",
            "VALUES\n"
          ],
          "name": "stdout"
        }
      ]
    },
    {
      "cell_type": "code",
      "metadata": {
        "colab": {
          "base_uri": "https://localhost:8080/"
        },
        "id": "U_v2FYuHBfPy",
        "outputId": "1e24bb5f-e36a-42be-e308-a34f243434fd"
      },
      "source": [
        "sample = newdata[1] \r\n",
        "for d, v in zip(sample, sample1[3:]) : \r\n",
        "  print(v, ': ', d)"
      ],
      "execution_count": null,
      "outputs": [
        {
          "output_type": "stream",
          "text": [
            "(`id`, :  (2,\n",
            "`round_id`, :  256,\n",
            "`prezi_id`, :  7,\n",
            "`xdate`, :  20191227,\n",
            "`created_at`, :  '2019-12-26\n",
            "`top`) :  19:11:45',\n",
            "VALUES :  '[{\\\"uid\\\":1831887804,\\\"head\\\":\\\"https://esx.bigolive.tv/eu_live/2u1/M05/F4/A7/D48KAF2hC8mIYm1gAAC3en0uPpYAAXO_gBuOOkAALeS378_4.jpg?type=20\\\",\\\"diamond\\\":40000},{\\\"uid\\\":1585109610,\\\"head\\\":\\\"https://esx.bigolive.tv/live/7h4/M07/71/D2/bvsbAF3ilbyIPdq4AAAK8sVgOtkAAtcFAO2h0UAAAsK763.jpg\\\",\\\"diamond\\\":31500},{\\\"uid\\\":1515565579,\\\"head\\\":\\\"https://esx.bigolive.tv/live/7h4/M0E/C7/3E/bPsbAF29kQeIRou2AAAML_pD8tkAA7mPgKLIbQAAAxH729.jpg\\\",\\\"diamond\\\":25000},{\\\"uid\\\":1743991469,\\\"head\\\":\\\"https://esx.bigolive.tv/live/7h2/M07/1C/EC/8vobAF4Ex6uId5teAAACi3n8IKYAAzq5ABqLLkAAAKj664.jpg\\\",\\\"diamond\\\":15000},{\\\"uid\\\":1736553624,\\\"head\\\":\\\"https://esx.bigolive.tv/eu_live/2u1/M0A/C7/8A/D48KAF33YSGIVlpmAAERJanD034AAfQBAKn98UAARE923_4.jpg?type=20\\\",\\\"diamond\\\":15000}]'),\n"
          ],
          "name": "stdout"
        }
      ]
    },
    {
      "cell_type": "code",
      "metadata": {
        "id": "tEUowyRyGCmy"
      },
      "source": [
        "temp_id = None\r\n",
        "pairs = []\r\n",
        "for value in sample[6].split(','):\r\n",
        "  if 'uid' in value : \r\n",
        "    num = ''.join([s for s in value if s.isdigit()])\r\n",
        "    temp_id = int(num) \r\n",
        "  elif 'diamond' in value : \r\n",
        "    dia = ''.join([s for s in value if s.isdigit()])\r\n",
        "    pairs.append((temp_id, dia))"
      ],
      "execution_count": null,
      "outputs": []
    },
    {
      "cell_type": "code",
      "metadata": {
        "colab": {
          "base_uri": "https://localhost:8080/"
        },
        "id": "5RWFMa9BNjSz",
        "outputId": "09df8cbc-db6d-4d66-caa0-531903f35663"
      },
      "source": [
        "pairs"
      ],
      "execution_count": null,
      "outputs": [
        {
          "output_type": "execute_result",
          "data": {
            "text/plain": [
              "[(1831887804, '40000'),\n",
              " (1585109610, '31500'),\n",
              " (1515565579, '25000'),\n",
              " (1743991469, '15000'),\n",
              " (1736553624, '15000')]"
            ]
          },
          "metadata": {
            "tags": []
          },
          "execution_count": 55
        }
      ]
    },
    {
      "cell_type": "code",
      "metadata": {
        "colab": {
          "base_uri": "https://localhost:8080/"
        },
        "id": "lORC-y78D_FJ",
        "outputId": "1ab94dc5-4092-45c2-d066-dd0bc687205c"
      },
      "source": [
        "for line in sample[6].split(','):\r\n",
        "  print(line)"
      ],
      "execution_count": null,
      "outputs": [
        {
          "output_type": "stream",
          "text": [
            "'[{\\\"uid\\\":1831887804\n",
            "\\\"head\\\":\\\"https://esx.bigolive.tv/eu_live/2u1/M05/F4/A7/D48KAF2hC8mIYm1gAAC3en0uPpYAAXO_gBuOOkAALeS378_4.jpg?type=20\\\"\n",
            "\\\"diamond\\\":40000}\n",
            "{\\\"uid\\\":1585109610\n",
            "\\\"head\\\":\\\"https://esx.bigolive.tv/live/7h4/M07/71/D2/bvsbAF3ilbyIPdq4AAAK8sVgOtkAAtcFAO2h0UAAAsK763.jpg\\\"\n",
            "\\\"diamond\\\":31500}\n",
            "{\\\"uid\\\":1515565579\n",
            "\\\"head\\\":\\\"https://esx.bigolive.tv/live/7h4/M0E/C7/3E/bPsbAF29kQeIRou2AAAML_pD8tkAA7mPgKLIbQAAAxH729.jpg\\\"\n",
            "\\\"diamond\\\":25000}\n",
            "{\\\"uid\\\":1743991469\n",
            "\\\"head\\\":\\\"https://esx.bigolive.tv/live/7h2/M07/1C/EC/8vobAF4Ex6uId5teAAACi3n8IKYAAzq5ABqLLkAAAKj664.jpg\\\"\n",
            "\\\"diamond\\\":15000}\n",
            "{\\\"uid\\\":1736553624\n",
            "\\\"head\\\":\\\"https://esx.bigolive.tv/eu_live/2u1/M0A/C7/8A/D48KAF33YSGIVlpmAAERJanD034AAfQBAKn98UAARE923_4.jpg?type=20\\\"\n",
            "\\\"diamond\\\":15000}]')\n",
            "\n"
          ],
          "name": "stdout"
        }
      ]
    },
    {
      "cell_type": "code",
      "metadata": {
        "colab": {
          "base_uri": "https://localhost:8080/"
        },
        "id": "aDKvHS5GCXD6",
        "outputId": "cc027060-fba8-4ff1-f392-b93c2ff4d53f"
      },
      "source": [
        "ids, round_ids, prize_ids, xdates, days, times, values = [], [], [], [], [], [], []\r\n",
        "\r\n",
        "for line in newdata :\r\n",
        "  if 'INSERT' in line or 'MODIFY' in line or len(line)< 7: continue\r\n",
        "  ID = line[0][1:-1]\r\n",
        "  ROUND_ID = line[1][:-1]\r\n",
        "  PRIZE_ID = line[2][:-1]\r\n",
        "  XDATE = line[3][:-1]\r\n",
        "  DAY = line[4][1:]\r\n",
        "  TIME = line[5][:-2]\r\n",
        "  VALUES = line[6]\r\n",
        "  \r\n",
        "  ids.append(int(ID))\r\n",
        "  round_ids.append(int(ROUND_ID))\r\n",
        "  prize_ids.append(int(PRIZE_ID))\r\n",
        "  xdates.append(XDATE)\r\n",
        "  days.append(DAY) \r\n",
        "  times.append(TIME)\r\n",
        "  values.append(VALUES)\r\n",
        "\r\n",
        "print(\"done\")"
      ],
      "execution_count": null,
      "outputs": [
        {
          "output_type": "stream",
          "text": [
            "done\n"
          ],
          "name": "stdout"
        }
      ]
    },
    {
      "cell_type": "code",
      "metadata": {
        "colab": {
          "base_uri": "https://localhost:8080/"
        },
        "id": "FchdPhy2SvYS",
        "outputId": "1ca2504e-5863-4cc1-c553-81e25738f123"
      },
      "source": [
        "\r\n",
        "\r\n",
        "winners = []\r\n",
        "temp_uid = 0\r\n",
        "temp_uid_flag = False\r\n",
        "for i, id in enumerate(ids) :\r\n",
        "  try :\r\n",
        "    #print(i,':',id)\r\n",
        "    raw_value = values[i]\r\n",
        "    pairs = []\r\n",
        "    for entry in raw_value.split(','):\r\n",
        "      if 'uid' in entry:\r\n",
        "        temp_uid = int(''.join([s for s in entry if s.isdigit()]))\r\n",
        "        temp_uid_flag = True\r\n",
        "        #print(temp_uid, end = ',')\r\n",
        "      elif 'diamond' in entry : \r\n",
        "        assert temp_uid_flag, 'problem with uid flag'\r\n",
        "        temp_uid_flag = False\r\n",
        "        dia = int(''.join([s for s in entry if s.isdigit()]))\r\n",
        "        pairs.append((temp_uid, dia))\r\n",
        "        #print(dia)\r\n",
        "    winners.append(pairs) \r\n",
        "  except:\r\n",
        "    print(i,':',id)"
      ],
      "execution_count": null,
      "outputs": [
        {
          "output_type": "stream",
          "text": [
            "426582 : 428556\n",
            "585255 : 587229\n",
            "585388 : 587362\n",
            "585687 : 587661\n",
            "585718 : 587692\n",
            "585726 : 587700\n",
            "585744 : 587718\n",
            "585754 : 587728\n",
            "586593 : 588567\n",
            "586598 : 588572\n",
            "586675 : 588649\n",
            "587078 : 589052\n",
            "587079 : 589053\n",
            "587743 : 589717\n",
            "587757 : 589731\n",
            "587792 : 589766\n",
            "587793 : 589767\n",
            "587972 : 589946\n",
            "587977 : 589951\n",
            "587982 : 589956\n",
            "588039 : 590013\n",
            "588053 : 590027\n",
            "588089 : 590063\n",
            "589439 : 591413\n",
            "589573 : 591547\n",
            "589576 : 591550\n",
            "589580 : 591554\n",
            "589582 : 591556\n",
            "589645 : 591619\n",
            "589774 : 591748\n",
            "589782 : 591756\n",
            "589784 : 591758\n",
            "589790 : 591764\n",
            "589811 : 591785\n"
          ],
          "name": "stdout"
        }
      ]
    },
    {
      "cell_type": "code",
      "metadata": {
        "id": "Lg9lAyZJeUd-"
      },
      "source": [
        "from google.colab import drive\n",
        "drive.mount('/content/drive')"
      ],
      "execution_count": null,
      "outputs": []
    },
    {
      "cell_type": "code",
      "metadata": {
        "colab": {
          "base_uri": "https://localhost:8080/"
        },
        "id": "XguHyy9CSbKi",
        "outputId": "6a42b236-37d3-4ad9-8b29-435cc7c4b687"
      },
      "source": [
        "for i, line in enumerate(newdata[429055:429050+10]):\r\n",
        "  print(i, ': ', len(line), \": \",line) "
      ],
      "execution_count": null,
      "outputs": [
        {
          "output_type": "stream",
          "text": [
            "0 :  7 :  ['(426582,', '1550,', '6,', '20200822,', \"'2020-08-22\", \"11:22:21',\", '\\'[{\\\\\"uid\\\\\":1812946691,\\\\\"head\\\\\":\\\\\"https://esx.bigolive.tv/live/4h3/M08/0B/9D/RxIRAF81atqIC0SoAAAC0l8vBSYAAbf1AHZCicAAALq619.jpg\\\\\",\\\\\"diamond\\\\\":53500,\\\\\"nick_name\\\\\":\\\\\"🌧🌧\\\\\"},{\\\\\"uid\\\\\":1623401123,\\\\\"head\\\\\":\\\\\"https://esx.bigolive.tv/eu_live/2u2/1FYjj3.png\\\\\",\\\\\"diamond\\\\\":50000,\\\\\"nick_name\\\\\":\\\\\"❌Aʟʙᴀʀᴏᴏɴ🌠Sᴀᴍ💯\\\\\"},{\\\\\"uid\\\\\":403647745,\\\\\"head\\\\\":\\\\\"https://esx.bigolive.tv/na_live/3a2/25ACRU.jpg\\\\\",\\\\\"diamond\\\\\":35500,\\\\\"nick_name\\\\\":\\\\\"کاکا\\\\\"},{\\\\\"uid\\\\\":1594324141,\\\\\"head\\\\\":\\\\\"https://esx.bigolive.tv/eu_live/2u2/2xmygg.png\\\\\",\\\\\"diamond\\\\\":31900,\\\\\"nick_name\\\\\":\\\\\"🎀Cemre🎀\\\\\"},{\\\\\"uid\\\\\":424221689,\\\\\"head\\\\\":\\\\\"https://esx.bigolive.tv/live/4h4/M02/00/B2/hBIRAF8HKHKIFjylAAABXtKHsxMAAUNkwMzrqQAAAF2531.png\\\\\",\\\\\"diamond\\\\\":31000,\\\\\"nick_name\\\\\":\\\\\".\\\\\"}]\\'),']\n",
            "1 :  7 :  ['(426583,', '1551,', '2,', '20200822,', \"'2020-08-22\", \"11:23:03',\", '\\'[{\\\\\"uid\\\\\":1623401123,\\\\\"head\\\\\":\\\\\"https://esx.bigolive.tv/eu_live/2u2/1FYjj3.png\\\\\",\\\\\"diamond\\\\\":63000,\\\\\"nick_name\\\\\":\\\\\"❌Aʟʙᴀʀᴏᴏɴ🌠Sᴀᴍ💯\\\\\"},{\\\\\"uid\\\\\":1790631794,\\\\\"head\\\\\":\\\\\"https://esx.bigolive.tv/eu_live/2u2/0BmfXu_4.png?type=20\\\\\",\\\\\"diamond\\\\\":61500,\\\\\"nick_name\\\\\":\\\\\"★彡BullyBoy彡★\\\\\"},{\\\\\"uid\\\\\":442586988,\\\\\"head\\\\\":\\\\\"https://esx.bigolive.tv/eu_live/2u2/1Dk5TP.jpg\\\\\",\\\\\"diamond\\\\\":60000,\\\\\"nick_name\\\\\":\\\\\"PlayBoy\\U0001f9de\\u200d♂️\\\\\"},{\\\\\"uid\\\\\":1706771367,\\\\\"head\\\\\":\\\\\"https://esx.bigolive.tv/eu_live/2u2/2JEmnN_4.jpg?type=20\\\\\",\\\\\"diamond\\\\\":60000,\\\\\"nick_name\\\\\":\\\\\"مـضـاوي🍭\\\\\"},{\\\\\"uid\\\\\":1812946691,\\\\\"head\\\\\":\\\\\"https://esx.bigolive.tv/live/4h3/M08/0B/9D/RxIRAF81atqIC0SoAAAC0l8vBSYAAbf1AHZCicAAALq619.jpg\\\\\",\\\\\"diamond\\\\\":48000,\\\\\"nick_name\\\\\":\\\\\"🌧🌧\\\\\"}]\\'),']\n",
            "2 :  10 :  ['(426584,', '1552,', '7,', '20200822,', \"'2020-08-22\", \"11:23:47',\", '\\'[{\\\\\"uid\\\\\":1541845934,\\\\\"head\\\\\":\\\\\"https://esx.bigolive.tv/eu_live/2u2/1zbGgs_4.png?type=20\\\\\",\\\\\"diamond\\\\\":60000,\\\\\"nick_name\\\\\":\\\\\"➰Abdul🌹hannan➰\\\\\"},{\\\\\"uid\\\\\":1812946691,\\\\\"head\\\\\":\\\\\"https://esx.bigolive.tv/live/4h3/M08/0B/9D/RxIRAF81atqIC0SoAAAC0l8vBSYAAbf1AHZCicAAALq619.jpg\\\\\",\\\\\"diamond\\\\\":53000,\\\\\"nick_name\\\\\":\\\\\"🌧🌧\\\\\"},{\\\\\"uid\\\\\":1594324141,\\\\\"head\\\\\":\\\\\"https://esx.bigolive.tv/eu_live/2u2/2xmygg.png\\\\\",\\\\\"diamond\\\\\":31850,\\\\\"nick_name\\\\\":\\\\\"🎀Cemre🎀\\\\\"},{\\\\\"uid\\\\\":424221689,\\\\\"head\\\\\":\\\\\"https://esx.bigolive.tv/live/4h4/M02/00/B2/hBIRAF8HKHKIFjylAAABXtKHsxMAAUNkwMzrqQAAAF2531.png\\\\\",\\\\\"diamond\\\\\":31000,\\\\\"nick_name\\\\\":\\\\\".\\\\\"},{\\\\\"uid\\\\\":424319025,\\\\\"head\\\\\":\\\\\"https://esx.bigolive.tv/live/4h6/0Zh11Y.jpg\\\\\",\\\\\"diamond\\\\\":30000,\\\\\"nick_name\\\\\":\\\\\"Đôi', 'Chân', 'Trần', '😎\\\\\"}]\\'),']\n",
            "3 :  7 :  ['(426585,', '1553,', '7,', '20200822,', \"'2020-08-22\", \"11:24:34',\", '\\'[{\\\\\"uid\\\\\":1812946691,\\\\\"head\\\\\":\\\\\"https://esx.bigolive.tv/live/4h3/M08/0B/9D/RxIRAF81atqIC0SoAAAC0l8vBSYAAbf1AHZCicAAALq619.jpg\\\\\",\\\\\"diamond\\\\\":57500,\\\\\"nick_name\\\\\":\\\\\"🌧🌧\\\\\"},{\\\\\"uid\\\\\":1623401123,\\\\\"head\\\\\":\\\\\"https://esx.bigolive.tv/eu_live/2u2/1FYjj3.png\\\\\",\\\\\"diamond\\\\\":40500,\\\\\"nick_name\\\\\":\\\\\"❌Aʟʙᴀʀᴏᴏɴ🌠Sᴀᴍ💯\\\\\"},{\\\\\"uid\\\\\":403647745,\\\\\"head\\\\\":\\\\\"https://esx.bigolive.tv/na_live/3a2/25ACRU.jpg\\\\\",\\\\\"diamond\\\\\":35000,\\\\\"nick_name\\\\\":\\\\\"کاکا\\\\\"},{\\\\\"uid\\\\\":1594324141,\\\\\"head\\\\\":\\\\\"https://esx.bigolive.tv/eu_live/2u2/2xmygg.png\\\\\",\\\\\"diamond\\\\\":32050,\\\\\"nick_name\\\\\":\\\\\"🎀Cemre🎀\\\\\"},{\\\\\"uid\\\\\":424221689,\\\\\"head\\\\\":\\\\\"https://esx.bigolive.tv/live/4h4/M02/00/B2/hBIRAF8HKHKIFjylAAABXtKHsxMAAUNkwMzrqQAAAF2531.png\\\\\",\\\\\"diamond\\\\\":31000,\\\\\"nick_name\\\\\":\\\\\".\\\\\"}]\\'),']\n",
            "4 :  7 :  ['(426586,', '1554,', '2,', '20200822,', \"'2020-08-22\", \"11:25:16',\", '\\'[{\\\\\"uid\\\\\":403647745,\\\\\"head\\\\\":\\\\\"https://esx.bigolive.tv/na_live/3a2/25ACRU.jpg\\\\\",\\\\\"diamond\\\\\":120000,\\\\\"nick_name\\\\\":\\\\\"کاکا\\\\\"},{\\\\\"uid\\\\\":1672345305,\\\\\"head\\\\\":\\\\\"https://esx.bigolive.tv/eu_live/2u2/2JEBSl_4.png?type=20\\\\\",\\\\\"diamond\\\\\":90000,\\\\\"nick_name\\\\\":\\\\\"GoHaR\\\\\"},{\\\\\"uid\\\\\":1879554701,\\\\\"head\\\\\":\\\\\"https://esx.bigolive.tv/live/g1/M06/05/71/LXz8F1lKHcWICLUWAAAGUlf6IQ8AAIfnwMKs6sAAAZq235.jpg\\\\\",\\\\\"diamond\\\\\":75000,\\\\\"nick_name\\\\\":\\\\\"🎼\\\\\"},{\\\\\"uid\\\\\":1812946691,\\\\\"head\\\\\":\\\\\"https://esx.bigolive.tv/live/4h3/M08/0B/9D/RxIRAF81atqIC0SoAAAC0l8vBSYAAbf1AHZCicAAALq619.jpg\\\\\",\\\\\"diamond\\\\\":60000,\\\\\"nick_name\\\\\":\\\\\"🌧🌧\\\\\"},{\\\\\"uid\\\\\":1706771367,\\\\\"head\\\\\":\\\\\"https://esx.bigolive.tv/eu_live/2u2/2JEmnN_4.jpg?type=20\\\\\",\\\\\"diamond\\\\\":60000,\\\\\"nick_name\\\\\":\\\\\"مـضـاوي🍭\\\\\"}]\\'),']\n"
          ],
          "name": "stdout"
        }
      ]
    },
    {
      "cell_type": "code",
      "metadata": {
        "colab": {
          "base_uri": "https://localhost:8080/"
        },
        "id": "zsUtH7DHY1Qr",
        "outputId": "168eaef5-a517-43f8-b7f1-7626ee5208ac"
      },
      "source": [
        "i = id.index(426582)\r\n",
        "for value in values[i].split(','):\r\n",
        "  print(value)"
      ],
      "execution_count": null,
      "outputs": [
        {
          "output_type": "stream",
          "text": [
            "'[{\\\"uid\\\":1812946691\n",
            "\\\"head\\\":\\\"https://esx.bigolive.tv/live/4h3/M08/0B/9D/RxIRAF81atqIC0SoAAAC0l8vBSYAAbf1AHZCicAAALq619.jpg\\\"\n",
            "\\\"diamond\\\":53500\n",
            "\\\"nick_name\\\":\\\"🌧🌧\\\"}\n",
            "{\\\"uid\\\":1623401123\n",
            "\\\"head\\\":\\\"https://esx.bigolive.tv/eu_live/2u2/1FYjj3.png\\\"\n",
            "\\\"diamond\\\":50000\n",
            "\\\"nick_name\\\":\\\"❌Aʟʙᴀʀᴏᴏɴ🌠Sᴀᴍ💯\\\"}\n",
            "{\\\"uid\\\":403647745\n",
            "\\\"head\\\":\\\"https://esx.bigolive.tv/na_live/3a2/25ACRU.jpg\\\"\n",
            "\\\"diamond\\\":35500\n",
            "\\\"nick_name\\\":\\\"کاکا\\\"}\n",
            "{\\\"uid\\\":1594324141\n",
            "\\\"head\\\":\\\"https://esx.bigolive.tv/eu_live/2u2/2xmygg.png\\\"\n",
            "\\\"diamond\\\":31900\n",
            "\\\"nick_name\\\":\\\"🎀Cemre🎀\\\"}\n",
            "{\\\"uid\\\":424221689\n",
            "\\\"head\\\":\\\"https://esx.bigolive.tv/live/4h4/M02/00/B2/hBIRAF8HKHKIFjylAAABXtKHsxMAAUNkwMzrqQAAAF2531.png\\\"\n",
            "\\\"diamond\\\":31000\n",
            "\\\"nick_name\\\":\\\".\\\"}]')\n",
            "\n"
          ],
          "name": "stdout"
        }
      ]
    },
    {
      "cell_type": "code",
      "metadata": {
        "colab": {
          "base_uri": "https://localhost:8080/",
          "height": 202
        },
        "id": "mtiEv8UsXw6p",
        "outputId": "ddc3fc78-71c5-4503-ff59-1feb48e92f29"
      },
      "source": [
        "#ids, round_ids, prize_ids, xdates, days, times, values = [], [], [], [], [], [], []\r\n",
        "df_dict = {'id': ids,\r\n",
        "           'round_id':round_ids,\r\n",
        "           'prize_id':prize_ids,\r\n",
        "           'xdate': xdates,\r\n",
        "           'day':days,\r\n",
        "           'time':times,\r\n",
        "          }\r\n",
        "\r\n",
        "df = pd.DataFrame(df_dict) \r\n",
        "df.head()"
      ],
      "execution_count": null,
      "outputs": [
        {
          "output_type": "execute_result",
          "data": {
            "text/html": [
              "<div>\n",
              "<style scoped>\n",
              "    .dataframe tbody tr th:only-of-type {\n",
              "        vertical-align: middle;\n",
              "    }\n",
              "\n",
              "    .dataframe tbody tr th {\n",
              "        vertical-align: top;\n",
              "    }\n",
              "\n",
              "    .dataframe thead th {\n",
              "        text-align: right;\n",
              "    }\n",
              "</style>\n",
              "<table border=\"1\" class=\"dataframe\">\n",
              "  <thead>\n",
              "    <tr style=\"text-align: right;\">\n",
              "      <th></th>\n",
              "      <th>id</th>\n",
              "      <th>round_id</th>\n",
              "      <th>prize_id</th>\n",
              "      <th>xdate</th>\n",
              "      <th>day</th>\n",
              "      <th>time</th>\n",
              "    </tr>\n",
              "  </thead>\n",
              "  <tbody>\n",
              "    <tr>\n",
              "      <th>0</th>\n",
              "      <td>1</td>\n",
              "      <td>255</td>\n",
              "      <td>7</td>\n",
              "      <td>20191227</td>\n",
              "      <td>2019-12-26</td>\n",
              "      <td>19:10:59</td>\n",
              "    </tr>\n",
              "    <tr>\n",
              "      <th>1</th>\n",
              "      <td>2</td>\n",
              "      <td>256</td>\n",
              "      <td>7</td>\n",
              "      <td>20191227</td>\n",
              "      <td>2019-12-26</td>\n",
              "      <td>19:11:45</td>\n",
              "    </tr>\n",
              "    <tr>\n",
              "      <th>2</th>\n",
              "      <td>3</td>\n",
              "      <td>257</td>\n",
              "      <td>7</td>\n",
              "      <td>20191227</td>\n",
              "      <td>2019-12-26</td>\n",
              "      <td>19:12:31</td>\n",
              "    </tr>\n",
              "    <tr>\n",
              "      <th>3</th>\n",
              "      <td>4</td>\n",
              "      <td>258</td>\n",
              "      <td>3</td>\n",
              "      <td>20191227</td>\n",
              "      <td>2019-12-26</td>\n",
              "      <td>19:13:13</td>\n",
              "    </tr>\n",
              "    <tr>\n",
              "      <th>4</th>\n",
              "      <td>5</td>\n",
              "      <td>259</td>\n",
              "      <td>1</td>\n",
              "      <td>20191227</td>\n",
              "      <td>2019-12-26</td>\n",
              "      <td>19:14:00</td>\n",
              "    </tr>\n",
              "  </tbody>\n",
              "</table>\n",
              "</div>"
            ],
            "text/plain": [
              "   id  round_id  prize_id     xdate         day      time\n",
              "0   1       255         7  20191227  2019-12-26  19:10:59\n",
              "1   2       256         7  20191227  2019-12-26  19:11:45\n",
              "2   3       257         7  20191227  2019-12-26  19:12:31\n",
              "3   4       258         3  20191227  2019-12-26  19:13:13\n",
              "4   5       259         1  20191227  2019-12-26  19:14:00"
            ]
          },
          "metadata": {
            "tags": []
          },
          "execution_count": 102
        }
      ]
    },
    {
      "cell_type": "code",
      "metadata": {
        "id": "LwQNXWq2e46B"
      },
      "source": [
        "save_at = '/content/drive/MyDrive/bigo/dataset.csv'\r\n",
        "df.to_csv(save_at, index = False)"
      ],
      "execution_count": null,
      "outputs": []
    }
  ]
}