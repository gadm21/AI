{
  "nbformat": 4,
  "nbformat_minor": 0,
  "metadata": {
    "colab": {
      "name": "greedy bigo again.ipynb",
      "provenance": [],
      "collapsed_sections": [
        "WjZ4L9DdfXxU",
        "2owtECtofZ4k",
        "2CE-V7fVfnTB",
        "6hRnwS86foX7",
        "_gK2ZHomfp_r"
      ],
      "toc_visible": true,
      "mount_file_id": "1V0iPjkhVHkN5D5xMgN9NhJIiYpkKAtjt",
      "authorship_tag": "ABX9TyPAGLSyQDXDT2Fi9CSin46K",
      "include_colab_link": true
    },
    "kernelspec": {
      "name": "python3",
      "display_name": "Python 3"
    }
  },
  "cells": [
    {
      "cell_type": "markdown",
      "metadata": {
        "id": "view-in-github",
        "colab_type": "text"
      },
      "source": [
        "<a href=\"https://colab.research.google.com/github/gadm21/AI/blob/master/greedy_bigo/greedy_bigo_again.ipynb\" target=\"_parent\"><img src=\"https://colab.research.google.com/assets/colab-badge.svg\" alt=\"Open In Colab\"/></a>"
      ]
    },
    {
      "cell_type": "markdown",
      "metadata": {
        "id": "WjZ4L9DdfXxU"
      },
      "source": [
        "# Import"
      ]
    },
    {
      "cell_type": "code",
      "metadata": {
        "id": "_oz07V8rfZDD"
      },
      "source": [
        "import pandas as pd\r\n",
        "import numpy as np \r\n",
        "import matplotlib.pyplot as plt\r\n",
        "import seaborn as sb\r\n",
        "\r\n",
        "from sklearn.model_selection import train_test_split\r\n"
      ],
      "execution_count": null,
      "outputs": []
    },
    {
      "cell_type": "markdown",
      "metadata": {
        "id": "2owtECtofZ4k"
      },
      "source": [
        "# Function"
      ]
    },
    {
      "cell_type": "code",
      "metadata": {
        "id": "79-9roxOfaoy"
      },
      "source": [
        "def download_data():\r\n",
        "  !wget --load-cookies /tmp/cookies.txt \"https://docs.google.com/uc?export=download&confirm=$(wget --quiet --save-cookies /tmp/cookies.txt --keep-session-cookies \\\r\n",
        "   --no-check-certificate 'https://docs.google.com/uc?export=download&id=1z8x_FzgU8uQkrSVY3mzmj_v0DGWw13zW' \\\r\n",
        "   -O- | sed -rn 's/.*confirm=([0-9A-Za-z_]+).*/\\1\\n/p')&id=1z8x_FzgU8uQkrSVY3mzmj_v0DGWw13zW\" -O dataset.csv && rm -rf /tmp/cookies.txt\r\n",
        "\r\n"
      ],
      "execution_count": null,
      "outputs": []
    },
    {
      "cell_type": "markdown",
      "metadata": {
        "id": "2CE-V7fVfnTB"
      },
      "source": [
        "# read data"
      ]
    },
    {
      "cell_type": "code",
      "metadata": {
        "id": "QHxCtKv7foDP"
      },
      "source": [
        "%%capture\r\n",
        "download_data() \r\n",
        "df = pd.read_csv('dataset.csv')"
      ],
      "execution_count": null,
      "outputs": []
    },
    {
      "cell_type": "code",
      "metadata": {
        "colab": {
          "base_uri": "https://localhost:8080/",
          "height": 202
        },
        "id": "hot8hP7Bf0-p",
        "outputId": "eb1bb462-1d4a-4d8b-8cae-7ad50dcfbde2"
      },
      "source": [
        "df.head()"
      ],
      "execution_count": null,
      "outputs": [
        {
          "output_type": "execute_result",
          "data": {
            "text/html": [
              "<div>\n",
              "<style scoped>\n",
              "    .dataframe tbody tr th:only-of-type {\n",
              "        vertical-align: middle;\n",
              "    }\n",
              "\n",
              "    .dataframe tbody tr th {\n",
              "        vertical-align: top;\n",
              "    }\n",
              "\n",
              "    .dataframe thead th {\n",
              "        text-align: right;\n",
              "    }\n",
              "</style>\n",
              "<table border=\"1\" class=\"dataframe\">\n",
              "  <thead>\n",
              "    <tr style=\"text-align: right;\">\n",
              "      <th></th>\n",
              "      <th>id</th>\n",
              "      <th>round_id</th>\n",
              "      <th>prize_id</th>\n",
              "      <th>xdate</th>\n",
              "      <th>day</th>\n",
              "      <th>time</th>\n",
              "    </tr>\n",
              "  </thead>\n",
              "  <tbody>\n",
              "    <tr>\n",
              "      <th>0</th>\n",
              "      <td>1</td>\n",
              "      <td>255</td>\n",
              "      <td>7</td>\n",
              "      <td>20191227</td>\n",
              "      <td>2019-12-26</td>\n",
              "      <td>19:10:59</td>\n",
              "    </tr>\n",
              "    <tr>\n",
              "      <th>1</th>\n",
              "      <td>2</td>\n",
              "      <td>256</td>\n",
              "      <td>7</td>\n",
              "      <td>20191227</td>\n",
              "      <td>2019-12-26</td>\n",
              "      <td>19:11:45</td>\n",
              "    </tr>\n",
              "    <tr>\n",
              "      <th>2</th>\n",
              "      <td>3</td>\n",
              "      <td>257</td>\n",
              "      <td>7</td>\n",
              "      <td>20191227</td>\n",
              "      <td>2019-12-26</td>\n",
              "      <td>19:12:31</td>\n",
              "    </tr>\n",
              "    <tr>\n",
              "      <th>3</th>\n",
              "      <td>4</td>\n",
              "      <td>258</td>\n",
              "      <td>3</td>\n",
              "      <td>20191227</td>\n",
              "      <td>2019-12-26</td>\n",
              "      <td>19:13:13</td>\n",
              "    </tr>\n",
              "    <tr>\n",
              "      <th>4</th>\n",
              "      <td>5</td>\n",
              "      <td>259</td>\n",
              "      <td>1</td>\n",
              "      <td>20191227</td>\n",
              "      <td>2019-12-26</td>\n",
              "      <td>19:14:00</td>\n",
              "    </tr>\n",
              "  </tbody>\n",
              "</table>\n",
              "</div>"
            ],
            "text/plain": [
              "   id  round_id  prize_id     xdate         day      time\n",
              "0   1       255         7  20191227  2019-12-26  19:10:59\n",
              "1   2       256         7  20191227  2019-12-26  19:11:45\n",
              "2   3       257         7  20191227  2019-12-26  19:12:31\n",
              "3   4       258         3  20191227  2019-12-26  19:13:13\n",
              "4   5       259         1  20191227  2019-12-26  19:14:00"
            ]
          },
          "metadata": {
            "tags": []
          },
          "execution_count": 6
        }
      ]
    },
    {
      "cell_type": "markdown",
      "metadata": {
        "id": "6hRnwS86foX7"
      },
      "source": [
        "# datetime convert"
      ]
    },
    {
      "cell_type": "code",
      "metadata": {
        "colab": {
          "base_uri": "https://localhost:8080/",
          "height": 202
        },
        "id": "VBW4a6NkfpkC",
        "outputId": "c50605b3-3e37-4f55-cf11-71ff0e4a93c5"
      },
      "source": [
        "day = pd.to_datetime(df.day, format = '%Y-%m-%d')\r\n",
        "time = pd.to_datetime(df.time, format = '%H:%M:%S')\r\n",
        "\r\n",
        "df['month'] = np.array([d.month for d in day])\r\n",
        "df['dayy'] = np.array([d.day for d in day])\r\n",
        "df['year'] = np.array([d.year for d in day])\r\n",
        "df['hour'] = np.array([t.hour for t in time])\r\n",
        "df['minute'] = np.array([t.minute for t in time])\r\n",
        "df['second']  = np.array([t.second for t in time])\r\n",
        "\r\n",
        "ddf = df.drop(columns = ['xdate', 'day', 'time'])\r\n",
        "ddf.head()"
      ],
      "execution_count": null,
      "outputs": [
        {
          "output_type": "execute_result",
          "data": {
            "text/html": [
              "<div>\n",
              "<style scoped>\n",
              "    .dataframe tbody tr th:only-of-type {\n",
              "        vertical-align: middle;\n",
              "    }\n",
              "\n",
              "    .dataframe tbody tr th {\n",
              "        vertical-align: top;\n",
              "    }\n",
              "\n",
              "    .dataframe thead th {\n",
              "        text-align: right;\n",
              "    }\n",
              "</style>\n",
              "<table border=\"1\" class=\"dataframe\">\n",
              "  <thead>\n",
              "    <tr style=\"text-align: right;\">\n",
              "      <th></th>\n",
              "      <th>id</th>\n",
              "      <th>round_id</th>\n",
              "      <th>prize_id</th>\n",
              "      <th>month</th>\n",
              "      <th>dayy</th>\n",
              "      <th>year</th>\n",
              "      <th>hour</th>\n",
              "      <th>minute</th>\n",
              "      <th>second</th>\n",
              "    </tr>\n",
              "  </thead>\n",
              "  <tbody>\n",
              "    <tr>\n",
              "      <th>0</th>\n",
              "      <td>1</td>\n",
              "      <td>255</td>\n",
              "      <td>7</td>\n",
              "      <td>12</td>\n",
              "      <td>26</td>\n",
              "      <td>2019</td>\n",
              "      <td>19</td>\n",
              "      <td>10</td>\n",
              "      <td>59</td>\n",
              "    </tr>\n",
              "    <tr>\n",
              "      <th>1</th>\n",
              "      <td>2</td>\n",
              "      <td>256</td>\n",
              "      <td>7</td>\n",
              "      <td>12</td>\n",
              "      <td>26</td>\n",
              "      <td>2019</td>\n",
              "      <td>19</td>\n",
              "      <td>11</td>\n",
              "      <td>45</td>\n",
              "    </tr>\n",
              "    <tr>\n",
              "      <th>2</th>\n",
              "      <td>3</td>\n",
              "      <td>257</td>\n",
              "      <td>7</td>\n",
              "      <td>12</td>\n",
              "      <td>26</td>\n",
              "      <td>2019</td>\n",
              "      <td>19</td>\n",
              "      <td>12</td>\n",
              "      <td>31</td>\n",
              "    </tr>\n",
              "    <tr>\n",
              "      <th>3</th>\n",
              "      <td>4</td>\n",
              "      <td>258</td>\n",
              "      <td>3</td>\n",
              "      <td>12</td>\n",
              "      <td>26</td>\n",
              "      <td>2019</td>\n",
              "      <td>19</td>\n",
              "      <td>13</td>\n",
              "      <td>13</td>\n",
              "    </tr>\n",
              "    <tr>\n",
              "      <th>4</th>\n",
              "      <td>5</td>\n",
              "      <td>259</td>\n",
              "      <td>1</td>\n",
              "      <td>12</td>\n",
              "      <td>26</td>\n",
              "      <td>2019</td>\n",
              "      <td>19</td>\n",
              "      <td>14</td>\n",
              "      <td>0</td>\n",
              "    </tr>\n",
              "  </tbody>\n",
              "</table>\n",
              "</div>"
            ],
            "text/plain": [
              "   id  round_id  prize_id  month  dayy  year  hour  minute  second\n",
              "0   1       255         7     12    26  2019    19      10      59\n",
              "1   2       256         7     12    26  2019    19      11      45\n",
              "2   3       257         7     12    26  2019    19      12      31\n",
              "3   4       258         3     12    26  2019    19      13      13\n",
              "4   5       259         1     12    26  2019    19      14       0"
            ]
          },
          "metadata": {
            "tags": []
          },
          "execution_count": 41
        }
      ]
    },
    {
      "cell_type": "code",
      "metadata": {
        "id": "JXqMKBkqspMr"
      },
      "source": [
        ""
      ],
      "execution_count": null,
      "outputs": []
    },
    {
      "cell_type": "markdown",
      "metadata": {
        "id": "_gK2ZHomfp_r"
      },
      "source": [
        "# split data"
      ]
    },
    {
      "cell_type": "code",
      "metadata": {
        "colab": {
          "base_uri": "https://localhost:8080/"
        },
        "id": "3dPQzvjufqxb",
        "outputId": "59879014-4c91-48fc-c2c5-8d5efa8c7fa9"
      },
      "source": [
        "fit_features = ['round_id', 'month', 'dayy', 'year', 'hour', 'minute', 'second'] \r\n",
        "label = ['prize_id']\r\n",
        "relevant_features = fit_features + label \r\n",
        "relevant_features"
      ],
      "execution_count": null,
      "outputs": [
        {
          "output_type": "execute_result",
          "data": {
            "text/plain": [
              "['round_id', 'month', 'dayy', 'year', 'hour', 'minute', 'second', 'prize_id']"
            ]
          },
          "metadata": {
            "tags": []
          },
          "execution_count": 47
        }
      ]
    },
    {
      "cell_type": "code",
      "metadata": {
        "id": "TeP9tkSdtFCJ"
      },
      "source": [
        "relevant_df = ddf[relevant_features].copy()\r\n",
        "fit_df = ddf[fit_features].copy() \r\n",
        "label_df = ddf[label].copy()"
      ],
      "execution_count": null,
      "outputs": []
    },
    {
      "cell_type": "code",
      "metadata": {
        "colab": {
          "base_uri": "https://localhost:8080/"
        },
        "id": "0uSTneXNtaL-",
        "outputId": "7e69f6fc-81a2-43dc-8223-d8120dcf6f77"
      },
      "source": [
        "train_data, test_data = train_test_split(relevant_df, test_size = 0.2, random_state = 10)\r\n",
        "print(\"train_shape:{} | test_shape:{}\".format(train_data.shape, test_data.shape))"
      ],
      "execution_count": null,
      "outputs": [
        {
          "output_type": "stream",
          "text": [
            "train_shape:(553400, 8) | test_shape:(138351, 8)\n"
          ],
          "name": "stdout"
        }
      ]
    },
    {
      "cell_type": "code",
      "metadata": {
        "colab": {
          "base_uri": "https://localhost:8080/"
        },
        "id": "pw2-6CYHuf8L",
        "outputId": "3b2aa51f-f6ba-4c74-9afc-761e0214cace"
      },
      "source": [
        "train_x = train_data.drop(label, axis = 1) \r\n",
        "train_y = train_data.drop(fit_features, axis = 1) \r\n",
        "\r\n",
        "test_x = test_data.drop(label, axis = 1) \r\n",
        "test_y = test_data.drop(fit_features, axis = 1) \r\n",
        "\r\n",
        "print(\"train_x:{} train_y:{}\".format(train_x.shape, train_y.shape))\r\n",
        "print(\"test_x:{} test_y:{}\".format(test_x.shape, test_y.shape))"
      ],
      "execution_count": null,
      "outputs": [
        {
          "output_type": "stream",
          "text": [
            "train_x:(553400, 7) train_y:(553400, 1)\n",
            "test_x:(138351, 7) test_y:(138351, 1)\n"
          ],
          "name": "stdout"
        }
      ]
    },
    {
      "cell_type": "markdown",
      "metadata": {
        "id": "HBc2lg01uKT4"
      },
      "source": [
        "# Model"
      ]
    },
    {
      "cell_type": "code",
      "metadata": {
        "colab": {
          "base_uri": "https://localhost:8080/"
        },
        "id": "1FKYC5MruFSJ",
        "outputId": "43fdc968-63f2-41ca-b6db-b290b86949fc"
      },
      "source": [
        "import matplotlib.pyplot as plt\r\n",
        "import seaborn as sb\r\n",
        "%matplotlib inline\r\n",
        "\r\n",
        "from sklearn.impute import SimpleImputer\r\n",
        "from sklearn.preprocessing import OneHotEncoder, MinMaxScaler\r\n",
        "from sklearn.feature_extraction.text import CountVectorizer\r\n",
        "from sklearn.pipeline import Pipeline\r\n",
        "from sklearn.compose import ColumnTransformer\r\n",
        "from sklearn.neighbors import KNeighborsClassifier\r\n",
        "from sklearn.tree import DecisionTreeClassifier\r\n",
        "from sklearn.ensemble import GradientBoostingClassifier\r\n",
        "from sklearn.ensemble import RandomForestClassifier, RandomForestRegressor\r\n",
        "from sklearn.metrics import classification_report\r\n",
        "from sklearn.metrics import accuracy_score\r\n",
        "from sklearn.linear_model import LinearRegression\r\n",
        "\r\n",
        "from sklearn.metrics import confusion_matrix, classification_report, accuracy_score\r\n",
        "\r\n",
        "\r\n",
        "regressor = RandomForestRegressor(n_estimators = 100, random_state = 0) \r\n",
        "regressor.fit(train_x, train_y) "
      ],
      "execution_count": null,
      "outputs": [
        {
          "output_type": "stream",
          "text": [
            "/usr/local/lib/python3.6/dist-packages/ipykernel_launcher.py:22: DataConversionWarning: A column-vector y was passed when a 1d array was expected. Please change the shape of y to (n_samples,), for example using ravel().\n"
          ],
          "name": "stderr"
        },
        {
          "output_type": "execute_result",
          "data": {
            "text/plain": [
              "RandomForestRegressor(bootstrap=True, ccp_alpha=0.0, criterion='mse',\n",
              "                      max_depth=None, max_features='auto', max_leaf_nodes=None,\n",
              "                      max_samples=None, min_impurity_decrease=0.0,\n",
              "                      min_impurity_split=None, min_samples_leaf=1,\n",
              "                      min_samples_split=2, min_weight_fraction_leaf=0.0,\n",
              "                      n_estimators=100, n_jobs=None, oob_score=False,\n",
              "                      random_state=0, verbose=0, warm_start=False)"
            ]
          },
          "metadata": {
            "tags": []
          },
          "execution_count": 53
        }
      ]
    },
    {
      "cell_type": "code",
      "metadata": {
        "id": "84fK-6EAwul9"
      },
      "source": [
        "test_predictions = regressor.predict(test_x)"
      ],
      "execution_count": null,
      "outputs": []
    },
    {
      "cell_type": "code",
      "metadata": {
        "colab": {
          "base_uri": "https://localhost:8080/"
        },
        "id": "Ea9hXskWw3DW",
        "outputId": "72df3835-e25f-4cf7-b8cb-565f06a5c0a2"
      },
      "source": [
        "test_y = np.array(test_y)[:, 0]\r\n",
        "test_predictions = test_predictions.round().astype(int)\r\n",
        "test_predictions.shape, test_y.shape"
      ],
      "execution_count": null,
      "outputs": [
        {
          "output_type": "execute_result",
          "data": {
            "text/plain": [
              "((138351,), (138351,))"
            ]
          },
          "metadata": {
            "tags": []
          },
          "execution_count": 66
        }
      ]
    },
    {
      "cell_type": "code",
      "metadata": {
        "colab": {
          "base_uri": "https://localhost:8080/"
        },
        "id": "Ua2NllpRxKMX",
        "outputId": "355f85a8-6f02-4421-9518-a68704f44624"
      },
      "source": [
        "test_y[:10], test_predictions[:10]"
      ],
      "execution_count": null,
      "outputs": [
        {
          "output_type": "execute_result",
          "data": {
            "text/plain": [
              "(array([ 2,  7,  2,  6,  2,  6,  6,  5, 10,  8]),\n",
              " array([6, 6, 5, 5, 6, 6, 5, 7, 6, 6]))"
            ]
          },
          "metadata": {
            "tags": []
          },
          "execution_count": 67
        }
      ]
    },
    {
      "cell_type": "code",
      "metadata": {
        "colab": {
          "base_uri": "https://localhost:8080/",
          "height": 853
        },
        "id": "P2OeiwwMvR4U",
        "outputId": "a7a7f98b-efa1-4fe8-ed82-3025657e28c6"
      },
      "source": [
        "\r\n",
        "\r\n",
        "print(confusion_matrix(test_y, test_predictions))\r\n",
        "print(classification_report(test_y, test_predictions))\r\n",
        "print(\"Accuracy (testing):\", accuracy_score(test_y, test_predictions))\r\n",
        "\r\n",
        "sb.regplot(test_y, test_predictions, scatter_kws={'alpha':1, 'color':'y'})\r\n",
        "plt.xlabel('Actual default payment')\r\n",
        "plt.ylabel('Predicted default payment')\r\n",
        "plt.show()"
      ],
      "execution_count": null,
      "outputs": [
        {
          "output_type": "stream",
          "text": [
            "[[    0    14   219  1550  5480  5974   749    12     0     0]\n",
            " [    0     2   101  1016  3424  3844   503     4     0     0]\n",
            " [    0     1    78   590  2093  2264   322     3     0     0]\n",
            " [    0     0    42   269  1030  1107   169     3     0     0]\n",
            " [    0    11   334  2951 10289 11449  1506    14     0     0]\n",
            " [    0     8   355  2904 10134 11538  1510    19     0     0]\n",
            " [    0     5   338  2944 10407 11594  1561    18     0     0]\n",
            " [    0    16   341  3062 10379 11497  1564    10     0     0]\n",
            " [    0     0     0     1     3     6     3     0     0     0]\n",
            " [    0     0     8    81   262   324    42     0     0     0]]\n"
          ],
          "name": "stdout"
        },
        {
          "output_type": "stream",
          "text": [
            "/usr/local/lib/python3.6/dist-packages/sklearn/metrics/_classification.py:1272: UndefinedMetricWarning: Precision and F-score are ill-defined and being set to 0.0 in labels with no predicted samples. Use `zero_division` parameter to control this behavior.\n",
            "  _warn_prf(average, modifier, msg_start, len(result))\n"
          ],
          "name": "stderr"
        },
        {
          "output_type": "stream",
          "text": [
            "              precision    recall  f1-score   support\n",
            "\n",
            "           1       0.00      0.00      0.00     13998\n",
            "           2       0.04      0.00      0.00      8894\n",
            "           3       0.04      0.01      0.02      5351\n",
            "           4       0.02      0.10      0.03      2620\n",
            "           5       0.19      0.39      0.26     26554\n",
            "           6       0.19      0.44      0.27     26468\n",
            "           7       0.20      0.06      0.09     26867\n",
            "           8       0.12      0.00      0.00     26869\n",
            "           9       0.00      0.00      0.00        13\n",
            "          10       0.00      0.00      0.00       717\n",
            "\n",
            "    accuracy                           0.17    138351\n",
            "   macro avg       0.08      0.10      0.07    138351\n",
            "weighted avg       0.14      0.17      0.12    138351\n",
            "\n",
            "Accuracy (testing): 0.17164313955085253\n"
          ],
          "name": "stdout"
        },
        {
          "output_type": "stream",
          "text": [
            "/usr/local/lib/python3.6/dist-packages/seaborn/_decorators.py:43: FutureWarning: Pass the following variables as keyword args: x, y. From version 0.12, the only valid positional argument will be `data`, and passing other arguments without an explicit keyword will result in an error or misinterpretation.\n",
            "  FutureWarning\n"
          ],
          "name": "stderr"
        },
        {
          "output_type": "display_data",
          "data": {
            "image/png": "[encoded data removed]",
            "text/plain": [
              "<Figure size 432x288 with 1 Axes>"
            ]
          },
          "metadata": {
            "tags": [],
            "needs_background": "light"
          }
        }
      ]
    },
    {
      "cell_type": "code",
      "metadata": {
        "id": "DztTJJwy3Asa"
      },
      "source": [
        "save_to = '/content/drive/MyDrive/bigo/clean_dataset.csv'\r\n",
        "ddf.to_csv(save_to, index = False)"
      ],
      "execution_count": null,
      "outputs": []
    },
    {
      "cell_type": "code",
      "metadata": {
        "id": "r-GiHmmK3Sp0"
      },
      "source": [
        ""
      ],
      "execution_count": null,
      "outputs": []
    }
  ]
}