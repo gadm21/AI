{
  "nbformat": 4,
  "nbformat_minor": 0,
  "metadata": {
    "colab": {
      "name": "Adv_data_analysis_project.ipynb",
      "provenance": [],
      "collapsed_sections": [
        "SEzwpYjQfVxx",
        "BhqfcJkEvaVF",
        "bMoGq1ZvxebA",
        "vC2PWg6i1nMU",
        "qoHyzKQq2il3"
      ],
      "authorship_tag": "ABX9TyODzFnmbNsp1GN+2C9ILNd/",
      "include_colab_link": true
    },
    "kernelspec": {
      "name": "python3",
      "display_name": "Python 3"
    }
  },
  "cells": [
    {
      "cell_type": "markdown",
      "metadata": {
        "id": "view-in-github",
        "colab_type": "text"
      },
      "source": [
        "<a href=\"https://colab.research.google.com/github/gadm21/AI/blob/master/Data_science/Adv_data_analysis_project.ipynb\" target=\"_parent\"><img src=\"https://colab.research.google.com/assets/colab-badge.svg\" alt=\"Open In Colab\"/></a>"
      ]
    },
    {
      "cell_type": "markdown",
      "metadata": {
        "id": "YBX8sD1BoQlJ"
      },
      "source": [
        "#**Project: Gapminder World datasets**"
      ]
    },
    {
      "cell_type": "code",
      "metadata": {
        "id": "1mHOQ4vRfNod"
      },
      "source": [
        "#importing libraries\n",
        "import pandas as pd \n",
        "import numpy as np \n",
        "import matplotlib.pyplot as plt"
      ],
      "execution_count": null,
      "outputs": []
    },
    {
      "cell_type": "markdown",
      "metadata": {
        "id": "SEzwpYjQfVxx"
      },
      "source": [
        "##**Q1. How is democracy affected by number of internet users?**\n",
        "###dataset 1 : democracy index by the Economist Inteligence Unit (EIU)\n",
        "###dataset 2 : internet users by the worldbank "
      ]
    },
    {
      "cell_type": "code",
      "metadata": {
        "id": "dXcraDqcfU3b"
      },
      "source": [
        "#downloads democracy index, internet users, and unemployment rate datasets\n",
        "def download_datasets_1():\n",
        "  !wget --load-cookies /tmp/cookies.txt \"https://docs.google.com/uc?export=download&confirm=$(wget --quiet --save-cookies /tmp/cookies.txt --keep-session-cookies --no-check-certificate 'https://docs.google.com/uc?export=download&id=1i_rv9kx0ke6TwQG_9td7kYnsNue9twhB' -O- | sed -rn 's/.*confirm=([0-9A-Za-z_]+).*/\\1\\n/p')&id=1i_rv9kx0ke6TwQG_9td7kYnsNue9twhB\" -O unemployment.csv && rm -rf /tmp/cookies.txt\n",
        "  !wget --load-cookies /tmp/cookies.txt \"https://docs.google.com/uc?export=download&confirm=$(wget --quiet --save-cookies /tmp/cookies.txt --keep-session-cookies --no-check-certificate 'https://docs.google.com/uc?export=download&id=1Xp_qs0tCScrd4MRW2BrPrwbqyL_n2dz6' -O- | sed -rn 's/.*confirm=([0-9A-Za-z_]+).*/\\1\\n/p')&id=1Xp_qs0tCScrd4MRW2BrPrwbqyL_n2dz6\" -O internet_users.csv && rm -rf /tmp/cookies.txt\n",
        "  !wget --load-cookies /tmp/cookies.txt \"https://docs.google.com/uc?export=download&confirm=$(wget --quiet --save-cookies /tmp/cookies.txt --keep-session-cookies --no-check-certificate 'https://docs.google.com/uc?export=download&id=15wjW7fo-ok0BGFW5nhQXKvYHMK00ypY-' -O- | sed -rn 's/.*confirm=([0-9A-Za-z_]+).*/\\1\\n/p')&id=15wjW7fo-ok0BGFW5nhQXKvYHMK00ypY-\" -O democracy.csv && rm -rf /tmp/cookies.txt\n",
        "\n",
        "#trims the years earlier than 2006 from internet users dataset\n",
        "def trim_dataset(df, first_column):\n",
        "  #firstly, to groupby country easlier, lets standardize country names\n",
        "  df.country = df.country.apply(lambda x : x.replace(' ', '_').lower())\n",
        "  newdf = df.set_index('country') \n",
        "  #Then, we trim the first part of the dataset, by droping columns with names before the given 'first_column' valriable.\n",
        "  for col in newdf.columns:\n",
        "    if int(col) < first_column: \n",
        "      newdf.drop(col, axis=1, inplace=True) \n",
        "  return newdf\n",
        "\n",
        "#chooses the row which belongs to the given country and splits columns into democracy index data and internet users data, \n",
        "#then, plots them on line plot\n",
        "def split_and_draw(df, country):\n",
        "  dem = df.loc[country, [col for col in df.columns if 'dem' in col] ]\n",
        "  intt = df.loc[country, [col for col in df.columns if 'int' in col] ]\n",
        "  #normalize to be able to see the tiny change in democracy index\n",
        "  dem = dem / np.linalg.norm(dem) \n",
        "  intt = intt / np.linalg.norm(intt) \n",
        "  plt.plot(np.arange(6,19), dem, label='democracy (normalized)');\n",
        "  plt.plot(np.arange(6,19), intt, label='internet users (normalized)');\n",
        "  plt.xlabel('years') \n",
        "  plt.ylabel('normalized percentage')\n",
        "  plt.title(country) \n",
        "  plt.legend()\n"
      ],
      "execution_count": null,
      "outputs": []
    },
    {
      "cell_type": "code",
      "metadata": {
        "id": "DKX1bsMOgF9_"
      },
      "source": [
        "%%capture\n",
        "#download datasets \n",
        "download_datasets_1()\n",
        "\n",
        "#read the datasets of democracy and internet users\n",
        "dem_df = pd.read_csv('democracy.csv') \n",
        "int_df = pd.read_csv('internet_users.csv') "
      ],
      "execution_count": null,
      "outputs": []
    },
    {
      "cell_type": "code",
      "metadata": {
        "id": "yTcWhoGAhhUU",
        "outputId": "084da48a-ed36-4d15-a3a8-6d308bf91821",
        "colab": {
          "base_uri": "https://localhost:8080/"
        }
      },
      "source": [
        "dem_df.head()"
      ],
      "execution_count": null,
      "outputs": [
        {
          "output_type": "execute_result",
          "data": {
            "text/html": [
              "<div>\n",
              "<style scoped>\n",
              "    .dataframe tbody tr th:only-of-type {\n",
              "        vertical-align: middle;\n",
              "    }\n",
              "\n",
              "    .dataframe tbody tr th {\n",
              "        vertical-align: top;\n",
              "    }\n",
              "\n",
              "    .dataframe thead th {\n",
              "        text-align: right;\n",
              "    }\n",
              "</style>\n",
              "<table border=\"1\" class=\"dataframe\">\n",
              "  <thead>\n",
              "    <tr style=\"text-align: right;\">\n",
              "      <th></th>\n",
              "      <th>country</th>\n",
              "      <th>2006</th>\n",
              "      <th>2007</th>\n",
              "      <th>2008</th>\n",
              "      <th>2009</th>\n",
              "      <th>2010</th>\n",
              "      <th>2011</th>\n",
              "      <th>2012</th>\n",
              "      <th>2013</th>\n",
              "      <th>2014</th>\n",
              "      <th>2015</th>\n",
              "      <th>2016</th>\n",
              "      <th>2017</th>\n",
              "      <th>2018</th>\n",
              "    </tr>\n",
              "  </thead>\n",
              "  <tbody>\n",
              "    <tr>\n",
              "      <th>0</th>\n",
              "      <td>Afghanistan</td>\n",
              "      <td>0.306</td>\n",
              "      <td>0.304</td>\n",
              "      <td>0.302</td>\n",
              "      <td>0.275</td>\n",
              "      <td>0.248</td>\n",
              "      <td>0.248</td>\n",
              "      <td>0.248</td>\n",
              "      <td>0.248</td>\n",
              "      <td>0.277</td>\n",
              "      <td>0.277</td>\n",
              "      <td>0.255</td>\n",
              "      <td>0.255</td>\n",
              "      <td>0.297</td>\n",
              "    </tr>\n",
              "    <tr>\n",
              "      <th>1</th>\n",
              "      <td>Albania</td>\n",
              "      <td>0.591</td>\n",
              "      <td>0.591</td>\n",
              "      <td>0.591</td>\n",
              "      <td>0.589</td>\n",
              "      <td>0.586</td>\n",
              "      <td>0.581</td>\n",
              "      <td>0.567</td>\n",
              "      <td>0.567</td>\n",
              "      <td>0.567</td>\n",
              "      <td>0.591</td>\n",
              "      <td>0.591</td>\n",
              "      <td>0.598</td>\n",
              "      <td>0.598</td>\n",
              "    </tr>\n",
              "    <tr>\n",
              "      <th>2</th>\n",
              "      <td>Algeria</td>\n",
              "      <td>0.317</td>\n",
              "      <td>0.325</td>\n",
              "      <td>0.332</td>\n",
              "      <td>0.338</td>\n",
              "      <td>0.344</td>\n",
              "      <td>0.344</td>\n",
              "      <td>0.383</td>\n",
              "      <td>0.383</td>\n",
              "      <td>0.383</td>\n",
              "      <td>0.395</td>\n",
              "      <td>0.356</td>\n",
              "      <td>0.356</td>\n",
              "      <td>0.350</td>\n",
              "    </tr>\n",
              "    <tr>\n",
              "      <th>3</th>\n",
              "      <td>Angola</td>\n",
              "      <td>0.241</td>\n",
              "      <td>0.288</td>\n",
              "      <td>0.335</td>\n",
              "      <td>0.334</td>\n",
              "      <td>0.332</td>\n",
              "      <td>0.332</td>\n",
              "      <td>0.335</td>\n",
              "      <td>0.335</td>\n",
              "      <td>0.335</td>\n",
              "      <td>0.335</td>\n",
              "      <td>0.340</td>\n",
              "      <td>0.362</td>\n",
              "      <td>0.362</td>\n",
              "    </tr>\n",
              "    <tr>\n",
              "      <th>4</th>\n",
              "      <td>Argentina</td>\n",
              "      <td>0.663</td>\n",
              "      <td>0.663</td>\n",
              "      <td>0.663</td>\n",
              "      <td>0.673</td>\n",
              "      <td>0.684</td>\n",
              "      <td>0.684</td>\n",
              "      <td>0.684</td>\n",
              "      <td>0.684</td>\n",
              "      <td>0.684</td>\n",
              "      <td>0.702</td>\n",
              "      <td>0.696</td>\n",
              "      <td>0.696</td>\n",
              "      <td>0.702</td>\n",
              "    </tr>\n",
              "  </tbody>\n",
              "</table>\n",
              "</div>"
            ],
            "text/plain": [
              "       country   2006   2007   2008   2009  ...   2014   2015   2016   2017   2018\n",
              "0  Afghanistan  0.306  0.304  0.302  0.275  ...  0.277  0.277  0.255  0.255  0.297\n",
              "1      Albania  0.591  0.591  0.591  0.589  ...  0.567  0.591  0.591  0.598  0.598\n",
              "2      Algeria  0.317  0.325  0.332  0.338  ...  0.383  0.395  0.356  0.356  0.350\n",
              "3       Angola  0.241  0.288  0.335  0.334  ...  0.335  0.335  0.340  0.362  0.362\n",
              "4    Argentina  0.663  0.663  0.663  0.673  ...  0.684  0.702  0.696  0.696  0.702\n",
              "\n",
              "[5 rows x 14 columns]"
            ]
          },
          "metadata": {
            "tags": []
          },
          "execution_count": 46
        }
      ]
    },
    {
      "cell_type": "code",
      "metadata": {
        "id": "vTT7qPnRjnUj",
        "outputId": "41b4b9a3-f7eb-44e5-faed-abff3b9ca9f0",
        "colab": {
          "base_uri": "https://localhost:8080/"
        }
      },
      "source": [
        "dem_df.info()"
      ],
      "execution_count": null,
      "outputs": [
        {
          "output_type": "stream",
          "text": [
            "<class 'pandas.core.frame.DataFrame'>\n",
            "RangeIndex: 164 entries, 0 to 163\n",
            "Data columns (total 14 columns):\n",
            " #   Column   Non-Null Count  Dtype  \n",
            "---  ------   --------------  -----  \n",
            " 0   country  164 non-null    object \n",
            " 1   2006     164 non-null    float64\n",
            " 2   2007     164 non-null    float64\n",
            " 3   2008     164 non-null    float64\n",
            " 4   2009     164 non-null    float64\n",
            " 5   2010     164 non-null    float64\n",
            " 6   2011     164 non-null    float64\n",
            " 7   2012     164 non-null    float64\n",
            " 8   2013     164 non-null    float64\n",
            " 9   2014     164 non-null    float64\n",
            " 10  2015     164 non-null    float64\n",
            " 11  2016     164 non-null    float64\n",
            " 12  2017     164 non-null    float64\n",
            " 13  2018     164 non-null    float64\n",
            "dtypes: float64(13), object(1)\n",
            "memory usage: 18.1+ KB\n"
          ],
          "name": "stdout"
        }
      ]
    },
    {
      "cell_type": "code",
      "metadata": {
        "id": "HIvxyMN8jr69",
        "outputId": "9d6c4961-cb47-4577-a9ef-76472ba4d84a",
        "colab": {
          "base_uri": "https://localhost:8080/"
        }
      },
      "source": [
        "dem_df.describe()"
      ],
      "execution_count": null,
      "outputs": [
        {
          "output_type": "execute_result",
          "data": {
            "text/html": [
              "<div>\n",
              "<style scoped>\n",
              "    .dataframe tbody tr th:only-of-type {\n",
              "        vertical-align: middle;\n",
              "    }\n",
              "\n",
              "    .dataframe tbody tr th {\n",
              "        vertical-align: top;\n",
              "    }\n",
              "\n",
              "    .dataframe thead th {\n",
              "        text-align: right;\n",
              "    }\n",
              "</style>\n",
              "<table border=\"1\" class=\"dataframe\">\n",
              "  <thead>\n",
              "    <tr style=\"text-align: right;\">\n",
              "      <th></th>\n",
              "      <th>2006</th>\n",
              "      <th>2007</th>\n",
              "      <th>2008</th>\n",
              "      <th>2009</th>\n",
              "      <th>2010</th>\n",
              "      <th>2011</th>\n",
              "      <th>2012</th>\n",
              "      <th>2013</th>\n",
              "      <th>2014</th>\n",
              "      <th>2015</th>\n",
              "      <th>2016</th>\n",
              "      <th>2017</th>\n",
              "      <th>2018</th>\n",
              "    </tr>\n",
              "  </thead>\n",
              "  <tbody>\n",
              "    <tr>\n",
              "      <th>count</th>\n",
              "      <td>164.000000</td>\n",
              "      <td>164.000000</td>\n",
              "      <td>164.000000</td>\n",
              "      <td>164.000000</td>\n",
              "      <td>164.000000</td>\n",
              "      <td>164.000000</td>\n",
              "      <td>164.000000</td>\n",
              "      <td>164.000000</td>\n",
              "      <td>164.000000</td>\n",
              "      <td>164.000000</td>\n",
              "      <td>164.000000</td>\n",
              "      <td>164.000000</td>\n",
              "      <td>164.000000</td>\n",
              "    </tr>\n",
              "    <tr>\n",
              "      <th>mean</th>\n",
              "      <td>0.550591</td>\n",
              "      <td>0.552229</td>\n",
              "      <td>0.553762</td>\n",
              "      <td>0.549543</td>\n",
              "      <td>0.545232</td>\n",
              "      <td>0.548055</td>\n",
              "      <td>0.550134</td>\n",
              "      <td>0.551378</td>\n",
              "      <td>0.552799</td>\n",
              "      <td>0.553134</td>\n",
              "      <td>0.549823</td>\n",
              "      <td>0.545384</td>\n",
              "      <td>0.546061</td>\n",
              "    </tr>\n",
              "    <tr>\n",
              "      <th>std</th>\n",
              "      <td>0.227059</td>\n",
              "      <td>0.226048</td>\n",
              "      <td>0.225813</td>\n",
              "      <td>0.224348</td>\n",
              "      <td>0.224033</td>\n",
              "      <td>0.219270</td>\n",
              "      <td>0.220242</td>\n",
              "      <td>0.220460</td>\n",
              "      <td>0.218922</td>\n",
              "      <td>0.220598</td>\n",
              "      <td>0.220813</td>\n",
              "      <td>0.220017</td>\n",
              "      <td>0.221183</td>\n",
              "    </tr>\n",
              "    <tr>\n",
              "      <th>min</th>\n",
              "      <td>0.103000</td>\n",
              "      <td>0.094500</td>\n",
              "      <td>0.086000</td>\n",
              "      <td>0.097000</td>\n",
              "      <td>0.108000</td>\n",
              "      <td>0.108000</td>\n",
              "      <td>0.108000</td>\n",
              "      <td>0.108000</td>\n",
              "      <td>0.108000</td>\n",
              "      <td>0.108000</td>\n",
              "      <td>0.108000</td>\n",
              "      <td>0.108000</td>\n",
              "      <td>0.108000</td>\n",
              "    </tr>\n",
              "    <tr>\n",
              "      <th>25%</th>\n",
              "      <td>0.341000</td>\n",
              "      <td>0.347500</td>\n",
              "      <td>0.345750</td>\n",
              "      <td>0.347000</td>\n",
              "      <td>0.341000</td>\n",
              "      <td>0.352000</td>\n",
              "      <td>0.355000</td>\n",
              "      <td>0.352000</td>\n",
              "      <td>0.352750</td>\n",
              "      <td>0.365000</td>\n",
              "      <td>0.355500</td>\n",
              "      <td>0.361000</td>\n",
              "      <td>0.346500</td>\n",
              "    </tr>\n",
              "    <tr>\n",
              "      <th>50%</th>\n",
              "      <td>0.585500</td>\n",
              "      <td>0.588500</td>\n",
              "      <td>0.585000</td>\n",
              "      <td>0.580500</td>\n",
              "      <td>0.585000</td>\n",
              "      <td>0.584000</td>\n",
              "      <td>0.585000</td>\n",
              "      <td>0.584000</td>\n",
              "      <td>0.577500</td>\n",
              "      <td>0.574000</td>\n",
              "      <td>0.571000</td>\n",
              "      <td>0.566000</td>\n",
              "      <td>0.566000</td>\n",
              "    </tr>\n",
              "    <tr>\n",
              "      <th>75%</th>\n",
              "      <td>0.737250</td>\n",
              "      <td>0.737250</td>\n",
              "      <td>0.735250</td>\n",
              "      <td>0.726250</td>\n",
              "      <td>0.721250</td>\n",
              "      <td>0.717500</td>\n",
              "      <td>0.718000</td>\n",
              "      <td>0.725250</td>\n",
              "      <td>0.739250</td>\n",
              "      <td>0.731000</td>\n",
              "      <td>0.725250</td>\n",
              "      <td>0.720000</td>\n",
              "      <td>0.716750</td>\n",
              "    </tr>\n",
              "    <tr>\n",
              "      <th>max</th>\n",
              "      <td>0.988000</td>\n",
              "      <td>0.988000</td>\n",
              "      <td>0.988000</td>\n",
              "      <td>0.974000</td>\n",
              "      <td>0.980000</td>\n",
              "      <td>0.980000</td>\n",
              "      <td>0.993000</td>\n",
              "      <td>0.993000</td>\n",
              "      <td>0.993000</td>\n",
              "      <td>0.993000</td>\n",
              "      <td>0.993000</td>\n",
              "      <td>0.987000</td>\n",
              "      <td>0.987000</td>\n",
              "    </tr>\n",
              "  </tbody>\n",
              "</table>\n",
              "</div>"
            ],
            "text/plain": [
              "             2006        2007        2008  ...        2016        2017        2018\n",
              "count  164.000000  164.000000  164.000000  ...  164.000000  164.000000  164.000000\n",
              "mean     0.550591    0.552229    0.553762  ...    0.549823    0.545384    0.546061\n",
              "std      0.227059    0.226048    0.225813  ...    0.220813    0.220017    0.221183\n",
              "min      0.103000    0.094500    0.086000  ...    0.108000    0.108000    0.108000\n",
              "25%      0.341000    0.347500    0.345750  ...    0.355500    0.361000    0.346500\n",
              "50%      0.585500    0.588500    0.585000  ...    0.571000    0.566000    0.566000\n",
              "75%      0.737250    0.737250    0.735250  ...    0.725250    0.720000    0.716750\n",
              "max      0.988000    0.988000    0.988000  ...    0.993000    0.987000    0.987000\n",
              "\n",
              "[8 rows x 13 columns]"
            ]
          },
          "metadata": {
            "tags": []
          },
          "execution_count": 48
        }
      ]
    },
    {
      "cell_type": "code",
      "metadata": {
        "id": "QUwYQJqyr9T-",
        "outputId": "b6d4b999-2449-4a62-d5e2-017265262145",
        "colab": {
          "base_uri": "https://localhost:8080/"
        }
      },
      "source": [
        "dem_df.country.nunique()"
      ],
      "execution_count": null,
      "outputs": [
        {
          "output_type": "execute_result",
          "data": {
            "text/plain": [
              "164"
            ]
          },
          "metadata": {
            "tags": []
          },
          "execution_count": 49
        }
      ]
    },
    {
      "cell_type": "code",
      "metadata": {
        "id": "Nl1tXzw8oxXf",
        "outputId": "8ddcc507-4fc3-4393-94b3-c7d2a2a09dfe",
        "colab": {
          "base_uri": "https://localhost:8080/"
        }
      },
      "source": [
        "#to make it easier to taget data by country, make country name easlier to type\n",
        "dem_df.country = dem_df.country.apply(lambda x : x.replace(' ', '_').lower())\n",
        "#set index to be the country instead of numbers\n",
        "dem_df.set_index('country', inplace= True) \n",
        "dem_df.head()"
      ],
      "execution_count": null,
      "outputs": [
        {
          "output_type": "execute_result",
          "data": {
            "text/html": [
              "<div>\n",
              "<style scoped>\n",
              "    .dataframe tbody tr th:only-of-type {\n",
              "        vertical-align: middle;\n",
              "    }\n",
              "\n",
              "    .dataframe tbody tr th {\n",
              "        vertical-align: top;\n",
              "    }\n",
              "\n",
              "    .dataframe thead th {\n",
              "        text-align: right;\n",
              "    }\n",
              "</style>\n",
              "<table border=\"1\" class=\"dataframe\">\n",
              "  <thead>\n",
              "    <tr style=\"text-align: right;\">\n",
              "      <th></th>\n",
              "      <th>2006</th>\n",
              "      <th>2007</th>\n",
              "      <th>2008</th>\n",
              "      <th>2009</th>\n",
              "      <th>2010</th>\n",
              "      <th>2011</th>\n",
              "      <th>2012</th>\n",
              "      <th>2013</th>\n",
              "      <th>2014</th>\n",
              "      <th>2015</th>\n",
              "      <th>2016</th>\n",
              "      <th>2017</th>\n",
              "      <th>2018</th>\n",
              "    </tr>\n",
              "    <tr>\n",
              "      <th>country</th>\n",
              "      <th></th>\n",
              "      <th></th>\n",
              "      <th></th>\n",
              "      <th></th>\n",
              "      <th></th>\n",
              "      <th></th>\n",
              "      <th></th>\n",
              "      <th></th>\n",
              "      <th></th>\n",
              "      <th></th>\n",
              "      <th></th>\n",
              "      <th></th>\n",
              "      <th></th>\n",
              "    </tr>\n",
              "  </thead>\n",
              "  <tbody>\n",
              "    <tr>\n",
              "      <th>afghanistan</th>\n",
              "      <td>0.306</td>\n",
              "      <td>0.304</td>\n",
              "      <td>0.302</td>\n",
              "      <td>0.275</td>\n",
              "      <td>0.248</td>\n",
              "      <td>0.248</td>\n",
              "      <td>0.248</td>\n",
              "      <td>0.248</td>\n",
              "      <td>0.277</td>\n",
              "      <td>0.277</td>\n",
              "      <td>0.255</td>\n",
              "      <td>0.255</td>\n",
              "      <td>0.297</td>\n",
              "    </tr>\n",
              "    <tr>\n",
              "      <th>albania</th>\n",
              "      <td>0.591</td>\n",
              "      <td>0.591</td>\n",
              "      <td>0.591</td>\n",
              "      <td>0.589</td>\n",
              "      <td>0.586</td>\n",
              "      <td>0.581</td>\n",
              "      <td>0.567</td>\n",
              "      <td>0.567</td>\n",
              "      <td>0.567</td>\n",
              "      <td>0.591</td>\n",
              "      <td>0.591</td>\n",
              "      <td>0.598</td>\n",
              "      <td>0.598</td>\n",
              "    </tr>\n",
              "    <tr>\n",
              "      <th>algeria</th>\n",
              "      <td>0.317</td>\n",
              "      <td>0.325</td>\n",
              "      <td>0.332</td>\n",
              "      <td>0.338</td>\n",
              "      <td>0.344</td>\n",
              "      <td>0.344</td>\n",
              "      <td>0.383</td>\n",
              "      <td>0.383</td>\n",
              "      <td>0.383</td>\n",
              "      <td>0.395</td>\n",
              "      <td>0.356</td>\n",
              "      <td>0.356</td>\n",
              "      <td>0.350</td>\n",
              "    </tr>\n",
              "    <tr>\n",
              "      <th>angola</th>\n",
              "      <td>0.241</td>\n",
              "      <td>0.288</td>\n",
              "      <td>0.335</td>\n",
              "      <td>0.334</td>\n",
              "      <td>0.332</td>\n",
              "      <td>0.332</td>\n",
              "      <td>0.335</td>\n",
              "      <td>0.335</td>\n",
              "      <td>0.335</td>\n",
              "      <td>0.335</td>\n",
              "      <td>0.340</td>\n",
              "      <td>0.362</td>\n",
              "      <td>0.362</td>\n",
              "    </tr>\n",
              "    <tr>\n",
              "      <th>argentina</th>\n",
              "      <td>0.663</td>\n",
              "      <td>0.663</td>\n",
              "      <td>0.663</td>\n",
              "      <td>0.673</td>\n",
              "      <td>0.684</td>\n",
              "      <td>0.684</td>\n",
              "      <td>0.684</td>\n",
              "      <td>0.684</td>\n",
              "      <td>0.684</td>\n",
              "      <td>0.702</td>\n",
              "      <td>0.696</td>\n",
              "      <td>0.696</td>\n",
              "      <td>0.702</td>\n",
              "    </tr>\n",
              "  </tbody>\n",
              "</table>\n",
              "</div>"
            ],
            "text/plain": [
              "              2006   2007   2008   2009  ...   2015   2016   2017   2018\n",
              "country                                  ...                            \n",
              "afghanistan  0.306  0.304  0.302  0.275  ...  0.277  0.255  0.255  0.297\n",
              "albania      0.591  0.591  0.591  0.589  ...  0.591  0.591  0.598  0.598\n",
              "algeria      0.317  0.325  0.332  0.338  ...  0.395  0.356  0.356  0.350\n",
              "angola       0.241  0.288  0.335  0.334  ...  0.335  0.340  0.362  0.362\n",
              "argentina    0.663  0.663  0.663  0.673  ...  0.702  0.696  0.696  0.702\n",
              "\n",
              "[5 rows x 13 columns]"
            ]
          },
          "metadata": {
            "tags": []
          },
          "execution_count": 50
        }
      ]
    },
    {
      "cell_type": "markdown",
      "metadata": {
        "id": "74ALixRtrg51"
      },
      "source": [
        "### Minimum, Maximum, and std have reasonable values\n",
        "### No NaNs, No duplicate countries \n",
        "##Democracy dataset is clean"
      ]
    },
    {
      "cell_type": "markdown",
      "metadata": {
        "id": "QlqxvUsQtSQY"
      },
      "source": [
        "\n",
        "\n",
        "\n",
        "\n",
        "\n",
        "\n",
        "---\n",
        "\n",
        "\n",
        "\n",
        "---\n",
        "\n",
        "\n",
        "\n",
        "---\n",
        "\n",
        "\n",
        "\n",
        "## checking the second dataset"
      ]
    },
    {
      "cell_type": "markdown",
      "metadata": {
        "id": "BhqfcJkEvaVF"
      },
      "source": [
        "###since the democracy dataset starts from 2006, we'll trim internet usage dataset to also start from 2006"
      ]
    },
    {
      "cell_type": "code",
      "metadata": {
        "id": "S9--TBTvtjHo",
        "outputId": "5677e2a8-9f87-47d0-d27c-7b691319cf21",
        "colab": {
          "base_uri": "https://localhost:8080/"
        }
      },
      "source": [
        "#remove columns of data before the year 2006\n",
        "short_int_df = trim_dataset(int_df, 2006)\n",
        "short_int_df.head()"
      ],
      "execution_count": null,
      "outputs": [
        {
          "output_type": "execute_result",
          "data": {
            "text/html": [
              "<div>\n",
              "<style scoped>\n",
              "    .dataframe tbody tr th:only-of-type {\n",
              "        vertical-align: middle;\n",
              "    }\n",
              "\n",
              "    .dataframe tbody tr th {\n",
              "        vertical-align: top;\n",
              "    }\n",
              "\n",
              "    .dataframe thead th {\n",
              "        text-align: right;\n",
              "    }\n",
              "</style>\n",
              "<table border=\"1\" class=\"dataframe\">\n",
              "  <thead>\n",
              "    <tr style=\"text-align: right;\">\n",
              "      <th></th>\n",
              "      <th>2006</th>\n",
              "      <th>2007</th>\n",
              "      <th>2008</th>\n",
              "      <th>2009</th>\n",
              "      <th>2010</th>\n",
              "      <th>2011</th>\n",
              "      <th>2012</th>\n",
              "      <th>2013</th>\n",
              "      <th>2014</th>\n",
              "      <th>2015</th>\n",
              "      <th>2016</th>\n",
              "      <th>2017</th>\n",
              "      <th>2018</th>\n",
              "    </tr>\n",
              "    <tr>\n",
              "      <th>country</th>\n",
              "      <th></th>\n",
              "      <th></th>\n",
              "      <th></th>\n",
              "      <th></th>\n",
              "      <th></th>\n",
              "      <th></th>\n",
              "      <th></th>\n",
              "      <th></th>\n",
              "      <th></th>\n",
              "      <th></th>\n",
              "      <th></th>\n",
              "      <th></th>\n",
              "      <th></th>\n",
              "    </tr>\n",
              "  </thead>\n",
              "  <tbody>\n",
              "    <tr>\n",
              "      <th>afghanistan</th>\n",
              "      <td>2.11</td>\n",
              "      <td>1.90</td>\n",
              "      <td>1.84</td>\n",
              "      <td>3.55</td>\n",
              "      <td>4.0</td>\n",
              "      <td>5.0</td>\n",
              "      <td>5.45</td>\n",
              "      <td>5.9</td>\n",
              "      <td>7.0</td>\n",
              "      <td>8.26</td>\n",
              "      <td>11.2</td>\n",
              "      <td>13.5</td>\n",
              "      <td>NaN</td>\n",
              "    </tr>\n",
              "    <tr>\n",
              "      <th>albania</th>\n",
              "      <td>9.61</td>\n",
              "      <td>15.00</td>\n",
              "      <td>23.90</td>\n",
              "      <td>41.20</td>\n",
              "      <td>45.0</td>\n",
              "      <td>49.0</td>\n",
              "      <td>54.70</td>\n",
              "      <td>57.2</td>\n",
              "      <td>60.1</td>\n",
              "      <td>63.30</td>\n",
              "      <td>66.4</td>\n",
              "      <td>71.8</td>\n",
              "      <td>NaN</td>\n",
              "    </tr>\n",
              "    <tr>\n",
              "      <th>algeria</th>\n",
              "      <td>7.38</td>\n",
              "      <td>9.45</td>\n",
              "      <td>10.20</td>\n",
              "      <td>11.20</td>\n",
              "      <td>12.5</td>\n",
              "      <td>14.9</td>\n",
              "      <td>18.20</td>\n",
              "      <td>22.5</td>\n",
              "      <td>29.5</td>\n",
              "      <td>38.20</td>\n",
              "      <td>42.9</td>\n",
              "      <td>47.7</td>\n",
              "      <td>49.0</td>\n",
              "    </tr>\n",
              "    <tr>\n",
              "      <th>andorra</th>\n",
              "      <td>48.90</td>\n",
              "      <td>70.90</td>\n",
              "      <td>70.00</td>\n",
              "      <td>78.50</td>\n",
              "      <td>81.0</td>\n",
              "      <td>81.0</td>\n",
              "      <td>86.40</td>\n",
              "      <td>94.0</td>\n",
              "      <td>95.9</td>\n",
              "      <td>96.90</td>\n",
              "      <td>97.9</td>\n",
              "      <td>91.6</td>\n",
              "      <td>NaN</td>\n",
              "    </tr>\n",
              "    <tr>\n",
              "      <th>angola</th>\n",
              "      <td>1.50</td>\n",
              "      <td>1.70</td>\n",
              "      <td>1.90</td>\n",
              "      <td>2.30</td>\n",
              "      <td>2.8</td>\n",
              "      <td>3.1</td>\n",
              "      <td>6.50</td>\n",
              "      <td>8.9</td>\n",
              "      <td>21.4</td>\n",
              "      <td>12.40</td>\n",
              "      <td>13.0</td>\n",
              "      <td>14.3</td>\n",
              "      <td>NaN</td>\n",
              "    </tr>\n",
              "  </tbody>\n",
              "</table>\n",
              "</div>"
            ],
            "text/plain": [
              "              2006   2007   2008   2009  2010  ...  2014   2015  2016  2017  2018\n",
              "country                                        ...                               \n",
              "afghanistan   2.11   1.90   1.84   3.55   4.0  ...   7.0   8.26  11.2  13.5   NaN\n",
              "albania       9.61  15.00  23.90  41.20  45.0  ...  60.1  63.30  66.4  71.8   NaN\n",
              "algeria       7.38   9.45  10.20  11.20  12.5  ...  29.5  38.20  42.9  47.7  49.0\n",
              "andorra      48.90  70.90  70.00  78.50  81.0  ...  95.9  96.90  97.9  91.6   NaN\n",
              "angola        1.50   1.70   1.90   2.30   2.8  ...  21.4  12.40  13.0  14.3   NaN\n",
              "\n",
              "[5 rows x 13 columns]"
            ]
          },
          "metadata": {
            "tags": []
          },
          "execution_count": 51
        }
      ]
    },
    {
      "cell_type": "code",
      "metadata": {
        "id": "jIyeJpU6yHQl",
        "outputId": "79ed07f9-e4f2-4059-838b-c11d56f0ad27",
        "colab": {
          "base_uri": "https://localhost:8080/"
        }
      },
      "source": [
        "short_int_df.info()"
      ],
      "execution_count": null,
      "outputs": [
        {
          "output_type": "stream",
          "text": [
            "<class 'pandas.core.frame.DataFrame'>\n",
            "Index: 194 entries, afghanistan to zimbabwe\n",
            "Data columns (total 13 columns):\n",
            " #   Column  Non-Null Count  Dtype  \n",
            "---  ------  --------------  -----  \n",
            " 0   2006    184 non-null    float64\n",
            " 1   2007    191 non-null    float64\n",
            " 2   2008    190 non-null    float64\n",
            " 3   2009    189 non-null    float64\n",
            " 4   2010    189 non-null    float64\n",
            " 5   2011    192 non-null    float64\n",
            " 6   2012    189 non-null    float64\n",
            " 7   2013    190 non-null    float64\n",
            " 8   2014    190 non-null    float64\n",
            " 9   2015    190 non-null    float64\n",
            " 10  2016    190 non-null    float64\n",
            " 11  2017    192 non-null    float64\n",
            " 12  2018    79 non-null     float64\n",
            "dtypes: float64(13)\n",
            "memory usage: 21.2+ KB\n"
          ],
          "name": "stdout"
        }
      ]
    },
    {
      "cell_type": "markdown",
      "metadata": {
        "id": "bMoGq1ZvxebA"
      },
      "source": [
        "### Then, we can see missing value, I will use linear regression imputation to fill in these. Why? because gradual increase or decrease in the number of internet users is more realistic than having a static average number.\n",
        "\n",
        "###Interpolation is performed per country."
      ]
    },
    {
      "cell_type": "code",
      "metadata": {
        "id": "6Vx-3gbtvW1V"
      },
      "source": [
        "#use linear regression to fill missing values\n",
        "short_int_df.interpolate(method='linear', inplace=True, limit_direction='both', axis=1)"
      ],
      "execution_count": null,
      "outputs": []
    },
    {
      "cell_type": "code",
      "metadata": {
        "id": "6cOivAhFzAFz",
        "outputId": "69abb210-e104-477a-99fb-b19cbc77726e",
        "colab": {
          "base_uri": "https://localhost:8080/"
        }
      },
      "source": [
        "short_int_df.info()"
      ],
      "execution_count": null,
      "outputs": [
        {
          "output_type": "stream",
          "text": [
            "<class 'pandas.core.frame.DataFrame'>\n",
            "Index: 194 entries, afghanistan to zimbabwe\n",
            "Data columns (total 13 columns):\n",
            " #   Column  Non-Null Count  Dtype  \n",
            "---  ------  --------------  -----  \n",
            " 0   2006    193 non-null    float64\n",
            " 1   2007    193 non-null    float64\n",
            " 2   2008    193 non-null    float64\n",
            " 3   2009    193 non-null    float64\n",
            " 4   2010    193 non-null    float64\n",
            " 5   2011    193 non-null    float64\n",
            " 6   2012    193 non-null    float64\n",
            " 7   2013    193 non-null    float64\n",
            " 8   2014    193 non-null    float64\n",
            " 9   2015    193 non-null    float64\n",
            " 10  2016    193 non-null    float64\n",
            " 11  2017    193 non-null    float64\n",
            " 12  2018    193 non-null    float64\n",
            "dtypes: float64(13)\n",
            "memory usage: 21.2+ KB\n"
          ],
          "name": "stdout"
        }
      ]
    },
    {
      "cell_type": "code",
      "metadata": {
        "id": "GGZBsZifzDAc",
        "outputId": "1f575e26-d68d-409d-e068-89974f5cf418",
        "colab": {
          "base_uri": "https://localhost:8080/"
        }
      },
      "source": [
        "short_int_df.head()"
      ],
      "execution_count": null,
      "outputs": [
        {
          "output_type": "execute_result",
          "data": {
            "text/html": [
              "<div>\n",
              "<style scoped>\n",
              "    .dataframe tbody tr th:only-of-type {\n",
              "        vertical-align: middle;\n",
              "    }\n",
              "\n",
              "    .dataframe tbody tr th {\n",
              "        vertical-align: top;\n",
              "    }\n",
              "\n",
              "    .dataframe thead th {\n",
              "        text-align: right;\n",
              "    }\n",
              "</style>\n",
              "<table border=\"1\" class=\"dataframe\">\n",
              "  <thead>\n",
              "    <tr style=\"text-align: right;\">\n",
              "      <th></th>\n",
              "      <th>2006</th>\n",
              "      <th>2007</th>\n",
              "      <th>2008</th>\n",
              "      <th>2009</th>\n",
              "      <th>2010</th>\n",
              "      <th>2011</th>\n",
              "      <th>2012</th>\n",
              "      <th>2013</th>\n",
              "      <th>2014</th>\n",
              "      <th>2015</th>\n",
              "      <th>2016</th>\n",
              "      <th>2017</th>\n",
              "      <th>2018</th>\n",
              "    </tr>\n",
              "    <tr>\n",
              "      <th>country</th>\n",
              "      <th></th>\n",
              "      <th></th>\n",
              "      <th></th>\n",
              "      <th></th>\n",
              "      <th></th>\n",
              "      <th></th>\n",
              "      <th></th>\n",
              "      <th></th>\n",
              "      <th></th>\n",
              "      <th></th>\n",
              "      <th></th>\n",
              "      <th></th>\n",
              "      <th></th>\n",
              "    </tr>\n",
              "  </thead>\n",
              "  <tbody>\n",
              "    <tr>\n",
              "      <th>afghanistan</th>\n",
              "      <td>2.11</td>\n",
              "      <td>1.90</td>\n",
              "      <td>1.84</td>\n",
              "      <td>3.55</td>\n",
              "      <td>4.0</td>\n",
              "      <td>5.0</td>\n",
              "      <td>5.45</td>\n",
              "      <td>5.9</td>\n",
              "      <td>7.0</td>\n",
              "      <td>8.26</td>\n",
              "      <td>11.2</td>\n",
              "      <td>13.5</td>\n",
              "      <td>13.5</td>\n",
              "    </tr>\n",
              "    <tr>\n",
              "      <th>albania</th>\n",
              "      <td>9.61</td>\n",
              "      <td>15.00</td>\n",
              "      <td>23.90</td>\n",
              "      <td>41.20</td>\n",
              "      <td>45.0</td>\n",
              "      <td>49.0</td>\n",
              "      <td>54.70</td>\n",
              "      <td>57.2</td>\n",
              "      <td>60.1</td>\n",
              "      <td>63.30</td>\n",
              "      <td>66.4</td>\n",
              "      <td>71.8</td>\n",
              "      <td>71.8</td>\n",
              "    </tr>\n",
              "    <tr>\n",
              "      <th>algeria</th>\n",
              "      <td>7.38</td>\n",
              "      <td>9.45</td>\n",
              "      <td>10.20</td>\n",
              "      <td>11.20</td>\n",
              "      <td>12.5</td>\n",
              "      <td>14.9</td>\n",
              "      <td>18.20</td>\n",
              "      <td>22.5</td>\n",
              "      <td>29.5</td>\n",
              "      <td>38.20</td>\n",
              "      <td>42.9</td>\n",
              "      <td>47.7</td>\n",
              "      <td>49.0</td>\n",
              "    </tr>\n",
              "    <tr>\n",
              "      <th>andorra</th>\n",
              "      <td>48.90</td>\n",
              "      <td>70.90</td>\n",
              "      <td>70.00</td>\n",
              "      <td>78.50</td>\n",
              "      <td>81.0</td>\n",
              "      <td>81.0</td>\n",
              "      <td>86.40</td>\n",
              "      <td>94.0</td>\n",
              "      <td>95.9</td>\n",
              "      <td>96.90</td>\n",
              "      <td>97.9</td>\n",
              "      <td>91.6</td>\n",
              "      <td>91.6</td>\n",
              "    </tr>\n",
              "    <tr>\n",
              "      <th>angola</th>\n",
              "      <td>1.50</td>\n",
              "      <td>1.70</td>\n",
              "      <td>1.90</td>\n",
              "      <td>2.30</td>\n",
              "      <td>2.8</td>\n",
              "      <td>3.1</td>\n",
              "      <td>6.50</td>\n",
              "      <td>8.9</td>\n",
              "      <td>21.4</td>\n",
              "      <td>12.40</td>\n",
              "      <td>13.0</td>\n",
              "      <td>14.3</td>\n",
              "      <td>14.3</td>\n",
              "    </tr>\n",
              "  </tbody>\n",
              "</table>\n",
              "</div>"
            ],
            "text/plain": [
              "              2006   2007   2008   2009  2010  ...  2014   2015  2016  2017  2018\n",
              "country                                        ...                               \n",
              "afghanistan   2.11   1.90   1.84   3.55   4.0  ...   7.0   8.26  11.2  13.5  13.5\n",
              "albania       9.61  15.00  23.90  41.20  45.0  ...  60.1  63.30  66.4  71.8  71.8\n",
              "algeria       7.38   9.45  10.20  11.20  12.5  ...  29.5  38.20  42.9  47.7  49.0\n",
              "andorra      48.90  70.90  70.00  78.50  81.0  ...  95.9  96.90  97.9  91.6  91.6\n",
              "angola        1.50   1.70   1.90   2.30   2.8  ...  21.4  12.40  13.0  14.3  14.3\n",
              "\n",
              "[5 rows x 13 columns]"
            ]
          },
          "metadata": {
            "tags": []
          },
          "execution_count": 55
        }
      ]
    },
    {
      "cell_type": "code",
      "metadata": {
        "id": "XH_SHtP9ztzc",
        "outputId": "9899fb99-2207-4552-da2b-a616a04c99cd",
        "colab": {
          "base_uri": "https://localhost:8080/"
        }
      },
      "source": [
        "#find the row which contains ANY missing values\n",
        "short_int_df[short_int_df.isnull().any(axis=1)]"
      ],
      "execution_count": null,
      "outputs": [
        {
          "output_type": "execute_result",
          "data": {
            "text/html": [
              "<div>\n",
              "<style scoped>\n",
              "    .dataframe tbody tr th:only-of-type {\n",
              "        vertical-align: middle;\n",
              "    }\n",
              "\n",
              "    .dataframe tbody tr th {\n",
              "        vertical-align: top;\n",
              "    }\n",
              "\n",
              "    .dataframe thead th {\n",
              "        text-align: right;\n",
              "    }\n",
              "</style>\n",
              "<table border=\"1\" class=\"dataframe\">\n",
              "  <thead>\n",
              "    <tr style=\"text-align: right;\">\n",
              "      <th></th>\n",
              "      <th>2006</th>\n",
              "      <th>2007</th>\n",
              "      <th>2008</th>\n",
              "      <th>2009</th>\n",
              "      <th>2010</th>\n",
              "      <th>2011</th>\n",
              "      <th>2012</th>\n",
              "      <th>2013</th>\n",
              "      <th>2014</th>\n",
              "      <th>2015</th>\n",
              "      <th>2016</th>\n",
              "      <th>2017</th>\n",
              "      <th>2018</th>\n",
              "    </tr>\n",
              "    <tr>\n",
              "      <th>country</th>\n",
              "      <th></th>\n",
              "      <th></th>\n",
              "      <th></th>\n",
              "      <th></th>\n",
              "      <th></th>\n",
              "      <th></th>\n",
              "      <th></th>\n",
              "      <th></th>\n",
              "      <th></th>\n",
              "      <th></th>\n",
              "      <th></th>\n",
              "      <th></th>\n",
              "      <th></th>\n",
              "    </tr>\n",
              "  </thead>\n",
              "  <tbody>\n",
              "    <tr>\n",
              "      <th>palau</th>\n",
              "      <td>NaN</td>\n",
              "      <td>NaN</td>\n",
              "      <td>NaN</td>\n",
              "      <td>NaN</td>\n",
              "      <td>NaN</td>\n",
              "      <td>NaN</td>\n",
              "      <td>NaN</td>\n",
              "      <td>NaN</td>\n",
              "      <td>NaN</td>\n",
              "      <td>NaN</td>\n",
              "      <td>NaN</td>\n",
              "      <td>NaN</td>\n",
              "      <td>NaN</td>\n",
              "    </tr>\n",
              "  </tbody>\n",
              "</table>\n",
              "</div>"
            ],
            "text/plain": [
              "         2006  2007  2008  2009  2010  2011  ...  2013  2014  2015  2016  2017  2018\n",
              "country                                      ...                                    \n",
              "palau     NaN   NaN   NaN   NaN   NaN   NaN  ...   NaN   NaN   NaN   NaN   NaN   NaN\n",
              "\n",
              "[1 rows x 13 columns]"
            ]
          },
          "metadata": {
            "tags": []
          },
          "execution_count": 56
        }
      ]
    },
    {
      "cell_type": "markdown",
      "metadata": {
        "id": "vC2PWg6i1nMU"
      },
      "source": [
        "### so Palau has no data at all, lets drop it!"
      ]
    },
    {
      "cell_type": "code",
      "metadata": {
        "id": "CyWQLB4n040q",
        "outputId": "733e331a-3851-433a-cf79-e7bd37812ae5",
        "colab": {
          "base_uri": "https://localhost:8080/"
        }
      },
      "source": [
        "#drop the index 'palau' which contains NaN values\n",
        "short_int_df.drop('palau', inplace=True)\n",
        "short_int_df.info()"
      ],
      "execution_count": null,
      "outputs": [
        {
          "output_type": "stream",
          "text": [
            "<class 'pandas.core.frame.DataFrame'>\n",
            "Index: 193 entries, afghanistan to zimbabwe\n",
            "Data columns (total 13 columns):\n",
            " #   Column  Non-Null Count  Dtype  \n",
            "---  ------  --------------  -----  \n",
            " 0   2006    193 non-null    float64\n",
            " 1   2007    193 non-null    float64\n",
            " 2   2008    193 non-null    float64\n",
            " 3   2009    193 non-null    float64\n",
            " 4   2010    193 non-null    float64\n",
            " 5   2011    193 non-null    float64\n",
            " 6   2012    193 non-null    float64\n",
            " 7   2013    193 non-null    float64\n",
            " 8   2014    193 non-null    float64\n",
            " 9   2015    193 non-null    float64\n",
            " 10  2016    193 non-null    float64\n",
            " 11  2017    193 non-null    float64\n",
            " 12  2018    193 non-null    float64\n",
            "dtypes: float64(13)\n",
            "memory usage: 21.1+ KB\n"
          ],
          "name": "stdout"
        }
      ]
    },
    {
      "cell_type": "markdown",
      "metadata": {
        "id": "qoHyzKQq2il3"
      },
      "source": [
        "### Now the two data are cleaned and we're ready to merge them\n",
        "\n",
        "###we will firstly rename columns in each dataset to identify it after merging"
      ]
    },
    {
      "cell_type": "code",
      "metadata": {
        "id": "ThsLJ-Zz2cOS",
        "outputId": "4786b3b3-db1b-4409-990c-2db8ae2ff34e",
        "colab": {
          "base_uri": "https://localhost:8080/"
        }
      },
      "source": [
        "#rename democracy index columns to start with 'dem_' and internet users columns to start with 'int_'\n",
        "dem_df.columns = ['dem_'+col for col in dem_df.columns] \n",
        "short_int_df.columns = ['int_'+col for col in short_int_df.columns] \n",
        "\n",
        "print(dem_df.columns) \n",
        "print() \n",
        "print(short_int_df.columns)"
      ],
      "execution_count": null,
      "outputs": [
        {
          "output_type": "stream",
          "text": [
            "Index(['dem_2006', 'dem_2007', 'dem_2008', 'dem_2009', 'dem_2010', 'dem_2011',\n",
            "       'dem_2012', 'dem_2013', 'dem_2014', 'dem_2015', 'dem_2016', 'dem_2017',\n",
            "       'dem_2018'],\n",
            "      dtype='object')\n",
            "\n",
            "Index(['int_2006', 'int_2007', 'int_2008', 'int_2009', 'int_2010', 'int_2011',\n",
            "       'int_2012', 'int_2013', 'int_2014', 'int_2015', 'int_2016', 'int_2017',\n",
            "       'int_2018'],\n",
            "      dtype='object')\n"
          ],
          "name": "stdout"
        }
      ]
    },
    {
      "cell_type": "code",
      "metadata": {
        "id": "AjMFfvAw2aAV",
        "outputId": "314e56c2-1dbb-4352-d200-3a3ae224ff93",
        "colab": {
          "base_uri": "https://localhost:8080/",
          "height": 240
        }
      },
      "source": [
        "#Inner merging the 'democracy index' and 'internet users' dataset\n",
        "dem_int_df = pd.merge(dem_df, short_int_df, left_index=True, right_index=True)\n",
        "dem_int_df.head()"
      ],
      "execution_count": null,
      "outputs": [
        {
          "output_type": "execute_result",
          "data": {
            "text/html": [
              "<div>\n",
              "<style scoped>\n",
              "    .dataframe tbody tr th:only-of-type {\n",
              "        vertical-align: middle;\n",
              "    }\n",
              "\n",
              "    .dataframe tbody tr th {\n",
              "        vertical-align: top;\n",
              "    }\n",
              "\n",
              "    .dataframe thead th {\n",
              "        text-align: right;\n",
              "    }\n",
              "</style>\n",
              "<table border=\"1\" class=\"dataframe\">\n",
              "  <thead>\n",
              "    <tr style=\"text-align: right;\">\n",
              "      <th></th>\n",
              "      <th>dem_2006</th>\n",
              "      <th>dem_2007</th>\n",
              "      <th>dem_2008</th>\n",
              "      <th>dem_2009</th>\n",
              "      <th>dem_2010</th>\n",
              "      <th>dem_2011</th>\n",
              "      <th>dem_2012</th>\n",
              "      <th>dem_2013</th>\n",
              "      <th>dem_2014</th>\n",
              "      <th>dem_2015</th>\n",
              "      <th>dem_2016</th>\n",
              "      <th>dem_2017</th>\n",
              "      <th>dem_2018</th>\n",
              "      <th>int_2006</th>\n",
              "      <th>int_2007</th>\n",
              "      <th>int_2008</th>\n",
              "      <th>int_2009</th>\n",
              "      <th>int_2010</th>\n",
              "      <th>int_2011</th>\n",
              "      <th>int_2012</th>\n",
              "      <th>int_2013</th>\n",
              "      <th>int_2014</th>\n",
              "      <th>int_2015</th>\n",
              "      <th>int_2016</th>\n",
              "      <th>int_2017</th>\n",
              "      <th>int_2018</th>\n",
              "    </tr>\n",
              "    <tr>\n",
              "      <th>country</th>\n",
              "      <th></th>\n",
              "      <th></th>\n",
              "      <th></th>\n",
              "      <th></th>\n",
              "      <th></th>\n",
              "      <th></th>\n",
              "      <th></th>\n",
              "      <th></th>\n",
              "      <th></th>\n",
              "      <th></th>\n",
              "      <th></th>\n",
              "      <th></th>\n",
              "      <th></th>\n",
              "      <th></th>\n",
              "      <th></th>\n",
              "      <th></th>\n",
              "      <th></th>\n",
              "      <th></th>\n",
              "      <th></th>\n",
              "      <th></th>\n",
              "      <th></th>\n",
              "      <th></th>\n",
              "      <th></th>\n",
              "      <th></th>\n",
              "      <th></th>\n",
              "      <th></th>\n",
              "    </tr>\n",
              "  </thead>\n",
              "  <tbody>\n",
              "    <tr>\n",
              "      <th>afghanistan</th>\n",
              "      <td>0.306</td>\n",
              "      <td>0.304</td>\n",
              "      <td>0.302</td>\n",
              "      <td>0.275</td>\n",
              "      <td>0.248</td>\n",
              "      <td>0.248</td>\n",
              "      <td>0.248</td>\n",
              "      <td>0.248</td>\n",
              "      <td>0.277</td>\n",
              "      <td>0.277</td>\n",
              "      <td>0.255</td>\n",
              "      <td>0.255</td>\n",
              "      <td>0.297</td>\n",
              "      <td>2.11</td>\n",
              "      <td>1.90</td>\n",
              "      <td>1.84</td>\n",
              "      <td>3.55</td>\n",
              "      <td>4.0</td>\n",
              "      <td>5.0</td>\n",
              "      <td>5.45</td>\n",
              "      <td>5.9</td>\n",
              "      <td>7.0</td>\n",
              "      <td>8.26</td>\n",
              "      <td>11.2</td>\n",
              "      <td>13.5</td>\n",
              "      <td>13.5</td>\n",
              "    </tr>\n",
              "    <tr>\n",
              "      <th>albania</th>\n",
              "      <td>0.591</td>\n",
              "      <td>0.591</td>\n",
              "      <td>0.591</td>\n",
              "      <td>0.589</td>\n",
              "      <td>0.586</td>\n",
              "      <td>0.581</td>\n",
              "      <td>0.567</td>\n",
              "      <td>0.567</td>\n",
              "      <td>0.567</td>\n",
              "      <td>0.591</td>\n",
              "      <td>0.591</td>\n",
              "      <td>0.598</td>\n",
              "      <td>0.598</td>\n",
              "      <td>9.61</td>\n",
              "      <td>15.00</td>\n",
              "      <td>23.90</td>\n",
              "      <td>41.20</td>\n",
              "      <td>45.0</td>\n",
              "      <td>49.0</td>\n",
              "      <td>54.70</td>\n",
              "      <td>57.2</td>\n",
              "      <td>60.1</td>\n",
              "      <td>63.30</td>\n",
              "      <td>66.4</td>\n",
              "      <td>71.8</td>\n",
              "      <td>71.8</td>\n",
              "    </tr>\n",
              "    <tr>\n",
              "      <th>algeria</th>\n",
              "      <td>0.317</td>\n",
              "      <td>0.325</td>\n",
              "      <td>0.332</td>\n",
              "      <td>0.338</td>\n",
              "      <td>0.344</td>\n",
              "      <td>0.344</td>\n",
              "      <td>0.383</td>\n",
              "      <td>0.383</td>\n",
              "      <td>0.383</td>\n",
              "      <td>0.395</td>\n",
              "      <td>0.356</td>\n",
              "      <td>0.356</td>\n",
              "      <td>0.350</td>\n",
              "      <td>7.38</td>\n",
              "      <td>9.45</td>\n",
              "      <td>10.20</td>\n",
              "      <td>11.20</td>\n",
              "      <td>12.5</td>\n",
              "      <td>14.9</td>\n",
              "      <td>18.20</td>\n",
              "      <td>22.5</td>\n",
              "      <td>29.5</td>\n",
              "      <td>38.20</td>\n",
              "      <td>42.9</td>\n",
              "      <td>47.7</td>\n",
              "      <td>49.0</td>\n",
              "    </tr>\n",
              "    <tr>\n",
              "      <th>angola</th>\n",
              "      <td>0.241</td>\n",
              "      <td>0.288</td>\n",
              "      <td>0.335</td>\n",
              "      <td>0.334</td>\n",
              "      <td>0.332</td>\n",
              "      <td>0.332</td>\n",
              "      <td>0.335</td>\n",
              "      <td>0.335</td>\n",
              "      <td>0.335</td>\n",
              "      <td>0.335</td>\n",
              "      <td>0.340</td>\n",
              "      <td>0.362</td>\n",
              "      <td>0.362</td>\n",
              "      <td>1.50</td>\n",
              "      <td>1.70</td>\n",
              "      <td>1.90</td>\n",
              "      <td>2.30</td>\n",
              "      <td>2.8</td>\n",
              "      <td>3.1</td>\n",
              "      <td>6.50</td>\n",
              "      <td>8.9</td>\n",
              "      <td>21.4</td>\n",
              "      <td>12.40</td>\n",
              "      <td>13.0</td>\n",
              "      <td>14.3</td>\n",
              "      <td>14.3</td>\n",
              "    </tr>\n",
              "    <tr>\n",
              "      <th>argentina</th>\n",
              "      <td>0.663</td>\n",
              "      <td>0.663</td>\n",
              "      <td>0.663</td>\n",
              "      <td>0.673</td>\n",
              "      <td>0.684</td>\n",
              "      <td>0.684</td>\n",
              "      <td>0.684</td>\n",
              "      <td>0.684</td>\n",
              "      <td>0.684</td>\n",
              "      <td>0.702</td>\n",
              "      <td>0.696</td>\n",
              "      <td>0.696</td>\n",
              "      <td>0.702</td>\n",
              "      <td>20.90</td>\n",
              "      <td>25.90</td>\n",
              "      <td>28.10</td>\n",
              "      <td>34.00</td>\n",
              "      <td>45.0</td>\n",
              "      <td>51.0</td>\n",
              "      <td>55.80</td>\n",
              "      <td>59.9</td>\n",
              "      <td>64.7</td>\n",
              "      <td>68.00</td>\n",
              "      <td>71.0</td>\n",
              "      <td>74.3</td>\n",
              "      <td>74.3</td>\n",
              "    </tr>\n",
              "  </tbody>\n",
              "</table>\n",
              "</div>"
            ],
            "text/plain": [
              "             dem_2006  dem_2007  dem_2008  ...  int_2016  int_2017  int_2018\n",
              "country                                    ...                              \n",
              "afghanistan     0.306     0.304     0.302  ...      11.2      13.5      13.5\n",
              "albania         0.591     0.591     0.591  ...      66.4      71.8      71.8\n",
              "algeria         0.317     0.325     0.332  ...      42.9      47.7      49.0\n",
              "angola          0.241     0.288     0.335  ...      13.0      14.3      14.3\n",
              "argentina       0.663     0.663     0.663  ...      71.0      74.3      74.3\n",
              "\n",
              "[5 rows x 26 columns]"
            ]
          },
          "metadata": {
            "tags": []
          },
          "execution_count": 59
        }
      ]
    },
    {
      "cell_type": "code",
      "metadata": {
        "id": "yjQzmRxj4LoV",
        "outputId": "42beb60d-c726-40c0-9d35-6359b1708b4e",
        "colab": {
          "base_uri": "https://localhost:8080/",
          "height": 295
        }
      },
      "source": [
        "#plot democracy index vs percentage of internet users (both normalized) for Egypt\n",
        "split_and_draw(dem_int_df, 'egypt') \n",
        "\n"
      ],
      "execution_count": null,
      "outputs": [
        {
          "output_type": "display_data",
          "data": {
            "image/png": "[encoded data removed]",
            "text/plain": [
              "<Figure size 432x288 with 1 Axes>"
            ]
          },
          "metadata": {
            "tags": [],
            "needs_background": "light"
          }
        }
      ]
    },
    {
      "cell_type": "code",
      "metadata": {
        "id": "t7gJNZ2BHWb1",
        "outputId": "5dbeb5d9-89f6-43d8-e5b0-5b493036e6ae",
        "colab": {
          "base_uri": "https://localhost:8080/",
          "height": 295
        }
      },
      "source": [
        "#plot democracy index vs percentage of internet users (both normalized) for China\n",
        "split_and_draw(dem_int_df, 'china')"
      ],
      "execution_count": null,
      "outputs": [
        {
          "output_type": "display_data",
          "data": {
            "image/png": "[encoded data removed]",
            "text/plain": [
              "<Figure size 432x288 with 1 Axes>"
            ]
          },
          "metadata": {
            "tags": [],
            "needs_background": "light"
          }
        }
      ]
    },
    {
      "cell_type": "code",
      "metadata": {
        "id": "tFEgsqcvIDjy",
        "outputId": "0e94b8a5-58e2-4a03-b9da-eb00ede5dcfc",
        "colab": {
          "base_uri": "https://localhost:8080/",
          "height": 295
        }
      },
      "source": [
        "#plot democracy index vs percentage of internet users (both normalized) for Syria\n",
        "split_and_draw(dem_int_df, 'syria')"
      ],
      "execution_count": null,
      "outputs": [
        {
          "output_type": "display_data",
          "data": {
            "image/png": "[encoded data removed]",
            "text/plain": [
              "<Figure size 432x288 with 1 Axes>"
            ]
          },
          "metadata": {
            "tags": [],
            "needs_background": "light"
          }
        }
      ]
    },
    {
      "cell_type": "code",
      "metadata": {
        "id": "B4LSvGsTIcL0",
        "outputId": "7efad130-7554-47b8-ce75-62a861a81a86",
        "colab": {
          "base_uri": "https://localhost:8080/",
          "height": 295
        }
      },
      "source": [
        "#plot democracy index vs percentage of internet users (both normalized) for Russia\n",
        "split_and_draw(dem_int_df, 'russia')"
      ],
      "execution_count": null,
      "outputs": [
        {
          "output_type": "display_data",
          "data": {
            "image/png": "[encoded data removed]",
            "text/plain": [
              "<Figure size 432x288 with 1 Axes>"
            ]
          },
          "metadata": {
            "tags": [],
            "needs_background": "light"
          }
        }
      ]
    },
    {
      "cell_type": "code",
      "metadata": {
        "id": "aWFzH1MmJKrb",
        "outputId": "0ab48d1a-4f0f-4396-e846-61eace334c7c",
        "colab": {
          "base_uri": "https://localhost:8080/",
          "height": 295
        }
      },
      "source": [
        "#plot democracy index vs percentage of internet users (both normalized) for United States\n",
        "split_and_draw(dem_int_df, 'united_states')"
      ],
      "execution_count": null,
      "outputs": [
        {
          "output_type": "display_data",
          "data": {
            "image/png": "[encoded data removed]",
            "text/plain": [
              "<Figure size 432x288 with 1 Axes>"
            ]
          },
          "metadata": {
            "tags": [],
            "needs_background": "light"
          }
        }
      ]
    },
    {
      "cell_type": "markdown",
      "metadata": {
        "id": "v1v64zd5IPXg"
      },
      "source": [
        "## NOTE: The y-axis scale is not percentage. The plots are normalized so that we can compare the trend (rising or falling) not the actual value, because democracy index changes so slowly that we wont be able to see its direction if it's plotted, without normalization, with internet users.\n",
        "\n",
        "\n",
        "---\n",
        "\n",
        "## From the plots, we can see that there are no correlation between democracy index and number of users in a country. \n",
        "\n",
        "\n",
        "\n",
        "---\n",
        "\n",
        "##**Q2. Which country witnessed the highest increase in democracy from 2006 to 2008? and which had the highest decrease?**"
      ]
    },
    {
      "cell_type": "code",
      "metadata": {
        "id": "8pUKRxgQIJfl",
        "outputId": "3eecf717-a352-4fca-abcd-8d4224451880",
        "colab": {
          "base_uri": "https://localhost:8080/",
          "height": 220
        }
      },
      "source": [
        "dem_df.head()"
      ],
      "execution_count": null,
      "outputs": [
        {
          "output_type": "execute_result",
          "data": {
            "text/html": [
              "<div>\n",
              "<style scoped>\n",
              "    .dataframe tbody tr th:only-of-type {\n",
              "        vertical-align: middle;\n",
              "    }\n",
              "\n",
              "    .dataframe tbody tr th {\n",
              "        vertical-align: top;\n",
              "    }\n",
              "\n",
              "    .dataframe thead th {\n",
              "        text-align: right;\n",
              "    }\n",
              "</style>\n",
              "<table border=\"1\" class=\"dataframe\">\n",
              "  <thead>\n",
              "    <tr style=\"text-align: right;\">\n",
              "      <th></th>\n",
              "      <th>dem_2006</th>\n",
              "      <th>dem_2007</th>\n",
              "      <th>dem_2008</th>\n",
              "      <th>dem_2009</th>\n",
              "      <th>dem_2010</th>\n",
              "      <th>dem_2011</th>\n",
              "      <th>dem_2012</th>\n",
              "      <th>dem_2013</th>\n",
              "      <th>dem_2014</th>\n",
              "      <th>dem_2015</th>\n",
              "      <th>dem_2016</th>\n",
              "      <th>dem_2017</th>\n",
              "      <th>dem_2018</th>\n",
              "    </tr>\n",
              "    <tr>\n",
              "      <th>country</th>\n",
              "      <th></th>\n",
              "      <th></th>\n",
              "      <th></th>\n",
              "      <th></th>\n",
              "      <th></th>\n",
              "      <th></th>\n",
              "      <th></th>\n",
              "      <th></th>\n",
              "      <th></th>\n",
              "      <th></th>\n",
              "      <th></th>\n",
              "      <th></th>\n",
              "      <th></th>\n",
              "    </tr>\n",
              "  </thead>\n",
              "  <tbody>\n",
              "    <tr>\n",
              "      <th>afghanistan</th>\n",
              "      <td>0.306</td>\n",
              "      <td>0.304</td>\n",
              "      <td>0.302</td>\n",
              "      <td>0.275</td>\n",
              "      <td>0.248</td>\n",
              "      <td>0.248</td>\n",
              "      <td>0.248</td>\n",
              "      <td>0.248</td>\n",
              "      <td>0.277</td>\n",
              "      <td>0.277</td>\n",
              "      <td>0.255</td>\n",
              "      <td>0.255</td>\n",
              "      <td>0.297</td>\n",
              "    </tr>\n",
              "    <tr>\n",
              "      <th>albania</th>\n",
              "      <td>0.591</td>\n",
              "      <td>0.591</td>\n",
              "      <td>0.591</td>\n",
              "      <td>0.589</td>\n",
              "      <td>0.586</td>\n",
              "      <td>0.581</td>\n",
              "      <td>0.567</td>\n",
              "      <td>0.567</td>\n",
              "      <td>0.567</td>\n",
              "      <td>0.591</td>\n",
              "      <td>0.591</td>\n",
              "      <td>0.598</td>\n",
              "      <td>0.598</td>\n",
              "    </tr>\n",
              "    <tr>\n",
              "      <th>algeria</th>\n",
              "      <td>0.317</td>\n",
              "      <td>0.325</td>\n",
              "      <td>0.332</td>\n",
              "      <td>0.338</td>\n",
              "      <td>0.344</td>\n",
              "      <td>0.344</td>\n",
              "      <td>0.383</td>\n",
              "      <td>0.383</td>\n",
              "      <td>0.383</td>\n",
              "      <td>0.395</td>\n",
              "      <td>0.356</td>\n",
              "      <td>0.356</td>\n",
              "      <td>0.350</td>\n",
              "    </tr>\n",
              "    <tr>\n",
              "      <th>angola</th>\n",
              "      <td>0.241</td>\n",
              "      <td>0.288</td>\n",
              "      <td>0.335</td>\n",
              "      <td>0.334</td>\n",
              "      <td>0.332</td>\n",
              "      <td>0.332</td>\n",
              "      <td>0.335</td>\n",
              "      <td>0.335</td>\n",
              "      <td>0.335</td>\n",
              "      <td>0.335</td>\n",
              "      <td>0.340</td>\n",
              "      <td>0.362</td>\n",
              "      <td>0.362</td>\n",
              "    </tr>\n",
              "    <tr>\n",
              "      <th>argentina</th>\n",
              "      <td>0.663</td>\n",
              "      <td>0.663</td>\n",
              "      <td>0.663</td>\n",
              "      <td>0.673</td>\n",
              "      <td>0.684</td>\n",
              "      <td>0.684</td>\n",
              "      <td>0.684</td>\n",
              "      <td>0.684</td>\n",
              "      <td>0.684</td>\n",
              "      <td>0.702</td>\n",
              "      <td>0.696</td>\n",
              "      <td>0.696</td>\n",
              "      <td>0.702</td>\n",
              "    </tr>\n",
              "  </tbody>\n",
              "</table>\n",
              "</div>"
            ],
            "text/plain": [
              "             dem_2006  dem_2007  dem_2008  ...  dem_2016  dem_2017  dem_2018\n",
              "country                                    ...                              \n",
              "afghanistan     0.306     0.304     0.302  ...     0.255     0.255     0.297\n",
              "albania         0.591     0.591     0.591  ...     0.591     0.598     0.598\n",
              "algeria         0.317     0.325     0.332  ...     0.356     0.356     0.350\n",
              "angola          0.241     0.288     0.335  ...     0.340     0.362     0.362\n",
              "argentina       0.663     0.663     0.663  ...     0.696     0.696     0.702\n",
              "\n",
              "[5 rows x 13 columns]"
            ]
          },
          "metadata": {
            "tags": []
          },
          "execution_count": 65
        }
      ]
    },
    {
      "cell_type": "code",
      "metadata": {
        "id": "gJIDiytVJdZJ",
        "outputId": "8685922a-9f4c-4d10-aa15-838958022530",
        "colab": {
          "base_uri": "https://localhost:8080/"
        }
      },
      "source": [
        "#calculate the difference in democracy index between each consecutive years for each country\n",
        "change_in_dem_df = dem_df.diff(axis=1).sum(axis=1)\n",
        "change_in_dem_df.head()"
      ],
      "execution_count": null,
      "outputs": [
        {
          "output_type": "execute_result",
          "data": {
            "text/plain": [
              "country\n",
              "afghanistan   -0.009\n",
              "albania        0.007\n",
              "algeria        0.033\n",
              "angola         0.121\n",
              "argentina      0.039\n",
              "dtype: float64"
            ]
          },
          "metadata": {
            "tags": []
          },
          "execution_count": 66
        }
      ]
    },
    {
      "cell_type": "code",
      "metadata": {
        "id": "oHQJq7uiL6yX",
        "outputId": "e95fa76b-3432-4ee3-a597-b6d1736bc2d4",
        "colab": {
          "base_uri": "https://localhost:8080/"
        }
      },
      "source": [
        "print('And the democracy paradise prize goes to...')\n",
        "change_in_dem_df.idxmax()\n",
        "print('with {} increase from 2006 to 2018'.format(change_in_dem_df.max()))"
      ],
      "execution_count": null,
      "outputs": [
        {
          "output_type": "stream",
          "text": [
            "And the democracy paradise prize goes to...\n",
            "with 0.3349999999999999 increase from 2006 to 2018\n"
          ],
          "name": "stdout"
        }
      ]
    },
    {
      "cell_type": "code",
      "metadata": {
        "id": "qC-KzBk-MGEB",
        "outputId": "9e210461-c9f9-4be1-c090-96c339148cf4",
        "colab": {
          "base_uri": "https://localhost:8080/"
        }
      },
      "source": [
        "print('And the democracy hell prize goes to...')\n",
        "change_in_dem_df.idxmin()\n",
        "print('with {} decrease from 2006 to 2018'.format(change_in_dem_df.min()))"
      ],
      "execution_count": null,
      "outputs": [
        {
          "output_type": "stream",
          "text": [
            "And the democracy hell prize goes to...\n",
            "with -0.22600000000000003 decrease from 2006 to 2018\n"
          ],
          "name": "stdout"
        }
      ]
    },
    {
      "cell_type": "markdown",
      "metadata": {
        "id": "PJbk4n46Ozsq"
      },
      "source": [
        "##**Q3. Is there employment equity in Egypt?**\n",
        "\n",
        "\n",
        "\n",
        "---\n",
        "###dataset 3: unemployment rate dataset by ILO\n"
      ]
    },
    {
      "cell_type": "code",
      "metadata": {
        "id": "Z7zphQtDMRVh",
        "outputId": "9d7dda32-09f9-47b2-b960-5ee5275ef3f5",
        "colab": {
          "base_uri": "https://localhost:8080/",
          "height": 191
        }
      },
      "source": [
        "#reading the unemployment percentage dataset\n",
        "unemp_df = pd.read_csv(\"unemployment.csv\")\n",
        "unemp_df.head()"
      ],
      "execution_count": null,
      "outputs": [
        {
          "output_type": "execute_result",
          "data": {
            "text/html": [
              "<div>\n",
              "<style scoped>\n",
              "    .dataframe tbody tr th:only-of-type {\n",
              "        vertical-align: middle;\n",
              "    }\n",
              "\n",
              "    .dataframe tbody tr th {\n",
              "        vertical-align: top;\n",
              "    }\n",
              "\n",
              "    .dataframe thead th {\n",
              "        text-align: right;\n",
              "    }\n",
              "</style>\n",
              "<table border=\"1\" class=\"dataframe\">\n",
              "  <thead>\n",
              "    <tr style=\"text-align: right;\">\n",
              "      <th></th>\n",
              "      <th>ref_area</th>\n",
              "      <th>indicator</th>\n",
              "      <th>source</th>\n",
              "      <th>sex</th>\n",
              "      <th>classif1</th>\n",
              "      <th>time</th>\n",
              "      <th>obs_value</th>\n",
              "      <th>obs_status</th>\n",
              "      <th>note_classif</th>\n",
              "      <th>note_indicator</th>\n",
              "      <th>note_source</th>\n",
              "    </tr>\n",
              "  </thead>\n",
              "  <tbody>\n",
              "    <tr>\n",
              "      <th>0</th>\n",
              "      <td>AFG</td>\n",
              "      <td>SDG_0852_SEX_AGE_RT</td>\n",
              "      <td>BB:6361</td>\n",
              "      <td>SEX_T</td>\n",
              "      <td>AGE_YTHADULT_YGE15</td>\n",
              "      <td>2014</td>\n",
              "      <td>7.9145</td>\n",
              "      <td>NaN</td>\n",
              "      <td>NaN</td>\n",
              "      <td>NaN</td>\n",
              "      <td>R1:3513</td>\n",
              "    </tr>\n",
              "    <tr>\n",
              "      <th>1</th>\n",
              "      <td>AFG</td>\n",
              "      <td>SDG_0852_SEX_AGE_RT</td>\n",
              "      <td>BB:6361</td>\n",
              "      <td>SEX_T</td>\n",
              "      <td>AGE_YTHADULT_Y15-64</td>\n",
              "      <td>2014</td>\n",
              "      <td>7.9640</td>\n",
              "      <td>NaN</td>\n",
              "      <td>NaN</td>\n",
              "      <td>NaN</td>\n",
              "      <td>R1:3513</td>\n",
              "    </tr>\n",
              "    <tr>\n",
              "      <th>2</th>\n",
              "      <td>AFG</td>\n",
              "      <td>SDG_0852_SEX_AGE_RT</td>\n",
              "      <td>BB:6361</td>\n",
              "      <td>SEX_T</td>\n",
              "      <td>AGE_YTHADULT_Y15-24</td>\n",
              "      <td>2014</td>\n",
              "      <td>9.9628</td>\n",
              "      <td>NaN</td>\n",
              "      <td>NaN</td>\n",
              "      <td>NaN</td>\n",
              "      <td>R1:3513</td>\n",
              "    </tr>\n",
              "    <tr>\n",
              "      <th>3</th>\n",
              "      <td>AFG</td>\n",
              "      <td>SDG_0852_SEX_AGE_RT</td>\n",
              "      <td>BB:6361</td>\n",
              "      <td>SEX_T</td>\n",
              "      <td>AGE_YTHADULT_YGE25</td>\n",
              "      <td>2014</td>\n",
              "      <td>6.7730</td>\n",
              "      <td>NaN</td>\n",
              "      <td>NaN</td>\n",
              "      <td>NaN</td>\n",
              "      <td>R1:3513</td>\n",
              "    </tr>\n",
              "    <tr>\n",
              "      <th>4</th>\n",
              "      <td>AFG</td>\n",
              "      <td>SDG_0852_SEX_AGE_RT</td>\n",
              "      <td>BB:6361</td>\n",
              "      <td>SEX_M</td>\n",
              "      <td>AGE_YTHADULT_YGE15</td>\n",
              "      <td>2014</td>\n",
              "      <td>7.1962</td>\n",
              "      <td>NaN</td>\n",
              "      <td>NaN</td>\n",
              "      <td>NaN</td>\n",
              "      <td>R1:3513</td>\n",
              "    </tr>\n",
              "  </tbody>\n",
              "</table>\n",
              "</div>"
            ],
            "text/plain": [
              "  ref_area            indicator  ... note_indicator note_source\n",
              "0      AFG  SDG_0852_SEX_AGE_RT  ...            NaN     R1:3513\n",
              "1      AFG  SDG_0852_SEX_AGE_RT  ...            NaN     R1:3513\n",
              "2      AFG  SDG_0852_SEX_AGE_RT  ...            NaN     R1:3513\n",
              "3      AFG  SDG_0852_SEX_AGE_RT  ...            NaN     R1:3513\n",
              "4      AFG  SDG_0852_SEX_AGE_RT  ...            NaN     R1:3513\n",
              "\n",
              "[5 rows x 11 columns]"
            ]
          },
          "metadata": {
            "tags": []
          },
          "execution_count": 69
        }
      ]
    },
    {
      "cell_type": "code",
      "metadata": {
        "id": "H5SE1wOWVy05",
        "outputId": "e665b89e-e849-4919-a9df-9cccb83c1290",
        "colab": {
          "base_uri": "https://localhost:8080/"
        }
      },
      "source": [
        "unemp_df.info()"
      ],
      "execution_count": null,
      "outputs": [
        {
          "output_type": "stream",
          "text": [
            "<class 'pandas.core.frame.DataFrame'>\n",
            "RangeIndex: 23278 entries, 0 to 23277\n",
            "Data columns (total 11 columns):\n",
            " #   Column          Non-Null Count  Dtype  \n",
            "---  ------          --------------  -----  \n",
            " 0   ref_area        23278 non-null  object \n",
            " 1   indicator       23278 non-null  object \n",
            " 2   source          23278 non-null  object \n",
            " 3   sex             23278 non-null  object \n",
            " 4   classif1        23278 non-null  object \n",
            " 5   time            23278 non-null  int64  \n",
            " 6   obs_value       23260 non-null  float64\n",
            " 7   obs_status      1807 non-null   object \n",
            " 8   note_classif    377 non-null    object \n",
            " 9   note_indicator  1821 non-null   object \n",
            " 10  note_source     18936 non-null  object \n",
            "dtypes: float64(1), int64(1), object(9)\n",
            "memory usage: 2.0+ MB\n"
          ],
          "name": "stdout"
        }
      ]
    },
    {
      "cell_type": "code",
      "metadata": {
        "id": "u0FfXIjiVz18"
      },
      "source": [
        "#Extract only relevant features in a new data frame\n",
        "egy_unemp_df = unemp_df[unemp_df.ref_area=='EGY'][['sex', 'time', 'obs_value', 'classif1']]"
      ],
      "execution_count": null,
      "outputs": []
    },
    {
      "cell_type": "code",
      "metadata": {
        "id": "eTSKH3DvV5Er",
        "outputId": "ae3a6f84-4a19-4cf8-98fb-746dc2847303",
        "colab": {
          "base_uri": "https://localhost:8080/",
          "height": 191
        }
      },
      "source": [
        "egy_unemp_df.head()"
      ],
      "execution_count": null,
      "outputs": [
        {
          "output_type": "execute_result",
          "data": {
            "text/html": [
              "<div>\n",
              "<style scoped>\n",
              "    .dataframe tbody tr th:only-of-type {\n",
              "        vertical-align: middle;\n",
              "    }\n",
              "\n",
              "    .dataframe tbody tr th {\n",
              "        vertical-align: top;\n",
              "    }\n",
              "\n",
              "    .dataframe thead th {\n",
              "        text-align: right;\n",
              "    }\n",
              "</style>\n",
              "<table border=\"1\" class=\"dataframe\">\n",
              "  <thead>\n",
              "    <tr style=\"text-align: right;\">\n",
              "      <th></th>\n",
              "      <th>sex</th>\n",
              "      <th>time</th>\n",
              "      <th>obs_value</th>\n",
              "      <th>classif1</th>\n",
              "    </tr>\n",
              "  </thead>\n",
              "  <tbody>\n",
              "    <tr>\n",
              "      <th>5570</th>\n",
              "      <td>SEX_T</td>\n",
              "      <td>2000</td>\n",
              "      <td>8.98</td>\n",
              "      <td>AGE_YTHADULT_YGE15</td>\n",
              "    </tr>\n",
              "    <tr>\n",
              "      <th>5571</th>\n",
              "      <td>SEX_M</td>\n",
              "      <td>2000</td>\n",
              "      <td>5.06</td>\n",
              "      <td>AGE_YTHADULT_YGE15</td>\n",
              "    </tr>\n",
              "    <tr>\n",
              "      <th>5572</th>\n",
              "      <td>SEX_F</td>\n",
              "      <td>2000</td>\n",
              "      <td>22.73</td>\n",
              "      <td>AGE_YTHADULT_YGE15</td>\n",
              "    </tr>\n",
              "    <tr>\n",
              "      <th>5573</th>\n",
              "      <td>SEX_T</td>\n",
              "      <td>2001</td>\n",
              "      <td>9.26</td>\n",
              "      <td>AGE_YTHADULT_YGE15</td>\n",
              "    </tr>\n",
              "    <tr>\n",
              "      <th>5574</th>\n",
              "      <td>SEX_T</td>\n",
              "      <td>2001</td>\n",
              "      <td>9.43</td>\n",
              "      <td>AGE_YTHADULT_Y15-64</td>\n",
              "    </tr>\n",
              "  </tbody>\n",
              "</table>\n",
              "</div>"
            ],
            "text/plain": [
              "        sex  time  obs_value             classif1\n",
              "5570  SEX_T  2000       8.98   AGE_YTHADULT_YGE15\n",
              "5571  SEX_M  2000       5.06   AGE_YTHADULT_YGE15\n",
              "5572  SEX_F  2000      22.73   AGE_YTHADULT_YGE15\n",
              "5573  SEX_T  2001       9.26   AGE_YTHADULT_YGE15\n",
              "5574  SEX_T  2001       9.43  AGE_YTHADULT_Y15-64"
            ]
          },
          "metadata": {
            "tags": []
          },
          "execution_count": 72
        }
      ]
    },
    {
      "cell_type": "code",
      "metadata": {
        "id": "9RNVM_PoYhr9",
        "outputId": "08f89480-df73-49ff-9637-431f483f27d2",
        "colab": {
          "base_uri": "https://localhost:8080/",
          "height": 317
        }
      },
      "source": [
        "#How data is distributed over sexes\n",
        "egy_unemp_df.sex.value_counts().plot(kind='bar')\n",
        "plt.xlabel('sex') \n",
        "plt.ylabel('number of instances')\n",
        "plt.title('data distribution over sexes');"
      ],
      "execution_count": null,
      "outputs": [
        {
          "output_type": "display_data",
          "data": {
            "image/png": "[encoded data removed]",
            "text/plain": [
              "<Figure size 432x288 with 1 Axes>"
            ]
          },
          "metadata": {
            "tags": [],
            "needs_background": "light"
          }
        }
      ]
    },
    {
      "cell_type": "markdown",
      "metadata": {
        "id": "p0tyg7nwYyzM"
      },
      "source": [
        "### Since this dataset has no documentation on the site, I can't determine what SEX_T or SEX_O are. Maybe transexual and other, but I am not sure. Thus, I will drop both  "
      ]
    },
    {
      "cell_type": "code",
      "metadata": {
        "id": "yicHcLxZYnUM",
        "outputId": "4f0330a0-8648-4750-f4a7-a713b1fdb792",
        "colab": {
          "base_uri": "https://localhost:8080/"
        }
      },
      "source": [
        "#Drop the un-understood sex type\n",
        "egy_unemp_df.drop(egy_unemp_df[egy_unemp_df.sex=='SEX_T'].index, inplace=True) \n",
        "egy_unemp_df.info()"
      ],
      "execution_count": null,
      "outputs": [
        {
          "output_type": "stream",
          "text": [
            "<class 'pandas.core.frame.DataFrame'>\n",
            "Int64Index: 128 entries, 5571 to 5761\n",
            "Data columns (total 4 columns):\n",
            " #   Column     Non-Null Count  Dtype  \n",
            "---  ------     --------------  -----  \n",
            " 0   sex        128 non-null    object \n",
            " 1   time       128 non-null    int64  \n",
            " 2   obs_value  128 non-null    float64\n",
            " 3   classif1   128 non-null    object \n",
            "dtypes: float64(1), int64(1), object(2)\n",
            "memory usage: 5.0+ KB\n"
          ],
          "name": "stdout"
        }
      ]
    },
    {
      "cell_type": "code",
      "metadata": {
        "id": "gJ_OW3Btl5JC",
        "outputId": "1c4f49c2-828c-4e75-9da2-195e93cfb403",
        "colab": {
          "base_uri": "https://localhost:8080/",
          "height": 311
        }
      },
      "source": [
        "#plot unemployment rate in Egypt over years\n",
        "timely_egy_unemp_df = egy_unemp_df.groupby(['time']).mean()\n",
        "timely_egy_unemp_df.plot(kind='bar')\n",
        "plt.ylabel('percentage')\n",
        "plt.xlabel('year') \n",
        "plt.title('unemployment rate in Egypt');"
      ],
      "execution_count": null,
      "outputs": [
        {
          "output_type": "display_data",
          "data": {
            "image/png": "[encoded data removed]",
            "text/plain": [
              "<Figure size 432x288 with 1 Axes>"
            ]
          },
          "metadata": {
            "tags": [],
            "needs_background": "light"
          }
        }
      ]
    },
    {
      "cell_type": "markdown",
      "metadata": {
        "id": "jod6-wN2boj6"
      },
      "source": [
        "### So the total average is about 17%. This is actually much higher than what we expect. My assumption is that there might be sub categories that are leveraging the average as such.\n",
        "\n",
        "\n",
        "---\n",
        "### Now, to answer our question, lets plot unemployment rate for each gender\n"
      ]
    },
    {
      "cell_type": "code",
      "metadata": {
        "id": "kadHSnkDZwS2",
        "outputId": "bc7370c0-f362-47f6-ed66-e5bd72925161",
        "colab": {
          "base_uri": "https://localhost:8080/",
          "height": 220
        }
      },
      "source": [
        "#groupby time and sex for unemployment rate in Egypt\n",
        "timely_egy_unemp_df = egy_unemp_df.groupby(['time', 'sex']).mean()\n",
        "timely_egy_unemp_df.head()"
      ],
      "execution_count": null,
      "outputs": [
        {
          "output_type": "execute_result",
          "data": {
            "text/html": [
              "<div>\n",
              "<style scoped>\n",
              "    .dataframe tbody tr th:only-of-type {\n",
              "        vertical-align: middle;\n",
              "    }\n",
              "\n",
              "    .dataframe tbody tr th {\n",
              "        vertical-align: top;\n",
              "    }\n",
              "\n",
              "    .dataframe thead th {\n",
              "        text-align: right;\n",
              "    }\n",
              "</style>\n",
              "<table border=\"1\" class=\"dataframe\">\n",
              "  <thead>\n",
              "    <tr style=\"text-align: right;\">\n",
              "      <th></th>\n",
              "      <th></th>\n",
              "      <th>obs_value</th>\n",
              "    </tr>\n",
              "    <tr>\n",
              "      <th>time</th>\n",
              "      <th>sex</th>\n",
              "      <th></th>\n",
              "    </tr>\n",
              "  </thead>\n",
              "  <tbody>\n",
              "    <tr>\n",
              "      <th rowspan=\"2\" valign=\"top\">2000</th>\n",
              "      <th>SEX_F</th>\n",
              "      <td>22.7300</td>\n",
              "    </tr>\n",
              "    <tr>\n",
              "      <th>SEX_M</th>\n",
              "      <td>5.0600</td>\n",
              "    </tr>\n",
              "    <tr>\n",
              "      <th rowspan=\"2\" valign=\"top\">2001</th>\n",
              "      <th>SEX_F</th>\n",
              "      <td>26.9825</td>\n",
              "    </tr>\n",
              "    <tr>\n",
              "      <th>SEX_M</th>\n",
              "      <td>8.2825</td>\n",
              "    </tr>\n",
              "    <tr>\n",
              "      <th>2002</th>\n",
              "      <th>SEX_F</th>\n",
              "      <td>26.1575</td>\n",
              "    </tr>\n",
              "  </tbody>\n",
              "</table>\n",
              "</div>"
            ],
            "text/plain": [
              "            obs_value\n",
              "time sex             \n",
              "2000 SEX_F    22.7300\n",
              "     SEX_M     5.0600\n",
              "2001 SEX_F    26.9825\n",
              "     SEX_M     8.2825\n",
              "2002 SEX_F    26.1575"
            ]
          },
          "metadata": {
            "tags": []
          },
          "execution_count": 76
        }
      ]
    },
    {
      "cell_type": "code",
      "metadata": {
        "id": "SLfBxCmJciNy",
        "outputId": "80103b56-b19a-4f8e-d5b7-469d5c6e6675",
        "colab": {
          "base_uri": "https://localhost:8080/",
          "height": 327
        }
      },
      "source": [
        "#unemployment rate among females in Egypt over years\n",
        "f_unemp = timely_egy_unemp_df.loc[pd.IndexSlice[:,'SEX_F'],:] \n",
        "#unemployment rate among males in Egypt over years\n",
        "m_unemp = timely_egy_unemp_df.loc[pd.IndexSlice[:,'SEX_M'],:] \n",
        "plt.plot(np.arange(6, 6+f_unemp.shape[0]), f_unemp, label='Female unemployment role');\n",
        "plt.plot(np.arange(6, 6+m_unemp.shape[0]), m_unemp, label='Male unemployment role');\n",
        "plt.xlabel('year') \n",
        "plt.ylabel('percentage')\n",
        "plt.title('Unemployment rate in Egypt for females vs males')\n",
        "plt.legend();\n",
        "\n",
        "print(\"Female average unemployment rate:\", f_unemp.mean().obs_value) \n",
        "print(\"Male average unemployment rate:\", m_unemp.mean().obs_value) "
      ],
      "execution_count": null,
      "outputs": [
        {
          "output_type": "stream",
          "text": [
            "Female average unemployment rate: 26.416138157894736\n",
            "Male average unemployment rate: 9.333735526315788\n"
          ],
          "name": "stdout"
        },
        {
          "output_type": "display_data",
          "data": {
            "image/png": "[encoded data removed]",
            "text/plain": [
              "<Figure size 432x288 with 1 Axes>"
            ]
          },
          "metadata": {
            "tags": [],
            "needs_background": "light"
          }
        }
      ]
    },
    {
      "cell_type": "markdown",
      "metadata": {
        "id": "9vzOwW1Jv95n"
      },
      "source": [
        "## In Egypt, female mean unemployment rate is 3X unemployment rate of males. How unfair is that!"
      ]
    },
    {
      "cell_type": "markdown",
      "metadata": {
        "id": "vD60SFFqwR5d"
      },
      "source": [
        "#Conclusion"
      ]
    },
    {
      "cell_type": "markdown",
      "metadata": {
        "id": "fhrcAue-wT0V"
      },
      "source": [
        "##For the first question, we found that there is no correlation between democracy levels and number of internet users.\n",
        "\n",
        "\n",
        "\n",
        "---\n",
        "##For the second question, we found that tunisia saw the biggest increase in democracy levels in the period between 2006 and 2018, while Venzuela saw the biggest decline in democracy levels in the same period. 33.5% and -22.6, respectively.\n",
        "\n",
        "\n",
        "---\n",
        "##For the third question, we found that there is no gender employment equity in Egypt as the unemployment rate between females is 3X times the unemployment rate of males."
      ]
    },
    {
      "cell_type": "markdown",
      "metadata": {
        "id": "12RqFri6hiwk"
      },
      "source": [
        "#Limitations\n",
        "\n",
        "\n",
        "---\n",
        "##1- I'm not sure about the accuracy of democracy index since this is a subjective judgement. Thus, one limitation is subjectivity in data or simple biased data which will also lead to biased analysis\n",
        "\n",
        "\n",
        "\n",
        "---\n",
        "##2- The second limitation I faced is the relatively short period (2006-2018) of democracy index data, which is defenitely not enough to track democracy evolution since social change in countries is an extremelly slow process."
      ]
    },
    {
      "cell_type": "code",
      "metadata": {
        "id": "dcXyWbjIilqc"
      },
      "source": [
        ""
      ],
      "execution_count": null,
      "outputs": []
    }
  ]
}