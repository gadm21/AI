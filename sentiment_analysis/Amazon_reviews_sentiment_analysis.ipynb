{
  "nbformat": 4,
  "nbformat_minor": 0,
  "metadata": {
    "colab": {
      "name": "Amazon reviews sentiment analysis.ipynb",
      "provenance": [],
      "collapsed_sections": [
        "PCOedjYOoszv",
        "xT_57yf0oyn4",
        "XovoTkhNyJhL",
        "yDVtrml7sX_u"
      ],
      "authorship_tag": "ABX9TyNq25jp4A+rH8Kiqp7uHAzi",
      "include_colab_link": true
    },
    "kernelspec": {
      "name": "python3",
      "display_name": "Python 3"
    }
  },
  "cells": [
    {
      "cell_type": "markdown",
      "metadata": {
        "id": "view-in-github",
        "colab_type": "text"
      },
      "source": [
        "<a href=\"https://colab.research.google.com/github/gadm21/AI/blob/master/sentiment_analysis/Amazon_reviews_sentiment_analysis.ipynb\" target=\"_parent\"><img src=\"https://colab.research.google.com/assets/colab-badge.svg\" alt=\"Open In Colab\"/></a>"
      ]
    },
    {
      "cell_type": "markdown",
      "metadata": {
        "id": "F3U-XZ29Ha_-"
      },
      "source": [
        "# Sentiment analysis of Amazon products' reviews"
      ]
    },
    {
      "cell_type": "markdown",
      "metadata": {
        "id": "PCOedjYOoszv"
      },
      "source": [
        "# Import"
      ]
    },
    {
      "cell_type": "code",
      "metadata": {
        "colab": {
          "base_uri": "https://localhost:8080/"
        },
        "id": "GDMhsmxUoth8",
        "outputId": "e0f140c6-b04d-4d54-b1f9-1cdb03dfd56e"
      },
      "source": [
        "import os \r\n",
        "\r\n",
        "# Dataframe\r\n",
        "import pandas as pd\r\n",
        "\r\n",
        "# Array\r\n",
        "import numpy as np\r\n",
        "import itertools\r\n",
        "\r\n",
        "# Visualizations\r\n",
        "import matplotlib.pyplot as plt\r\n",
        "from matplotlib.colors import ListedColormap\r\n",
        "import seaborn as sns\r\n",
        "import matplotlib.colors as colors\r\n",
        "%matplotlib inline\r\n",
        "from wordcloud import WordCloud, STOPWORDS\r\n",
        "\r\n",
        "# Datetime\r\n",
        "from datetime import datetime\r\n",
        "\r\n",
        "# text preprocessing\r\n",
        "import string\r\n",
        "import spacy\r\n",
        "import nltk\r\n",
        "from nltk.corpus import stopwords\r\n",
        "nltk.download('stopwords')\r\n",
        "from nltk.stem import PorterStemmer, WordNetLemmatizer\r\n",
        "from nltk.tokenize import word_tokenize, sent_tokenize, regexp_tokenize\r\n",
        "from nltk.tokenize import RegexpTokenizer\r\n",
        "from nltk.tokenize.toktok import ToktokTokenizer\r\n",
        "import gensim\r\n",
        "import re\r\n",
        "\r\n",
        "## Modeling\r\n",
        "from sklearn.model_selection import cross_validate\r\n",
        "from sklearn.model_selection import train_test_split\r\n",
        "from sklearn.model_selection import StratifiedKFold\r\n",
        "from sklearn.model_selection import GridSearchCV\r\n",
        "from sklearn.model_selection import cross_val_predict\r\n",
        "from sklearn.model_selection import cross_val_score\r\n",
        "from sklearn.linear_model import LogisticRegression\r\n",
        "from sklearn.neighbors import KNeighborsClassifier\r\n",
        "from sklearn.model_selection import learning_curve\r\n",
        "from sklearn.ensemble import ExtraTreesClassifier\r\n",
        "from sklearn.decomposition import TruncatedSVD\r\n",
        "from sklearn.feature_extraction.text import TfidfVectorizer, CountVectorizer, HashingVectorizer\r\n",
        "from sklearn.pipeline import Pipeline\r\n",
        "from sklearn.naive_bayes import MultinomialNB\r\n",
        "from sklearn.naive_bayes import GaussianNB \r\n",
        "from sklearn.svm import SVC\r\n",
        "from sklearn import metrics\r\n",
        "from sklearn.metrics import classification_report\r\n",
        "from sklearn.metrics import confusion_matrix\r\n",
        "from  sklearn.metrics import precision_recall_fscore_support\r\n",
        "from sklearn.ensemble import RandomForestClassifier\r\n",
        "from sklearn.tree import DecisionTreeClassifier\r\n",
        "from sklearn.metrics import f1_score\r\n",
        "from sklearn.metrics import recall_score\r\n",
        "from gensim.models import Word2Vec\r\n",
        "from tqdm import tqdm\r\n",
        "import xgboost as xgb\r\n",
        "from xgboost import XGBClassifier\r\n",
        "from sklearn.dummy import DummyClassifier\r\n",
        "\r\n",
        "from xgboost import XGBClassifier\r\n",
        "\r\n",
        "\r\n",
        "from keras.preprocessing.text import Tokenizer\r\n",
        "from keras.preprocessing.sequence import pad_sequences\r\n",
        "\r\n",
        "import keras\r\n",
        "from keras.models import Sequential, Input\r\n",
        "from keras.layers import Dense\r\n",
        "from keras.backend import eval\r\n",
        "from keras.optimizers import Adam\r\n",
        "from keras.layers import LSTM\r\n",
        "from keras.layers.embeddings import Embedding\r\n",
        "from keras.layers import Dropout\r\n",
        "from keras.layers.convolutional import Conv1D,MaxPooling1D\r\n",
        "\r\n",
        "import keras.backend as K"
      ],
      "execution_count": 233,
      "outputs": [
        {
          "output_type": "stream",
          "text": [
            "[nltk_data] Downloading package stopwords to /root/nltk_data...\n",
            "[nltk_data]   Package stopwords is already up-to-date!\n"
          ],
          "name": "stdout"
        }
      ]
    },
    {
      "cell_type": "code",
      "metadata": {
        "id": "Fpp_V4OiXwpf"
      },
      "source": [
        "import sys\r\n",
        "np.set_printoptions(threshold=sys.maxsize)"
      ],
      "execution_count": null,
      "outputs": []
    },
    {
      "cell_type": "markdown",
      "metadata": {
        "id": "eWqXzGZZouNn"
      },
      "source": [
        "# Function"
      ]
    },
    {
      "cell_type": "code",
      "metadata": {
        "id": "Fzzzebluou9j"
      },
      "source": [
        "def get_dataset():\r\n",
        "  !wget --load-cookies /tmp/cookies.txt\\\r\n",
        "   \"https://docs.google.com/uc?export=download&confirm=$(wget --quiet --save-cookies /tmp/cookies.txt\\\r\n",
        "    --keep-session-cookies --no-check-certificate 'https://docs.google.com/uc?export=download&id=1EzY1IfN_QGCVp9EUVxZ3dZhRF_EUtyJA' -O- \\\r\n",
        "    | sed -rn 's/.*confirm=([0-9A-Za-z_]+).*/\\1\\n/p')&id=1EzY1IfN_QGCVp9EUVxZ3dZhRF_EUtyJA\" -O kaggle.json && rm -rf /tmp/cookies.txt\r\n",
        "\r\n",
        "  !pip install kaggle\r\n",
        "\r\n",
        "  !mkdir ~/.kaggle\r\n",
        "  !cp kaggle.json ~/.kaggle/\r\n",
        "  !chmod 600 ~/.kaggle/kaggle.json\r\n",
        "  \r\n",
        "  !kaggle datasets download -d datafiniti/consumer-reviews-of-amazon-products\r\n",
        "  !unzip 'consumer-reviews-of-amazon-products.zip'\r\n",
        "\r\n",
        "\r\n",
        "def text_process(text, as_string = False):\r\n",
        "\r\n",
        "  '''\r\n",
        "  performs the following on the input text : \r\n",
        "    1- removes punctuation\r\n",
        "    2- removes stopwords\r\n",
        "    3- returns the remining as list of words\r\n",
        "  '''\r\n",
        "  \r\n",
        "  nopunc = ''.join([char.lower() for char in text if char not in string.punctuation])\r\n",
        "  nopunc_nostopwords = [word for word in nopunc.split() if word not in stopwords_en] \r\n",
        "  if as_string : return ' '.join(nopunc_nostopwords)\r\n",
        "  else : return nopunc_nostopwords "
      ],
      "execution_count": 168,
      "outputs": []
    },
    {
      "cell_type": "markdown",
      "metadata": {
        "id": "xT_57yf0oyn4"
      },
      "source": [
        "# Data"
      ]
    },
    {
      "cell_type": "markdown",
      "metadata": {
        "id": "XovoTkhNyJhL"
      },
      "source": [
        "## Download"
      ]
    },
    {
      "cell_type": "code",
      "metadata": {
        "id": "D9sWVvf4o0dQ"
      },
      "source": [
        "%%capture\r\n",
        "get_dataset()"
      ],
      "execution_count": 4,
      "outputs": []
    },
    {
      "cell_type": "code",
      "metadata": {
        "colab": {
          "base_uri": "https://localhost:8080/",
          "height": 0
        },
        "id": "XLIAlsMpp2rn",
        "outputId": "091331ed-e520-48b1-a97c-1002be027bf2"
      },
      "source": [
        "#df = pd.read_csv(\"Datafiniti_Amazon_Consumer_Reviews_of_Amazon_Products.csv\")\r\n",
        "#df = pd.read_csv(\"Datafiniti_Amazon_Consumer_Reviews_of_Amazon_Products_May19.csv\")\r\n",
        "df = pd.read_csv(\"1429_1.csv\")\r\n",
        "df.head()"
      ],
      "execution_count": 10,
      "outputs": [
        {
          "output_type": "stream",
          "text": [
            "/usr/local/lib/python3.6/dist-packages/IPython/core/interactiveshell.py:2718: DtypeWarning: Columns (1,10) have mixed types.Specify dtype option on import or set low_memory=False.\n",
            "  interactivity=interactivity, compiler=compiler, result=result)\n"
          ],
          "name": "stderr"
        },
        {
          "output_type": "execute_result",
          "data": {
            "text/html": [
              "<div>\n",
              "<style scoped>\n",
              "    .dataframe tbody tr th:only-of-type {\n",
              "        vertical-align: middle;\n",
              "    }\n",
              "\n",
              "    .dataframe tbody tr th {\n",
              "        vertical-align: top;\n",
              "    }\n",
              "\n",
              "    .dataframe thead th {\n",
              "        text-align: right;\n",
              "    }\n",
              "</style>\n",
              "<table border=\"1\" class=\"dataframe\">\n",
              "  <thead>\n",
              "    <tr style=\"text-align: right;\">\n",
              "      <th></th>\n",
              "      <th>id</th>\n",
              "      <th>name</th>\n",
              "      <th>asins</th>\n",
              "      <th>brand</th>\n",
              "      <th>categories</th>\n",
              "      <th>keys</th>\n",
              "      <th>manufacturer</th>\n",
              "      <th>reviews.date</th>\n",
              "      <th>reviews.dateAdded</th>\n",
              "      <th>reviews.dateSeen</th>\n",
              "      <th>reviews.didPurchase</th>\n",
              "      <th>reviews.doRecommend</th>\n",
              "      <th>reviews.id</th>\n",
              "      <th>reviews.numHelpful</th>\n",
              "      <th>reviews.rating</th>\n",
              "      <th>reviews.sourceURLs</th>\n",
              "      <th>reviews.text</th>\n",
              "      <th>reviews.title</th>\n",
              "      <th>reviews.userCity</th>\n",
              "      <th>reviews.userProvince</th>\n",
              "      <th>reviews.username</th>\n",
              "    </tr>\n",
              "  </thead>\n",
              "  <tbody>\n",
              "    <tr>\n",
              "      <th>0</th>\n",
              "      <td>AVqkIhwDv8e3D1O-lebb</td>\n",
              "      <td>All-New Fire HD 8 Tablet, 8 HD Display, Wi-Fi,...</td>\n",
              "      <td>B01AHB9CN2</td>\n",
              "      <td>Amazon</td>\n",
              "      <td>Electronics,iPad &amp; Tablets,All Tablets,Fire Ta...</td>\n",
              "      <td>841667104676,amazon/53004484,amazon/b01ahb9cn2...</td>\n",
              "      <td>Amazon</td>\n",
              "      <td>2017-01-13T00:00:00.000Z</td>\n",
              "      <td>2017-07-03T23:33:15Z</td>\n",
              "      <td>2017-06-07T09:04:00.000Z,2017-04-30T00:45:00.000Z</td>\n",
              "      <td>NaN</td>\n",
              "      <td>True</td>\n",
              "      <td>NaN</td>\n",
              "      <td>0.0</td>\n",
              "      <td>5.0</td>\n",
              "      <td>http://reviews.bestbuy.com/3545/5620406/review...</td>\n",
              "      <td>This product so far has not disappointed. My c...</td>\n",
              "      <td>Kindle</td>\n",
              "      <td>NaN</td>\n",
              "      <td>NaN</td>\n",
              "      <td>Adapter</td>\n",
              "    </tr>\n",
              "    <tr>\n",
              "      <th>1</th>\n",
              "      <td>AVqkIhwDv8e3D1O-lebb</td>\n",
              "      <td>All-New Fire HD 8 Tablet, 8 HD Display, Wi-Fi,...</td>\n",
              "      <td>B01AHB9CN2</td>\n",
              "      <td>Amazon</td>\n",
              "      <td>Electronics,iPad &amp; Tablets,All Tablets,Fire Ta...</td>\n",
              "      <td>841667104676,amazon/53004484,amazon/b01ahb9cn2...</td>\n",
              "      <td>Amazon</td>\n",
              "      <td>2017-01-13T00:00:00.000Z</td>\n",
              "      <td>2017-07-03T23:33:15Z</td>\n",
              "      <td>2017-06-07T09:04:00.000Z,2017-04-30T00:45:00.000Z</td>\n",
              "      <td>NaN</td>\n",
              "      <td>True</td>\n",
              "      <td>NaN</td>\n",
              "      <td>0.0</td>\n",
              "      <td>5.0</td>\n",
              "      <td>http://reviews.bestbuy.com/3545/5620406/review...</td>\n",
              "      <td>great for beginner or experienced person. Boug...</td>\n",
              "      <td>very fast</td>\n",
              "      <td>NaN</td>\n",
              "      <td>NaN</td>\n",
              "      <td>truman</td>\n",
              "    </tr>\n",
              "    <tr>\n",
              "      <th>2</th>\n",
              "      <td>AVqkIhwDv8e3D1O-lebb</td>\n",
              "      <td>All-New Fire HD 8 Tablet, 8 HD Display, Wi-Fi,...</td>\n",
              "      <td>B01AHB9CN2</td>\n",
              "      <td>Amazon</td>\n",
              "      <td>Electronics,iPad &amp; Tablets,All Tablets,Fire Ta...</td>\n",
              "      <td>841667104676,amazon/53004484,amazon/b01ahb9cn2...</td>\n",
              "      <td>Amazon</td>\n",
              "      <td>2017-01-13T00:00:00.000Z</td>\n",
              "      <td>2017-07-03T23:33:15Z</td>\n",
              "      <td>2017-06-07T09:04:00.000Z,2017-04-30T00:45:00.000Z</td>\n",
              "      <td>NaN</td>\n",
              "      <td>True</td>\n",
              "      <td>NaN</td>\n",
              "      <td>0.0</td>\n",
              "      <td>5.0</td>\n",
              "      <td>http://reviews.bestbuy.com/3545/5620406/review...</td>\n",
              "      <td>Inexpensive tablet for him to use and learn on...</td>\n",
              "      <td>Beginner tablet for our 9 year old son.</td>\n",
              "      <td>NaN</td>\n",
              "      <td>NaN</td>\n",
              "      <td>DaveZ</td>\n",
              "    </tr>\n",
              "    <tr>\n",
              "      <th>3</th>\n",
              "      <td>AVqkIhwDv8e3D1O-lebb</td>\n",
              "      <td>All-New Fire HD 8 Tablet, 8 HD Display, Wi-Fi,...</td>\n",
              "      <td>B01AHB9CN2</td>\n",
              "      <td>Amazon</td>\n",
              "      <td>Electronics,iPad &amp; Tablets,All Tablets,Fire Ta...</td>\n",
              "      <td>841667104676,amazon/53004484,amazon/b01ahb9cn2...</td>\n",
              "      <td>Amazon</td>\n",
              "      <td>2017-01-13T00:00:00.000Z</td>\n",
              "      <td>2017-07-03T23:33:15Z</td>\n",
              "      <td>2017-06-07T09:04:00.000Z,2017-04-30T00:45:00.000Z</td>\n",
              "      <td>NaN</td>\n",
              "      <td>True</td>\n",
              "      <td>NaN</td>\n",
              "      <td>0.0</td>\n",
              "      <td>4.0</td>\n",
              "      <td>http://reviews.bestbuy.com/3545/5620406/review...</td>\n",
              "      <td>I've had my Fire HD 8 two weeks now and I love...</td>\n",
              "      <td>Good!!!</td>\n",
              "      <td>NaN</td>\n",
              "      <td>NaN</td>\n",
              "      <td>Shacks</td>\n",
              "    </tr>\n",
              "    <tr>\n",
              "      <th>4</th>\n",
              "      <td>AVqkIhwDv8e3D1O-lebb</td>\n",
              "      <td>All-New Fire HD 8 Tablet, 8 HD Display, Wi-Fi,...</td>\n",
              "      <td>B01AHB9CN2</td>\n",
              "      <td>Amazon</td>\n",
              "      <td>Electronics,iPad &amp; Tablets,All Tablets,Fire Ta...</td>\n",
              "      <td>841667104676,amazon/53004484,amazon/b01ahb9cn2...</td>\n",
              "      <td>Amazon</td>\n",
              "      <td>2017-01-12T00:00:00.000Z</td>\n",
              "      <td>2017-07-03T23:33:15Z</td>\n",
              "      <td>2017-06-07T09:04:00.000Z,2017-04-30T00:45:00.000Z</td>\n",
              "      <td>NaN</td>\n",
              "      <td>True</td>\n",
              "      <td>NaN</td>\n",
              "      <td>0.0</td>\n",
              "      <td>5.0</td>\n",
              "      <td>http://reviews.bestbuy.com/3545/5620406/review...</td>\n",
              "      <td>I bought this for my grand daughter when she c...</td>\n",
              "      <td>Fantastic Tablet for kids</td>\n",
              "      <td>NaN</td>\n",
              "      <td>NaN</td>\n",
              "      <td>explore42</td>\n",
              "    </tr>\n",
              "  </tbody>\n",
              "</table>\n",
              "</div>"
            ],
            "text/plain": [
              "                     id  ... reviews.username\n",
              "0  AVqkIhwDv8e3D1O-lebb  ...          Adapter\n",
              "1  AVqkIhwDv8e3D1O-lebb  ...           truman\n",
              "2  AVqkIhwDv8e3D1O-lebb  ...            DaveZ\n",
              "3  AVqkIhwDv8e3D1O-lebb  ...           Shacks\n",
              "4  AVqkIhwDv8e3D1O-lebb  ...        explore42\n",
              "\n",
              "[5 rows x 21 columns]"
            ]
          },
          "metadata": {
            "tags": []
          },
          "execution_count": 10
        }
      ]
    },
    {
      "cell_type": "code",
      "metadata": {
        "colab": {
          "base_uri": "https://localhost:8080/"
        },
        "id": "Yvwu2G2hqlDy",
        "outputId": "5fea1132-92c3-4ae4-c3d6-0a2df0c700bf"
      },
      "source": [
        "print(df.shape)\r\n",
        "df.columns"
      ],
      "execution_count": 11,
      "outputs": [
        {
          "output_type": "stream",
          "text": [
            "(34660, 21)\n"
          ],
          "name": "stdout"
        },
        {
          "output_type": "execute_result",
          "data": {
            "text/plain": [
              "Index(['id', 'name', 'asins', 'brand', 'categories', 'keys', 'manufacturer',\n",
              "       'reviews.date', 'reviews.dateAdded', 'reviews.dateSeen',\n",
              "       'reviews.didPurchase', 'reviews.doRecommend', 'reviews.id',\n",
              "       'reviews.numHelpful', 'reviews.rating', 'reviews.sourceURLs',\n",
              "       'reviews.text', 'reviews.title', 'reviews.userCity',\n",
              "       'reviews.userProvince', 'reviews.username'],\n",
              "      dtype='object')"
            ]
          },
          "metadata": {
            "tags": []
          },
          "execution_count": 11
        }
      ]
    },
    {
      "cell_type": "markdown",
      "metadata": {
        "id": "yDVtrml7sX_u"
      },
      "source": [
        "## keep only relevant features"
      ]
    },
    {
      "cell_type": "code",
      "metadata": {
        "colab": {
          "base_uri": "https://localhost:8080/",
          "height": 0
        },
        "id": "Ga4PweNHsUU4",
        "outputId": "990f8b85-1480-4c5a-9c69-5f8567fd23e7"
      },
      "source": [
        "relevant_features = ['reviews.doRecommend', 'reviews.numHelpful', 'reviews.rating', 'reviews.text', 'reviews.title']\r\n",
        "relevant_df = df[relevant_features]\r\n",
        "relevant_df.head()"
      ],
      "execution_count": 26,
      "outputs": [
        {
          "output_type": "execute_result",
          "data": {
            "text/html": [
              "<div>\n",
              "<style scoped>\n",
              "    .dataframe tbody tr th:only-of-type {\n",
              "        vertical-align: middle;\n",
              "    }\n",
              "\n",
              "    .dataframe tbody tr th {\n",
              "        vertical-align: top;\n",
              "    }\n",
              "\n",
              "    .dataframe thead th {\n",
              "        text-align: right;\n",
              "    }\n",
              "</style>\n",
              "<table border=\"1\" class=\"dataframe\">\n",
              "  <thead>\n",
              "    <tr style=\"text-align: right;\">\n",
              "      <th></th>\n",
              "      <th>reviews.doRecommend</th>\n",
              "      <th>reviews.numHelpful</th>\n",
              "      <th>reviews.rating</th>\n",
              "      <th>reviews.text</th>\n",
              "      <th>reviews.title</th>\n",
              "    </tr>\n",
              "  </thead>\n",
              "  <tbody>\n",
              "    <tr>\n",
              "      <th>0</th>\n",
              "      <td>True</td>\n",
              "      <td>0.0</td>\n",
              "      <td>5.0</td>\n",
              "      <td>This product so far has not disappointed. My c...</td>\n",
              "      <td>Kindle</td>\n",
              "    </tr>\n",
              "    <tr>\n",
              "      <th>1</th>\n",
              "      <td>True</td>\n",
              "      <td>0.0</td>\n",
              "      <td>5.0</td>\n",
              "      <td>great for beginner or experienced person. Boug...</td>\n",
              "      <td>very fast</td>\n",
              "    </tr>\n",
              "    <tr>\n",
              "      <th>2</th>\n",
              "      <td>True</td>\n",
              "      <td>0.0</td>\n",
              "      <td>5.0</td>\n",
              "      <td>Inexpensive tablet for him to use and learn on...</td>\n",
              "      <td>Beginner tablet for our 9 year old son.</td>\n",
              "    </tr>\n",
              "    <tr>\n",
              "      <th>3</th>\n",
              "      <td>True</td>\n",
              "      <td>0.0</td>\n",
              "      <td>4.0</td>\n",
              "      <td>I've had my Fire HD 8 two weeks now and I love...</td>\n",
              "      <td>Good!!!</td>\n",
              "    </tr>\n",
              "    <tr>\n",
              "      <th>4</th>\n",
              "      <td>True</td>\n",
              "      <td>0.0</td>\n",
              "      <td>5.0</td>\n",
              "      <td>I bought this for my grand daughter when she c...</td>\n",
              "      <td>Fantastic Tablet for kids</td>\n",
              "    </tr>\n",
              "  </tbody>\n",
              "</table>\n",
              "</div>"
            ],
            "text/plain": [
              "  reviews.doRecommend  ...                            reviews.title\n",
              "0                True  ...                                   Kindle\n",
              "1                True  ...                                very fast\n",
              "2                True  ...  Beginner tablet for our 9 year old son.\n",
              "3                True  ...                                  Good!!!\n",
              "4                True  ...                Fantastic Tablet for kids\n",
              "\n",
              "[5 rows x 5 columns]"
            ]
          },
          "metadata": {
            "tags": []
          },
          "execution_count": 26
        }
      ]
    },
    {
      "cell_type": "code",
      "metadata": {
        "colab": {
          "base_uri": "https://localhost:8080/"
        },
        "id": "Y3R44h4UyTEr",
        "outputId": "fb2cc22b-bc00-4922-8615-676420f5995e"
      },
      "source": [
        "relevant_df.shape"
      ],
      "execution_count": 27,
      "outputs": [
        {
          "output_type": "execute_result",
          "data": {
            "text/plain": [
              "(34660, 5)"
            ]
          },
          "metadata": {
            "tags": []
          },
          "execution_count": 27
        }
      ]
    },
    {
      "cell_type": "markdown",
      "metadata": {
        "id": "1k71ddzNx7x5"
      },
      "source": [
        "## Find and delete nulls\r\n"
      ]
    },
    {
      "cell_type": "code",
      "metadata": {
        "colab": {
          "base_uri": "https://localhost:8080/"
        },
        "id": "50Aq41pyxz3V",
        "outputId": "759f3951-f136-435c-e156-da36e2a2b9b8"
      },
      "source": [
        "relevant_df.isnull().sum()"
      ],
      "execution_count": 28,
      "outputs": [
        {
          "output_type": "execute_result",
          "data": {
            "text/plain": [
              "reviews.doRecommend    594\n",
              "reviews.numHelpful     529\n",
              "reviews.rating          33\n",
              "reviews.text             1\n",
              "reviews.title            5\n",
              "dtype: int64"
            ]
          },
          "metadata": {
            "tags": []
          },
          "execution_count": 28
        }
      ]
    },
    {
      "cell_type": "code",
      "metadata": {
        "id": "jVYnZHklyCvq"
      },
      "source": [
        "relevant_df = relevant_df.dropna()"
      ],
      "execution_count": 29,
      "outputs": []
    },
    {
      "cell_type": "code",
      "metadata": {
        "colab": {
          "base_uri": "https://localhost:8080/"
        },
        "id": "_3_AzRg8yhzH",
        "outputId": "4017f792-5937-4a26-e8a8-33e9949bbd69"
      },
      "source": [
        "relevant_df.isnull().sum()"
      ],
      "execution_count": 30,
      "outputs": [
        {
          "output_type": "execute_result",
          "data": {
            "text/plain": [
              "reviews.doRecommend    0\n",
              "reviews.numHelpful     0\n",
              "reviews.rating         0\n",
              "reviews.text           0\n",
              "reviews.title          0\n",
              "dtype: int64"
            ]
          },
          "metadata": {
            "tags": []
          },
          "execution_count": 30
        }
      ]
    },
    {
      "cell_type": "markdown",
      "metadata": {
        "id": "CFGNQQB2zGYh"
      },
      "source": [
        "## change the label (review rate) to binary class (0,1)"
      ]
    },
    {
      "cell_type": "code",
      "metadata": {
        "colab": {
          "base_uri": "https://localhost:8080/"
        },
        "id": "-Y22w7Iara1D",
        "outputId": "f738cd56-6643-45cd-f44a-5a835450586d"
      },
      "source": [
        "threshold_rating = 3\r\n",
        "ratings = relevant_df['reviews.rating'].values\r\n",
        "np.unique(ratings)"
      ],
      "execution_count": 32,
      "outputs": [
        {
          "output_type": "execute_result",
          "data": {
            "text/plain": [
              "array([1., 2., 3., 4., 5.])"
            ]
          },
          "metadata": {
            "tags": []
          },
          "execution_count": 32
        }
      ]
    },
    {
      "cell_type": "code",
      "metadata": {
        "colab": {
          "base_uri": "https://localhost:8080/"
        },
        "id": "ZCKOsJY1zs8H",
        "outputId": "70c8fce5-119c-44eb-dae0-19b9e930cd11"
      },
      "source": [
        "ratings[ratings <= threshold_rating] = 0 \r\n",
        "ratings[ratings > threshold_rating] = 1\r\n",
        "np.unique(ratings)"
      ],
      "execution_count": 33,
      "outputs": [
        {
          "output_type": "execute_result",
          "data": {
            "text/plain": [
              "array([0., 1.])"
            ]
          },
          "metadata": {
            "tags": []
          },
          "execution_count": 33
        }
      ]
    },
    {
      "cell_type": "code",
      "metadata": {
        "id": "T8aO3Ntxz3X2"
      },
      "source": [
        "relevant_df['reviews.rating'] = ratings"
      ],
      "execution_count": 34,
      "outputs": []
    },
    {
      "cell_type": "code",
      "metadata": {
        "colab": {
          "base_uri": "https://localhost:8080/",
          "height": 0
        },
        "id": "XQawn4Xq0TYo",
        "outputId": "6b6a21dd-9912-4cc9-b6c0-d9603c007802"
      },
      "source": [
        "do_recommend = relevant_df['reviews.doRecommend'].values\r\n",
        "do_recommend[do_recommend == False] = 0\r\n",
        "do_recommend[do_recommend == True] = 1 \r\n",
        "relevant_df['reviews.doRecommend'] = do_recommend.astype(np.float64)\r\n",
        "relevant_df.head() "
      ],
      "execution_count": 41,
      "outputs": [
        {
          "output_type": "execute_result",
          "data": {
            "text/html": [
              "<div>\n",
              "<style scoped>\n",
              "    .dataframe tbody tr th:only-of-type {\n",
              "        vertical-align: middle;\n",
              "    }\n",
              "\n",
              "    .dataframe tbody tr th {\n",
              "        vertical-align: top;\n",
              "    }\n",
              "\n",
              "    .dataframe thead th {\n",
              "        text-align: right;\n",
              "    }\n",
              "</style>\n",
              "<table border=\"1\" class=\"dataframe\">\n",
              "  <thead>\n",
              "    <tr style=\"text-align: right;\">\n",
              "      <th></th>\n",
              "      <th>reviews.doRecommend</th>\n",
              "      <th>reviews.numHelpful</th>\n",
              "      <th>reviews.rating</th>\n",
              "      <th>reviews.text</th>\n",
              "      <th>reviews.title</th>\n",
              "    </tr>\n",
              "  </thead>\n",
              "  <tbody>\n",
              "    <tr>\n",
              "      <th>0</th>\n",
              "      <td>1.0</td>\n",
              "      <td>0.0</td>\n",
              "      <td>1.0</td>\n",
              "      <td>This product so far has not disappointed. My c...</td>\n",
              "      <td>Kindle</td>\n",
              "    </tr>\n",
              "    <tr>\n",
              "      <th>1</th>\n",
              "      <td>1.0</td>\n",
              "      <td>0.0</td>\n",
              "      <td>1.0</td>\n",
              "      <td>great for beginner or experienced person. Boug...</td>\n",
              "      <td>very fast</td>\n",
              "    </tr>\n",
              "    <tr>\n",
              "      <th>2</th>\n",
              "      <td>1.0</td>\n",
              "      <td>0.0</td>\n",
              "      <td>1.0</td>\n",
              "      <td>Inexpensive tablet for him to use and learn on...</td>\n",
              "      <td>Beginner tablet for our 9 year old son.</td>\n",
              "    </tr>\n",
              "    <tr>\n",
              "      <th>3</th>\n",
              "      <td>1.0</td>\n",
              "      <td>0.0</td>\n",
              "      <td>1.0</td>\n",
              "      <td>I've had my Fire HD 8 two weeks now and I love...</td>\n",
              "      <td>Good!!!</td>\n",
              "    </tr>\n",
              "    <tr>\n",
              "      <th>4</th>\n",
              "      <td>1.0</td>\n",
              "      <td>0.0</td>\n",
              "      <td>1.0</td>\n",
              "      <td>I bought this for my grand daughter when she c...</td>\n",
              "      <td>Fantastic Tablet for kids</td>\n",
              "    </tr>\n",
              "  </tbody>\n",
              "</table>\n",
              "</div>"
            ],
            "text/plain": [
              "   reviews.doRecommend  ...                            reviews.title\n",
              "0                  1.0  ...                                   Kindle\n",
              "1                  1.0  ...                                very fast\n",
              "2                  1.0  ...  Beginner tablet for our 9 year old son.\n",
              "3                  1.0  ...                                  Good!!!\n",
              "4                  1.0  ...                Fantastic Tablet for kids\n",
              "\n",
              "[5 rows x 5 columns]"
            ]
          },
          "metadata": {
            "tags": []
          },
          "execution_count": 41
        }
      ]
    },
    {
      "cell_type": "code",
      "metadata": {
        "colab": {
          "base_uri": "https://localhost:8080/"
        },
        "id": "9VIZhzMv1GPS",
        "outputId": "15df450a-9a6e-4689-a5ac-0fe35f380ed6"
      },
      "source": [
        "relevant_df.info()"
      ],
      "execution_count": 42,
      "outputs": [
        {
          "output_type": "stream",
          "text": [
            "<class 'pandas.core.frame.DataFrame'>\n",
            "Int64Index: 34061 entries, 0 to 34624\n",
            "Data columns (total 5 columns):\n",
            " #   Column               Non-Null Count  Dtype  \n",
            "---  ------               --------------  -----  \n",
            " 0   reviews.doRecommend  34061 non-null  float64\n",
            " 1   reviews.numHelpful   34061 non-null  float64\n",
            " 2   reviews.rating       34061 non-null  float64\n",
            " 3   reviews.text         34061 non-null  object \n",
            " 4   reviews.title        34061 non-null  object \n",
            "dtypes: float64(3), object(2)\n",
            "memory usage: 1.6+ MB\n"
          ],
          "name": "stdout"
        }
      ]
    },
    {
      "cell_type": "markdown",
      "metadata": {
        "id": "KnLyiL4t0Zl7"
      },
      "source": [
        "## Preprocessing text"
      ]
    },
    {
      "cell_type": "code",
      "metadata": {
        "colab": {
          "base_uri": "https://localhost:8080/"
        },
        "id": "EJskoj-50UG7",
        "outputId": "e34a9eb4-5895-4757-cd56-5121d632c2e3"
      },
      "source": [
        "\r\n",
        "stopwords_en = stopwords.words('english')\r\n",
        "stopwords_en.remove('not')"
      ],
      "execution_count": 53,
      "outputs": [
        {
          "output_type": "stream",
          "text": [
            "[nltk_data] Downloading package stopwords to /root/nltk_data...\n",
            "[nltk_data]   Package stopwords is already up-to-date!\n"
          ],
          "name": "stdout"
        }
      ]
    },
    {
      "cell_type": "code",
      "metadata": {
        "colab": {
          "base_uri": "https://localhost:8080/"
        },
        "id": "d2BO4miC3ioo",
        "outputId": "7b08b576-bfa0-45c4-be22-ba90f8f5a452"
      },
      "source": [
        "X = relevant_df['reviews.text'] \r\n",
        "Y = relevant_df['reviews.rating']\r\n",
        "print(X[0])\r\n",
        "print(' '.join(text_process(X[0])))"
      ],
      "execution_count": 81,
      "outputs": [
        {
          "output_type": "stream",
          "text": [
            "This product so far has not disappointed. My children love to use it and I like the ability to monitor control what content they see with ease.\n",
            "product far not disappointed children love use like ability monitor control content see ease\n"
          ],
          "name": "stdout"
        }
      ]
    },
    {
      "cell_type": "code",
      "metadata": {
        "id": "Gix_W1Zm4aLI"
      },
      "source": [
        "bow_transformer = CountVectorizer(analyzer = text_process).fit(X)\r\n",
        "XX = bow_transformer.transform(X) "
      ],
      "execution_count": 82,
      "outputs": []
    },
    {
      "cell_type": "code",
      "metadata": {
        "colab": {
          "base_uri": "https://localhost:8080/"
        },
        "id": "4too77IZP9Qb",
        "outputId": "57daca8f-ffc6-41b2-87c7-a99aae833a67"
      },
      "source": [
        "type(bow_transformer.vocabulary_)"
      ],
      "execution_count": 135,
      "outputs": [
        {
          "output_type": "execute_result",
          "data": {
            "text/plain": [
              "dict"
            ]
          },
          "metadata": {
            "tags": []
          },
          "execution_count": 135
        }
      ]
    },
    {
      "cell_type": "code",
      "metadata": {
        "colab": {
          "base_uri": "https://localhost:8080/"
        },
        "id": "rN8Ms399P7ZS",
        "outputId": "38a064ed-87b7-4e22-b0d8-555442b9e887"
      },
      "source": [
        "XX.toarray().shape"
      ],
      "execution_count": 134,
      "outputs": [
        {
          "output_type": "execute_result",
          "data": {
            "text/plain": [
              "(34061, 17740)"
            ]
          },
          "metadata": {
            "tags": []
          },
          "execution_count": 134
        }
      ]
    },
    {
      "cell_type": "markdown",
      "metadata": {
        "id": "oxSxHYGNHFjW"
      },
      "source": [
        "## splitting data"
      ]
    },
    {
      "cell_type": "code",
      "metadata": {
        "id": "G5NwrWSLDDpH"
      },
      "source": [
        "x_train, x_test, y_train, y_test = train_test_split(XX, Y, test_size = 0.3) "
      ],
      "execution_count": 89,
      "outputs": []
    },
    {
      "cell_type": "markdown",
      "metadata": {
        "id": "L_uQqRITHSGT"
      },
      "source": [
        "# Train"
      ]
    },
    {
      "cell_type": "markdown",
      "metadata": {
        "id": "dVhNNdRuHV-Y"
      },
      "source": [
        "## Naive bayes classifier"
      ]
    },
    {
      "cell_type": "code",
      "metadata": {
        "colab": {
          "base_uri": "https://localhost:8080/"
        },
        "id": "CwRLLHQLHNKP",
        "outputId": "bc38bfd9-ae42-4471-80e4-e7369d21f105"
      },
      "source": [
        "naive_bayes = MultinomialNB()\r\n",
        "naive_bayes.fit(x_train, y_train) "
      ],
      "execution_count": 90,
      "outputs": [
        {
          "output_type": "execute_result",
          "data": {
            "text/plain": [
              "MultinomialNB(alpha=1.0, class_prior=None, fit_prior=True)"
            ]
          },
          "metadata": {
            "tags": []
          },
          "execution_count": 90
        }
      ]
    },
    {
      "cell_type": "code",
      "metadata": {
        "id": "zUXVYpINHr1O"
      },
      "source": [
        "nb_predictions = naive_bayes.predict(x_test)"
      ],
      "execution_count": 91,
      "outputs": []
    },
    {
      "cell_type": "code",
      "metadata": {
        "colab": {
          "base_uri": "https://localhost:8080/"
        },
        "id": "VKvvScIZHr_k",
        "outputId": "22e16977-a4b6-4eba-fb1e-74b1e7ac8ead"
      },
      "source": [
        "print(\"confusion matrix\")\r\n",
        "print(confusion_matrix(y_test, nb_predictions))\r\n",
        "print(\"___________________\")\r\n",
        "print()\r\n",
        "print(\"classification report\") \r\n",
        "print(classification_report(y_test, nb_predictions)) \r\n",
        "print(\"___________________\")"
      ],
      "execution_count": 92,
      "outputs": [
        {
          "output_type": "stream",
          "text": [
            "confusion matrix\n",
            "[[ 163  520]\n",
            " [ 148 9388]]\n",
            "___________________\n",
            "\n",
            "classification report\n",
            "              precision    recall  f1-score   support\n",
            "\n",
            "         0.0       0.52      0.24      0.33       683\n",
            "         1.0       0.95      0.98      0.97      9536\n",
            "\n",
            "    accuracy                           0.93     10219\n",
            "   macro avg       0.74      0.61      0.65     10219\n",
            "weighted avg       0.92      0.93      0.92     10219\n",
            "\n",
            "___________________\n"
          ],
          "name": "stdout"
        }
      ]
    },
    {
      "cell_type": "markdown",
      "metadata": {
        "id": "iovDcgvmIJJ7"
      },
      "source": [
        "## Support Vector Machine (SVM)"
      ]
    },
    {
      "cell_type": "code",
      "metadata": {
        "colab": {
          "base_uri": "https://localhost:8080/"
        },
        "id": "o551IHBiINZj",
        "outputId": "dc80165c-dbce-4382-dffe-f61ab04c27b8"
      },
      "source": [
        "svm = SVC()\r\n",
        "svm.fit(x_train, y_train) "
      ],
      "execution_count": 93,
      "outputs": [
        {
          "output_type": "execute_result",
          "data": {
            "text/plain": [
              "SVC(C=1.0, break_ties=False, cache_size=200, class_weight=None, coef0=0.0,\n",
              "    decision_function_shape='ovr', degree=3, gamma='scale', kernel='rbf',\n",
              "    max_iter=-1, probability=False, random_state=None, shrinking=True,\n",
              "    tol=0.001, verbose=False)"
            ]
          },
          "metadata": {
            "tags": []
          },
          "execution_count": 93
        }
      ]
    },
    {
      "cell_type": "code",
      "metadata": {
        "id": "d-GzMNXEINct"
      },
      "source": [
        "svm_predictions = svm.predict(x_test)"
      ],
      "execution_count": 106,
      "outputs": []
    },
    {
      "cell_type": "code",
      "metadata": {
        "colab": {
          "base_uri": "https://localhost:8080/"
        },
        "id": "zj3m-0orINfq",
        "outputId": "cea9aede-d7ea-4bac-b198-e672285d5d0c"
      },
      "source": [
        "print(\"confusion matrix\")\r\n",
        "print(confusion_matrix(y_test, svm_predictions))\r\n",
        "print(\"___________________\")\r\n",
        "print()\r\n",
        "print(\"classification report\") \r\n",
        "print(classification_report(y_test, svm_predictions)) \r\n",
        "print(\"___________________\")"
      ],
      "execution_count": 107,
      "outputs": [
        {
          "output_type": "stream",
          "text": [
            "confusion matrix\n",
            "[[  12  671]\n",
            " [   3 9533]]\n",
            "___________________\n",
            "\n",
            "classification report\n",
            "              precision    recall  f1-score   support\n",
            "\n",
            "         0.0       0.80      0.02      0.03       683\n",
            "         1.0       0.93      1.00      0.97      9536\n",
            "\n",
            "    accuracy                           0.93     10219\n",
            "   macro avg       0.87      0.51      0.50     10219\n",
            "weighted avg       0.93      0.93      0.90     10219\n",
            "\n",
            "___________________\n"
          ],
          "name": "stdout"
        }
      ]
    },
    {
      "cell_type": "markdown",
      "metadata": {
        "id": "lXmLWTfEIstc"
      },
      "source": [
        "## K Nearest Neighbors (KNN)"
      ]
    },
    {
      "cell_type": "code",
      "metadata": {
        "colab": {
          "base_uri": "https://localhost:8080/"
        },
        "id": "bU6wYC3JIxBU",
        "outputId": "7640fa21-c812-456a-ecb3-7117bd8d3534"
      },
      "source": [
        "knn = KNeighborsClassifier(n_neighbors = 3) \r\n",
        "knn.fit(x_train, y_train)"
      ],
      "execution_count": 98,
      "outputs": [
        {
          "output_type": "execute_result",
          "data": {
            "text/plain": [
              "KNeighborsClassifier(algorithm='auto', leaf_size=30, metric='minkowski',\n",
              "                     metric_params=None, n_jobs=None, n_neighbors=3, p=2,\n",
              "                     weights='uniform')"
            ]
          },
          "metadata": {
            "tags": []
          },
          "execution_count": 98
        }
      ]
    },
    {
      "cell_type": "code",
      "metadata": {
        "id": "vseoMEwhIxDj"
      },
      "source": [
        "knn_predictions = knn.predict(x_test)"
      ],
      "execution_count": 99,
      "outputs": []
    },
    {
      "cell_type": "code",
      "metadata": {
        "colab": {
          "base_uri": "https://localhost:8080/"
        },
        "id": "8MiGodkBIxGE",
        "outputId": "0c92c3f3-b1de-490c-aa24-6bc44f064d6b"
      },
      "source": [
        "print(\"confusion matrix\")\r\n",
        "print(confusion_matrix(y_test, knn_predictions))\r\n",
        "print(\"___________________\")\r\n",
        "print()\r\n",
        "print(\"classification report\") \r\n",
        "print(classification_report(y_test, knn_predictions)) \r\n",
        "print(\"___________________\")"
      ],
      "execution_count": 100,
      "outputs": [
        {
          "output_type": "stream",
          "text": [
            "confusion matrix\n",
            "[[  20  663]\n",
            " [  39 9497]]\n",
            "___________________\n",
            "\n",
            "classification report\n",
            "              precision    recall  f1-score   support\n",
            "\n",
            "         0.0       0.34      0.03      0.05       683\n",
            "         1.0       0.93      1.00      0.96      9536\n",
            "\n",
            "    accuracy                           0.93     10219\n",
            "   macro avg       0.64      0.51      0.51     10219\n",
            "weighted avg       0.89      0.93      0.90     10219\n",
            "\n",
            "___________________\n"
          ],
          "name": "stdout"
        }
      ]
    },
    {
      "cell_type": "markdown",
      "metadata": {
        "id": "2I0X1e0HJAta"
      },
      "source": [
        "## Gradient Boosting classifier"
      ]
    },
    {
      "cell_type": "code",
      "metadata": {
        "colab": {
          "base_uri": "https://localhost:8080/"
        },
        "id": "AfO4YNjGJPlB",
        "outputId": "75e9eb7e-a499-490e-d2fe-c89673532df3"
      },
      "source": [
        "gb_classifier = XGBClassifier()\r\n",
        "gb_classifier.fit(x_train, y_train)"
      ],
      "execution_count": 101,
      "outputs": [
        {
          "output_type": "execute_result",
          "data": {
            "text/plain": [
              "XGBClassifier(base_score=0.5, booster='gbtree', colsample_bylevel=1,\n",
              "              colsample_bynode=1, colsample_bytree=1, gamma=0,\n",
              "              learning_rate=0.1, max_delta_step=0, max_depth=3,\n",
              "              min_child_weight=1, missing=None, n_estimators=100, n_jobs=1,\n",
              "              nthread=None, objective='binary:logistic', random_state=0,\n",
              "              reg_alpha=0, reg_lambda=1, scale_pos_weight=1, seed=None,\n",
              "              silent=None, subsample=1, verbosity=1)"
            ]
          },
          "metadata": {
            "tags": []
          },
          "execution_count": 101
        }
      ]
    },
    {
      "cell_type": "code",
      "metadata": {
        "id": "r5JK7ELoJPq-"
      },
      "source": [
        "gb_predictions = gb_classifier.predict(x_test)"
      ],
      "execution_count": 102,
      "outputs": []
    },
    {
      "cell_type": "code",
      "metadata": {
        "colab": {
          "base_uri": "https://localhost:8080/"
        },
        "id": "NVIH1mYqJPw4",
        "outputId": "a05f63f7-22ff-401c-9ecc-962681d92d02"
      },
      "source": [
        "print(\"confusion matrix\")\r\n",
        "print(confusion_matrix(y_test, gb_predictions))\r\n",
        "print(\"___________________\")\r\n",
        "print()\r\n",
        "print(\"classification report\") \r\n",
        "print(classification_report(y_test, gb_predictions)) \r\n",
        "print(\"___________________\")"
      ],
      "execution_count": 103,
      "outputs": [
        {
          "output_type": "stream",
          "text": [
            "confusion matrix\n",
            "[[  60  623]\n",
            " [  20 9516]]\n",
            "___________________\n",
            "\n",
            "classification report\n",
            "              precision    recall  f1-score   support\n",
            "\n",
            "         0.0       0.75      0.09      0.16       683\n",
            "         1.0       0.94      1.00      0.97      9536\n",
            "\n",
            "    accuracy                           0.94     10219\n",
            "   macro avg       0.84      0.54      0.56     10219\n",
            "weighted avg       0.93      0.94      0.91     10219\n",
            "\n",
            "___________________\n"
          ],
          "name": "stdout"
        }
      ]
    },
    {
      "cell_type": "markdown",
      "metadata": {
        "id": "ywLbSC7GPATK"
      },
      "source": [
        "## Keras"
      ]
    },
    {
      "cell_type": "markdown",
      "metadata": {
        "id": "_X4HYIFlYjj0"
      },
      "source": [
        "### tokenize"
      ]
    },
    {
      "cell_type": "code",
      "metadata": {
        "id": "by2LopYZPCfb"
      },
      "source": [
        "keras_x = X.values.tolist()\r\n",
        "keras_y = Y.values.tolist()\r\n",
        "\r\n",
        "sentences = [text_process(x, as_string = True) for x in keras_x]"
      ],
      "execution_count": 173,
      "outputs": []
    },
    {
      "cell_type": "code",
      "metadata": {
        "id": "IhlV18X9Qk0T"
      },
      "source": [
        "tokenizer = Tokenizer()\r\n",
        "tokenizer.fit_on_texts(sentences) \r\n",
        "\r\n",
        "sequences = tokenizer.texts_to_sequences(sentences) \r\n",
        "sentences_lens = [len(sequence) for sequence in sequences]"
      ],
      "execution_count": 186,
      "outputs": []
    },
    {
      "cell_type": "code",
      "metadata": {
        "colab": {
          "base_uri": "https://localhost:8080/",
          "height": 592
        },
        "id": "4tk_s6wgQliM",
        "outputId": "ebbaa63e-4a40-41cf-ce13-f31a84a3aba2"
      },
      "source": [
        "plt.figure(figsize = (10,10)) \r\n",
        "limit = 30\r\n",
        "plt.hist(sentences_lens, bins = np.arange(limit))\r\n",
        "plt.xlim(0,limit)\r\n",
        "\r\n",
        "plt.show()"
      ],
      "execution_count": 192,
      "outputs": [
        {
          "output_type": "display_data",
          "data": {
            "image/png": "[encoded data removed]",
            "text/plain": [
              "<Figure size 720x720 with 1 Axes>"
            ]
          },
          "metadata": {
            "tags": [],
            "needs_background": "light"
          }
        }
      ]
    },
    {
      "cell_type": "code",
      "metadata": {
        "id": "HmXu2HSTQlm5"
      },
      "source": [
        "max_len = 15\r\n",
        "sequences = pad_sequences(sequences, maxlen = max_len, truncating = 'post') "
      ],
      "execution_count": 215,
      "outputs": []
    },
    {
      "cell_type": "markdown",
      "metadata": {
        "id": "6jsw9NpGYpEH"
      },
      "source": [
        "### randomize dataset"
      ]
    },
    {
      "cell_type": "code",
      "metadata": {
        "colab": {
          "base_uri": "https://localhost:8080/"
        },
        "id": "HkXGhak8Ql_E",
        "outputId": "b25ba162-4377-410f-fc1f-d0274e1163a6"
      },
      "source": [
        "np.random.seed(1024)\r\n",
        "perm = np.arange((len(sequences))) \r\n",
        "np.random.shuffle(perm) \r\n",
        "\r\n",
        "sequences = np.array(sequences)[perm] \r\n",
        "labels = np.array(keras_y)[perm]  \r\n",
        "\r\n",
        "sequences.shape, labels.shape"
      ],
      "execution_count": 221,
      "outputs": [
        {
          "output_type": "execute_result",
          "data": {
            "text/plain": [
              "((34061, 15), (34061,))"
            ]
          },
          "metadata": {
            "tags": []
          },
          "execution_count": 221
        }
      ]
    },
    {
      "cell_type": "markdown",
      "metadata": {
        "id": "krN9lltnZmXR"
      },
      "source": [
        "### splitting"
      ]
    },
    {
      "cell_type": "code",
      "metadata": {
        "colab": {
          "base_uri": "https://localhost:8080/"
        },
        "id": "_Oy4hxwJXJuv",
        "outputId": "9241c5b1-a6b3-462b-e469-0e14e82b0938"
      },
      "source": [
        "train_x, test_x, train_y, test_y = train_test_split(sequences, labels, test_size = 0.3)\r\n",
        "train_x.shape, train_y.shape, test_x.shape, test_y.shape"
      ],
      "execution_count": 223,
      "outputs": [
        {
          "output_type": "execute_result",
          "data": {
            "text/plain": [
              "((23842, 15), (23842,), (10219, 15), (10219,))"
            ]
          },
          "metadata": {
            "tags": []
          },
          "execution_count": 223
        }
      ]
    },
    {
      "cell_type": "markdown",
      "metadata": {
        "id": "zOe6pp-RaOKT"
      },
      "source": [
        "### Building model"
      ]
    },
    {
      "cell_type": "code",
      "metadata": {
        "id": "pnoPfSLwamIq"
      },
      "source": [
        "VOCAB_SIZE = len(tokenizer.word_index) + 1 # +1 is for the reserved 0 for padding\r\n",
        "OUTPUT_DIM = 20 \r\n",
        "INPUT_LENGTH = max_len"
      ],
      "execution_count": 225,
      "outputs": []
    },
    {
      "cell_type": "code",
      "metadata": {
        "colab": {
          "base_uri": "https://localhost:8080/"
        },
        "id": "aD7cEhjYXJxR",
        "outputId": "c12fe726-c978-4afb-f8cc-8041cf47fae1"
      },
      "source": [
        "K.clear_session()\r\n",
        "entry = Input(shape = (INPUT_LENGTH))\r\n",
        "model = Embedding(input_dim = VOCAB_SIZE, output_dim= OUTPUT_DIM, input_length = INPUT_LENGTH )(entry)\r\n",
        "model = LSTM(OUTPUT_DIM, return_sequences = True)(model) \r\n",
        "model = LSTM(10)(model) \r\n",
        "model = Dense(5, activation = 'relu')(model)\r\n",
        "model = Dense(1, activation = 'sigmoid')(model)\r\n",
        "model = keras.Model(inputs = entry, outputs = model)\r\n",
        "print(model.summary()) "
      ],
      "execution_count": 234,
      "outputs": [
        {
          "output_type": "stream",
          "text": [
            "Model: \"model\"\n",
            "_________________________________________________________________\n",
            "Layer (type)                 Output Shape              Param #   \n",
            "=================================================================\n",
            "input_1 (InputLayer)         [(None, 15)]              0         \n",
            "_________________________________________________________________\n",
            "embedding (Embedding)        (None, 15, 20)            354820    \n",
            "_________________________________________________________________\n",
            "lstm (LSTM)                  (None, 15, 20)            3280      \n",
            "_________________________________________________________________\n",
            "lstm_1 (LSTM)                (None, 10)                1240      \n",
            "_________________________________________________________________\n",
            "dense (Dense)                (None, 5)                 55        \n",
            "_________________________________________________________________\n",
            "dense_1 (Dense)              (None, 1)                 6         \n",
            "=================================================================\n",
            "Total params: 359,401\n",
            "Trainable params: 359,401\n",
            "Non-trainable params: 0\n",
            "_________________________________________________________________\n",
            "None\n"
          ],
          "name": "stdout"
        }
      ]
    },
    {
      "cell_type": "code",
      "metadata": {
        "colab": {
          "base_uri": "https://localhost:8080/"
        },
        "id": "VtEI62WAaPrJ",
        "outputId": "204520b4-9d2b-4cc2-d56d-3716f1a35bee"
      },
      "source": [
        "optimizer = Adam(lr=0.0001, decay=0.0001);\r\n",
        "\r\n",
        "model.compile(loss='binary_crossentropy', optimizer=optimizer, metrics=['accuracy'])\r\n",
        "model.fit(train_x, train_y, batch_size=16, epochs=5, validation_data=(test_x, test_y))"
      ],
      "execution_count": 236,
      "outputs": [
        {
          "output_type": "stream",
          "text": [
            "Epoch 1/5\n",
            "1491/1491 [==============================] - 28s 16ms/step - loss: 0.4483 - accuracy: 0.9283 - val_loss: 0.2419 - val_accuracy: 0.9349\n",
            "Epoch 2/5\n",
            "1491/1491 [==============================] - 24s 16ms/step - loss: 0.2379 - accuracy: 0.9363 - val_loss: 0.2407 - val_accuracy: 0.9349\n",
            "Epoch 3/5\n",
            "1491/1491 [==============================] - 25s 17ms/step - loss: 0.2328 - accuracy: 0.9379 - val_loss: 0.2407 - val_accuracy: 0.9349\n",
            "Epoch 4/5\n",
            "1491/1491 [==============================] - 24s 16ms/step - loss: 0.2306 - accuracy: 0.9387 - val_loss: 0.2407 - val_accuracy: 0.9349\n",
            "Epoch 5/5\n",
            "1491/1491 [==============================] - 24s 16ms/step - loss: 0.2392 - accuracy: 0.9351 - val_loss: 0.2413 - val_accuracy: 0.9349\n"
          ],
          "name": "stdout"
        },
        {
          "output_type": "execute_result",
          "data": {
            "text/plain": [
              "<tensorflow.python.keras.callbacks.History at 0x7fde56e31128>"
            ]
          },
          "metadata": {
            "tags": []
          },
          "execution_count": 236
        }
      ]
    },
    {
      "cell_type": "markdown",
      "metadata": {
        "id": "Paqfp1IAKxai"
      },
      "source": [
        "# Test"
      ]
    },
    {
      "cell_type": "code",
      "metadata": {
        "id": "drr5p_jMKz7K"
      },
      "source": [
        "sample_negative_rates = relevant_df[relevant_df['reviews.rating']==0.0]['reviews.text'].values[:10]\r\n",
        "sample_positive_rates = relevant_df[relevant_df['reviews.rating']==1.0]['reviews.text'].values[:10]"
      ],
      "execution_count": 243,
      "outputs": []
    },
    {
      "cell_type": "code",
      "metadata": {
        "id": "JIZi92yELhzI"
      },
      "source": [
        "sample_negative_rates = bow_transformer.transform(sample_negative_rates) \r\n",
        "sample_positive_rates = bow_transformer.transform(sample_positive_rates)"
      ],
      "execution_count": 245,
      "outputs": []
    },
    {
      "cell_type": "code",
      "metadata": {
        "colab": {
          "base_uri": "https://localhost:8080/"
        },
        "id": "I8e4cWgxfd9k",
        "outputId": "5ec2edfc-ee93-49ca-d2d8-7946e2d52b6f"
      },
      "source": [
        "sample_negative_rates"
      ],
      "execution_count": 247,
      "outputs": [
        {
          "output_type": "execute_result",
          "data": {
            "text/plain": [
              "<10x17740 sparse matrix of type '<class 'numpy.int64'>'\n",
              "\twith 252 stored elements in Compressed Sparse Row format>"
            ]
          },
          "metadata": {
            "tags": []
          },
          "execution_count": 247
        }
      ]
    },
    {
      "cell_type": "code",
      "metadata": {
        "colab": {
          "base_uri": "https://localhost:8080/"
        },
        "id": "VvitHwoYMPRX",
        "outputId": "22b677bb-2827-4403-8981-eaaed95dc605"
      },
      "source": [
        "classifiers = [naive_bayes, svm, knn, gb_classifier]\r\n",
        "classifier_names = ['naive bayes', 'SVM', 'KNN', 'GradientBoostClassifier']\r\n",
        "for classifier_name, classifier in zip(classifier_names, classifiers) : \r\n",
        "  negative_preds = classifier.predict(sample_negative_rates)\r\n",
        "  positive_preds = classifier.predict(sample_positive_rates) \r\n",
        "  negative_acc = negative_preds.sum() / len(negative_preds) \r\n",
        "  positive_acc = positive_preds.sum() / len(positive_preds) \r\n",
        "  print(\"accuracy of {} for negative rates is {} and for positive rates is {}\".format(classifier_name, negative_acc, positive_acc))"
      ],
      "execution_count": 248,
      "outputs": [
        {
          "output_type": "stream",
          "text": [
            "accuracy of naive bayes for negative rates is 0.5 and for positive rates is 1.0\n",
            "accuracy of SVM for negative rates is 0.5 and for positive rates is 1.0\n",
            "accuracy of KNN for negative rates is 0.9 and for positive rates is 1.0\n",
            "accuracy of GradientBoostClassifier for negative rates is 0.9 and for positive rates is 1.0\n"
          ],
          "name": "stdout"
        }
      ]
    },
    {
      "cell_type": "markdown",
      "metadata": {
        "id": "JqbYtd8CHJi4"
      },
      "source": [
        "\r\n",
        "# End Of D\r\n",
        "---\r\n",
        "\r\n",
        "---\r\n",
        "\r\n",
        "---\r\n",
        "\r\n",
        "---\r\n",
        "\r\n",
        "---\r\n",
        "\r\n",
        "---\r\n",
        "\r\n",
        "---\r\n",
        "\r\n",
        "---\r\n",
        "\r\n",
        "---\r\n",
        "\r\n",
        "\r\n",
        "\r\n",
        "\r\n",
        "\r\n",
        "\r\n"
      ]
    }
  ]
}